{
 "cells": [
  {
   "cell_type": "code",
   "execution_count": 6,
   "metadata": {},
   "outputs": [
    {
     "name": "stdout",
     "output_type": "stream",
     "text": [
      "2.0\n"
     ]
    }
   ],
   "source": [
    "print(4 ** 0.5)"
   ]
  },
  {
   "cell_type": "code",
   "execution_count": 5,
   "metadata": {},
   "outputs": [
    {
     "name": "stdout",
     "output_type": "stream",
     "text": [
      "2.0\n"
     ]
    }
   ],
   "source": [
    "import math\n",
    "print(math.sqrt(4))"
   ]
  },
  {
   "cell_type": "code",
   "execution_count": 15,
   "metadata": {},
   "outputs": [
    {
     "name": "stdout",
     "output_type": "stream",
     "text": [
      "n  13\n",
      "max num to check  3\n",
      "i  2\n",
      "n % i 1\n",
      "True\n"
     ]
    }
   ],
   "source": [
    "def is_prime(n: int) -> bool:\n",
    "    print('n ', n)\n",
    "    if n <= 1:\n",
    "        return False\n",
    "    max_num = int(n ** 0.5) #+ 1\n",
    "    # max_num = n\n",
    "    print('max num to check ', max_num)\n",
    "    for i in range(2, max_num):\n",
    "        print('i ', i)\n",
    "        print(\"n % i\", n % i)\n",
    "        if n % i == 0:\n",
    "            return False\n",
    "    return True\n",
    "\n",
    "print(is_prime(13))\n"
   ]
  },
  {
   "cell_type": "code",
   "execution_count": 50,
   "metadata": {},
   "outputs": [
    {
     "name": "stdout",
     "output_type": "stream",
     "text": [
      "node 1 \n",
      "1\n",
      "5\n",
      "node 2\n",
      "2\n",
      "4\n",
      "6\n",
      "count of n1  2\n",
      "Merged nodes\n",
      "1\n",
      "2\n",
      "4\n",
      "5\n",
      "6\n"
     ]
    }
   ],
   "source": [
    "# merge two sorted linked list\n",
    "class ListNode():\n",
    "    def __init__(self, val) -> None:\n",
    "        self.val = val\n",
    "        self.next = None\n",
    "\n",
    "def create_node(elements):\n",
    "    first_node = ListNode(elements[0])\n",
    "    current_node = first_node\n",
    "\n",
    "    for e in elements[1:]:\n",
    "        current_node.next = ListNode(e)\n",
    "        current_node = current_node.next\n",
    "\n",
    "    return first_node\n",
    "\n",
    "def display_node(node: ListNode):\n",
    "    current_node = node\n",
    "    while current_node.next != None:\n",
    "        print(current_node.val)\n",
    "        current_node = current_node.next\n",
    "    #print last object\n",
    "    print(current_node.val)\n",
    "\n",
    "n1 = create_node([1,5])\n",
    "n2 = create_node([2,4,6])\n",
    "print('node 1 ')\n",
    "display_node(n1)\n",
    "print('node 2')\n",
    "display_node(n2)\n",
    "\n",
    "def len_of_node(node: ListNode):\n",
    "    current_node = node\n",
    "    count = 1\n",
    "    while current_node.next:\n",
    "        count += 1\n",
    "        current_node = current_node.next\n",
    "\n",
    "    return count\n",
    "\n",
    "print('count of n1 ', len_of_node(n1))\n",
    "\n",
    "def merge_node(n1: ListNode, n2: ListNode):\n",
    "    merged_node_list = ListNode(None)\n",
    "    current_node = merged_node_list\n",
    "\n",
    "    while n1 and n2:\n",
    "        if n1.val < n2.val:\n",
    "            current_node.next = n1\n",
    "            n1 = n1.next\n",
    "        else:\n",
    "            current_node.next = n2\n",
    "            n2 = n2.next\n",
    "\n",
    "        current_node = current_node.next\n",
    "\n",
    "    current_node.next = n1 if n1 else n2\n",
    "\n",
    "    return merged_node_list.next\n",
    "\n",
    "merged_nodes = merge_node(n2, n1)\n",
    "print('Merged nodes')\n",
    "display_node(merged_nodes)"
   ]
  },
  {
   "cell_type": "code",
   "execution_count": 55,
   "metadata": {},
   "outputs": [
    {
     "name": "stdout",
     "output_type": "stream",
     "text": [
      "1\n",
      "5\n",
      "7\n",
      "reversing node\n",
      "7\n",
      "5\n",
      "1\n"
     ]
    }
   ],
   "source": [
    "n3 = create_node([1,5,7])\n",
    "display_node(n3)\n",
    "\n",
    "def reverse_node(ns: ListNode):\n",
    "    if not ns or not ns.next:\n",
    "        return ns\n",
    "    \n",
    "    newNode = reverse_node(ns.next)\n",
    "    ns.next.next = ns\n",
    "    ns.next = None\n",
    "    return newNode\n",
    "\n",
    "print('reversing node')\n",
    "n3_reversed = reverse_node(n3)\n",
    "display_node(n3_reversed)"
   ]
  },
  {
   "cell_type": "code",
   "execution_count": null,
   "metadata": {},
   "outputs": [],
   "source": [
    "char_maps = [\"abc\", \"abc\", \"b\", \"b\"]\n",
    "\n"
   ]
  },
  {
   "cell_type": "code",
   "execution_count": 1,
   "metadata": {},
   "outputs": [
    {
     "data": {
      "text/plain": [
       "[[1, 6], [8, 10], [15, 18]]"
      ]
     },
     "execution_count": 1,
     "metadata": {},
     "output_type": "execute_result"
    }
   ],
   "source": [
    "def merge_intervals(intervals):\n",
    "    if not intervals:\n",
    "        return []\n",
    "    intervals.sort(key=lambda x: x[0])\n",
    "    merged = [intervals[0]]\n",
    "    for current in intervals[1:]:\n",
    "        last_merged = merged[-1]\n",
    "        if current[0] <= last_merged[1]:\n",
    "            last_merged[1] = max(last_merged[1], current[1])\n",
    "        else:\n",
    "            merged.append(current)\n",
    "    return merged\n",
    "\n",
    "merge_intervals([[1,3],[2,6],[8,10],[15,18]])"
   ]
  },
  {
   "cell_type": "code",
   "execution_count": 4,
   "metadata": {},
   "outputs": [
    {
     "data": {
      "text/plain": [
       "4"
      ]
     },
     "execution_count": 4,
     "metadata": {},
     "output_type": "execute_result"
    }
   ],
   "source": [
    "9 // 2"
   ]
  },
  {
   "cell_type": "code",
   "execution_count": null,
   "metadata": {},
   "outputs": [],
   "source": []
  },
  {
   "cell_type": "code",
   "execution_count": 57,
   "metadata": {},
   "outputs": [
    {
     "name": "stdout",
     "output_type": "stream",
     "text": [
      "abc\n",
      "acb\n",
      "cab\n",
      "cba\n",
      "abc\n",
      "acb\n"
     ]
    }
   ],
   "source": [
    "def permute(data_list, i, length):\n",
    "    if i == length:\n",
    "        print(''.join(data_list))\n",
    "    else:\n",
    "        for j in range(i, length):\n",
    "            data_list[j], data_list[i] = data_list[i], data_list[j]\n",
    "            permute(data_list, i + 1, length)\n",
    "            data_list[i], data_list[j] = data_list[i], data_list[j]\n",
    "\n",
    "text = \"abc\"\n",
    "permute(list(text), 0, len(text))\n"
   ]
  },
  {
   "cell_type": "code",
   "execution_count": 58,
   "metadata": {},
   "outputs": [
    {
     "name": "stdout",
     "output_type": "stream",
     "text": [
      "abc\n",
      "acb\n",
      "bac\n",
      "bca\n",
      "cba\n",
      "cab\n"
     ]
    }
   ],
   "source": [
    "def permutations(string, step = 0):\n",
    "\n",
    "    # if we've gotten to the end, print the permutation\n",
    "    if step == len(string):\n",
    "        print(\"\".join(string))\n",
    "\n",
    "    # everything to the right of step has not been swapped yet\n",
    "    for i in range(step, len(string)):\n",
    "\n",
    "        # copy the string (store as array)\n",
    "        string_copy = [character for character in string]\n",
    "\n",
    "        # swap the current index with the step\n",
    "        string_copy[step], string_copy[i] = string_copy[i], string_copy[step]\n",
    "\n",
    "        # recurse on the portion of the string that has not been swapped yet (now it's index will begin with step + 1)\n",
    "        permutations(string_copy, step + 1)\n",
    "\n",
    "permutations(\"abc\", 0)"
   ]
  },
  {
   "cell_type": "code",
   "execution_count": 63,
   "metadata": {},
   "outputs": [
    {
     "name": "stdout",
     "output_type": "stream",
     "text": [
      "[2, 1, 3, 12, 0, 0]\n"
     ]
    }
   ],
   "source": [
    "def move_zeros(nums):\n",
    "    last_non_zero_ix = 0\n",
    "    for i in range(len(nums)):\n",
    "        if nums[i] != 0:\n",
    "            nums[last_non_zero_ix], nums[i] = nums[i], nums[last_non_zero_ix]\n",
    "            last_non_zero_ix += 1\n",
    "\n",
    "    return nums\n",
    "\n",
    "print(move_zeros([2,0,1,0,3,12]))"
   ]
  },
  {
   "cell_type": "code",
   "execution_count": 72,
   "metadata": {},
   "outputs": [
    {
     "data": {
      "text/plain": [
       "3"
      ]
     },
     "execution_count": 72,
     "metadata": {},
     "output_type": "execute_result"
    }
   ],
   "source": [
    "def longest_subarray_with_sum_zero(nums):\n",
    "    sum_to_index = {}\n",
    "    cumulative_sum = 0\n",
    "    max_length = 0\n",
    "\n",
    "    for i, num in enumerate(nums):\n",
    "        cumulative_sum += num\n",
    "\n",
    "        if cumulative_sum == 0:\n",
    "            max_length = i + 1\n",
    "        elif cumulative_sum in sum_to_index:\n",
    "            max_length = max(max_length, i - sum_to_index[cumulative_sum])\n",
    "        else:\n",
    "            sum_to_index[cumulative_sum] = i\n",
    "\n",
    "    return max_length\n",
    "\n",
    "longest_subarray_with_sum_zero([0,2,-2,5,4,-3,-1])"
   ]
  },
  {
   "cell_type": "code",
   "execution_count": 74,
   "metadata": {},
   "outputs": [
    {
     "name": "stdout",
     "output_type": "stream",
     "text": [
      "[6, 7, 1, 2, 3, 4, 5]\n"
     ]
    }
   ],
   "source": [
    "def rotate(nums, k):\n",
    "    n = len(nums)\n",
    "    k = k % n\n",
    "\n",
    "    def reverse(start, end):\n",
    "        while start < end:\n",
    "            nums[start], nums[end] = nums[end], nums[start]\n",
    "            start += 1\n",
    "            end -= 1\n",
    "\n",
    "    reverse(0, n-1)\n",
    "    reverse(0, k-1)\n",
    "    reverse(k, n-1)\n",
    "\n",
    "# Example usage\n",
    "arr = [1, 2, 3, 4, 5, 6, 7]\n",
    "rotate(arr, 2)\n",
    "print(arr)  # Output: [5, 6, 7, 1, 2, 3, 4]\n"
   ]
  }
 ],
 "metadata": {
  "kernelspec": {
   "display_name": "base",
   "language": "python",
   "name": "python3"
  },
  "language_info": {
   "codemirror_mode": {
    "name": "ipython",
    "version": 3
   },
   "file_extension": ".py",
   "mimetype": "text/x-python",
   "name": "python",
   "nbconvert_exporter": "python",
   "pygments_lexer": "ipython3",
   "version": "3.10.8"
  }
 },
 "nbformat": 4,
 "nbformat_minor": 2
}
