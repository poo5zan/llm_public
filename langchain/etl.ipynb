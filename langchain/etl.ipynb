{
 "cells": [
  {
   "cell_type": "markdown",
   "metadata": {},
   "source": [
    "RAG ETL"
   ]
  },
  {
   "cell_type": "code",
   "execution_count": 16,
   "metadata": {},
   "outputs": [],
   "source": [
    "import os\n",
    "from langchain_community.document_loaders import PyPDFLoader\n",
    "from langchain_core.documents import Document\n",
    "from chromadbx import UUIDGenerator\n",
    "import chromadb\n",
    "from tqdm import tqdm\n",
    "import datetime\n",
    "\n",
    "class FileHelper():\n",
    "    def populate_file_paths(self, dir_path, files):\n",
    "        directories = os.listdir(dir_path)\n",
    "        for dircontent in directories:\n",
    "            # ignore hidden files\n",
    "            if dircontent.startswith(\".\"):\n",
    "                continue\n",
    "            file_path = os.path.join(dir_path, dircontent)\n",
    "            if os.path.isfile(file_path):\n",
    "                files.append(file_path)\n",
    "            elif os.path.isdir(file_path):\n",
    "                self.populate_file_paths(file_path, files)\n",
    "\n",
    "    def read_documents(self, file_paths):\n",
    "        pages_all = []\n",
    "        for file_path in file_paths:\n",
    "            loader = PyPDFLoader(file_path)\n",
    "            pages = loader.load_and_split()\n",
    "            pages_all.extend(pages)\n",
    "\n",
    "        return pages_all\n",
    "\n",
    "class IterHelper():\n",
    "    def batched(self, iterable, n):\n",
    "        if n < 1:\n",
    "            raise ValueError('n must be at least one')\n",
    "\n",
    "        for i in range(0, len(iterable), n):\n",
    "            yield iterable[i: i + n]\n",
    "\n",
    "class TimeHelper():\n",
    "    def get_utc_now(self):\n",
    "        return datetime.datetime.now(datetime.timezone.utc)\n",
    "\n",
    "    def get_elapsed_seconds(self, start_time: datetime):\n",
    "        return (self.get_utc_now() - start_time).total_seconds()\n",
    "\n",
    "class ChomaDbRepository():\n",
    "    def __init__(self, collection_name):\n",
    "        self.collection_name = collection_name\n",
    "        self.client = chromadb.PersistentClient()\n",
    "        self.collection = self.client.get_or_create_collection(collection_name)       \n",
    "\n",
    "    def add_to_collection(self, documents_list: list[Document]) -> None:\n",
    "        ids = UUIDGenerator(len(documents_list))\n",
    "        self.collection.add(ids=ids,\n",
    "                metadatas=[p.metadata for p in documents_list],\n",
    "                documents=[p.page_content for p in documents_list])\n",
    "        \n",
    "    def get_data_by_source(self, source: str):\n",
    "        return self.collection.get(where={\"source\":source})\n",
    "    \n",
    "    def delete_data_by_source(self, source: str):\n",
    "        self.collection.delete(where={\"source\":source})\n",
    "    "
   ]
  },
  {
   "cell_type": "code",
   "execution_count": 17,
   "metadata": {},
   "outputs": [
    {
     "name": "stdout",
     "output_type": "stream",
     "text": [
      "root path  /Users/pujanmaharjan/pdfs/agile\n"
     ]
    },
    {
     "data": {
      "text/plain": [
       "['/Users/pujanmaharjan/pdfs/agile/Kameron H. Clean Code. An Agile Guide to Software Craft 2023.pdf',\n",
       " '/Users/pujanmaharjan/pdfs/agile/akka/Abraham F. Akka in Action (MEAP v13) 2ed 2023.pdf']"
      ]
     },
     "execution_count": 17,
     "metadata": {},
     "output_type": "execute_result"
    }
   ],
   "source": [
    "# constants\n",
    "ROOT_DIR = \"/Users/pujanmaharjan/pdfs\"\n",
    "\n",
    "file_helper = FileHelper()\n",
    "\n",
    "files = []\n",
    "root_path = os.path.join(ROOT_DIR, \"agile\")\n",
    "print('root path ', root_path)\n",
    "file_helper.populate_file_paths(root_path, files)\n",
    "files"
   ]
  },
  {
   "cell_type": "code",
   "execution_count": 18,
   "metadata": {},
   "outputs": [],
   "source": [
    "pages = file_helper.read_documents(files)"
   ]
  },
  {
   "cell_type": "code",
   "execution_count": null,
   "metadata": {},
   "outputs": [],
   "source": [
    "print(\"Total number of pages \", len(pages))"
   ]
  },
  {
   "cell_type": "code",
   "execution_count": 19,
   "metadata": {},
   "outputs": [],
   "source": [
    "collection_name = \"docs_collection\"\n",
    "batch_size = 5\n",
    "chroma_db_repository = ChomaDbRepository(collection_name)\n",
    "#if file already exists, then delete them, and add again\n",
    "\n",
    "def add_to_db(pages, batch_size):\n",
    "    sources = list(set([p.metadata['source'] for p in pages]))\n",
    "    for source in sources:\n",
    "        source_data = chroma_db_repository.get_data_by_source(source)\n",
    "        if len(source_data[\"ids\"]) > 0:\n",
    "            print(\"previous data found so delete them \", source)\n",
    "            chroma_db_repository.delete_data_by_source(source)\n",
    "\n",
    "    time_helper = TimeHelper()\n",
    "    start_time = time_helper.get_utc_now()\n",
    "    iter_helper = IterHelper()\n",
    "\n",
    "    for page_batch in tqdm(iter_helper.batched(pages, batch_size), total=len(pages)/batch_size):\n",
    "        start_time_batch = time_helper.get_utc_now()\n",
    "        chroma_db_repository.add_to_collection(page_batch)\n",
    "        # print(f\"Added {batch_size} record in {time_helper.get_elapsed_seconds(start_time_batch)} seconds\")\n",
    "\n",
    "    total_elapsed = time_helper.get_elapsed_seconds(start_time)\n",
    "    print(f\"Added {len(pages)} records in {total_elapsed} seconds\")\n",
    "    return {\"batch_size\": batch_size, \"elapsed\": total_elapsed}\n"
   ]
  },
  {
   "cell_type": "code",
   "execution_count": 20,
   "metadata": {},
   "outputs": [
    {
     "name": "stdout",
     "output_type": "stream",
     "text": [
      "Batch size  1\n",
      "previous data found so delete them  /Users/pujanmaharjan/pdfs/agile/Kameron H. Clean Code. An Agile Guide to Software Craft 2023.pdf\n",
      "previous data found so delete them  /Users/pujanmaharjan/pdfs/agile/akka/Abraham F. Akka in Action (MEAP v13) 2ed 2023.pdf\n"
     ]
    },
    {
     "name": "stderr",
     "output_type": "stream",
     "text": [
      "100%|██████████| 962/962.0 [01:23<00:00, 11.47it/s]\n"
     ]
    },
    {
     "name": "stdout",
     "output_type": "stream",
     "text": [
      "Added 962 records in 83.851577 seconds\n",
      "Batch size  3\n",
      "previous data found so delete them  /Users/pujanmaharjan/pdfs/agile/Kameron H. Clean Code. An Agile Guide to Software Craft 2023.pdf\n",
      "previous data found so delete them  /Users/pujanmaharjan/pdfs/agile/akka/Abraham F. Akka in Action (MEAP v13) 2ed 2023.pdf\n"
     ]
    },
    {
     "name": "stderr",
     "output_type": "stream",
     "text": [
      "100%|█████████▉| 320/320.6666666666667 [01:23<00:00,  3.85it/s]/Users/pujanmaharjan/Projects/llm_public/langchain/.venv_langchain/lib/python3.10/site-packages/tqdm/std.py:636: TqdmWarning: clamping frac to range [0, 1]\n",
      "  full_bar = Bar(frac,\n",
      "100%|██████████| 321/320.6666666666667 [01:23<00:00,  3.85it/s]\n"
     ]
    },
    {
     "name": "stdout",
     "output_type": "stream",
     "text": [
      "Added 962 records in 83.294511 seconds\n",
      "Batch size  5\n",
      "previous data found so delete them  /Users/pujanmaharjan/pdfs/agile/Kameron H. Clean Code. An Agile Guide to Software Craft 2023.pdf\n",
      "previous data found so delete them  /Users/pujanmaharjan/pdfs/agile/akka/Abraham F. Akka in Action (MEAP v13) 2ed 2023.pdf\n"
     ]
    },
    {
     "name": "stderr",
     "output_type": "stream",
     "text": [
      "193it [01:41,  1.90it/s]                           \n"
     ]
    },
    {
     "name": "stdout",
     "output_type": "stream",
     "text": [
      "Added 962 records in 101.583143 seconds\n",
      "Batch size  7\n",
      "previous data found so delete them  /Users/pujanmaharjan/pdfs/agile/Kameron H. Clean Code. An Agile Guide to Software Craft 2023.pdf\n",
      "previous data found so delete them  /Users/pujanmaharjan/pdfs/agile/akka/Abraham F. Akka in Action (MEAP v13) 2ed 2023.pdf\n"
     ]
    },
    {
     "name": "stderr",
     "output_type": "stream",
     "text": [
      "138it [06:22,  2.77s/it]                                        \n"
     ]
    },
    {
     "name": "stdout",
     "output_type": "stream",
     "text": [
      "Added 962 records in 382.770732 seconds\n",
      "Batch size  9\n",
      "previous data found so delete them  /Users/pujanmaharjan/pdfs/agile/Kameron H. Clean Code. An Agile Guide to Software Craft 2023.pdf\n",
      "previous data found so delete them  /Users/pujanmaharjan/pdfs/agile/akka/Abraham F. Akka in Action (MEAP v13) 2ed 2023.pdf\n"
     ]
    },
    {
     "name": "stderr",
     "output_type": "stream",
     "text": [
      "100%|██████████| 107/106.88888888888889 [09:03<00:00,  5.08s/it]\n"
     ]
    },
    {
     "name": "stdout",
     "output_type": "stream",
     "text": [
      "Added 962 records in 543.628044 seconds\n"
     ]
    }
   ],
   "source": [
    "batch_sizes = [1,3,5,7,9]\n",
    "batch_size_results = []\n",
    "for batch_size in batch_sizes:\n",
    "    print(\"Batch size \", batch_size)\n",
    "    result = add_to_db(pages, batch_size)\n",
    "    batch_size_results.add(result)"
   ]
  },
  {
   "cell_type": "code",
   "execution_count": 21,
   "metadata": {},
   "outputs": [
    {
     "data": {
      "text/html": [
       "<div>\n",
       "<style scoped>\n",
       "    .dataframe tbody tr th:only-of-type {\n",
       "        vertical-align: middle;\n",
       "    }\n",
       "\n",
       "    .dataframe tbody tr th {\n",
       "        vertical-align: top;\n",
       "    }\n",
       "\n",
       "    .dataframe thead th {\n",
       "        text-align: right;\n",
       "    }\n",
       "</style>\n",
       "<table border=\"1\" class=\"dataframe\">\n",
       "  <thead>\n",
       "    <tr style=\"text-align: right;\">\n",
       "      <th></th>\n",
       "    </tr>\n",
       "  </thead>\n",
       "  <tbody>\n",
       "  </tbody>\n",
       "</table>\n",
       "</div>"
      ],
      "text/plain": [
       "Empty DataFrame\n",
       "Columns: []\n",
       "Index: []"
      ]
     },
     "execution_count": 21,
     "metadata": {},
     "output_type": "execute_result"
    }
   ],
   "source": [
    "import pandas as pd\n",
    "batch_size_results_df = pd.DataFrame(batch_size_results)\n",
    "batch_size_results_df"
   ]
  }
 ],
 "metadata": {
  "kernelspec": {
   "display_name": ".venv_langchain",
   "language": "python",
   "name": "python3"
  },
  "language_info": {
   "codemirror_mode": {
    "name": "ipython",
    "version": 3
   },
   "file_extension": ".py",
   "mimetype": "text/x-python",
   "name": "python",
   "nbconvert_exporter": "python",
   "pygments_lexer": "ipython3",
   "version": "3.10.8"
  }
 },
 "nbformat": 4,
 "nbformat_minor": 2
}
