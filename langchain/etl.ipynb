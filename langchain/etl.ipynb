{
 "cells": [
  {
   "cell_type": "markdown",
   "metadata": {},
   "source": [
    "RAG ETL"
   ]
  },
  {
   "cell_type": "code",
   "execution_count": 1,
   "metadata": {},
   "outputs": [],
   "source": [
    "# load imports\n",
    "import os\n",
    "import chromadb\n",
    "from langchain_core.documents import Document\n",
    "from chromadbx import UUIDGenerator\n",
    "from tqdm import tqdm\n",
    "import datetime\n",
    "import pandas as pd\n",
    "from joblib import Parallel, delayed\n",
    "import uuid\n",
    "from langchain_community.document_loaders import PyPDFLoader\n",
    "from langchain_community.document_loaders import PyMuPDFLoader\n",
    "from langchain_community.document_loaders import PyPDFium2Loader\n",
    "from pymilvus import MilvusClient\n",
    "from langchain_community.embeddings import HuggingFaceBgeEmbeddings\n",
    "from pymilvus import CollectionSchema, FieldSchema, DataType, Collection\n"
   ]
  },
  {
   "cell_type": "code",
   "execution_count": 2,
   "metadata": {},
   "outputs": [],
   "source": [
    "# function decorator to log the execution time of function\n",
    "import functools\n",
    "def log_execution_time(func):\n",
    "    @functools.wraps(func)\n",
    "    def log_execution_time_wrapper(*args, **kwargs):\n",
    "        time_helper = TimeHelper()\n",
    "        start_time = time_helper.get_utc_now()\n",
    "        print(f\"Execution Start time {start_time}\")\n",
    "        result = func(*args, **kwargs)\n",
    "        elapsed = time_helper.get_elapsed_seconds(start_time)\n",
    "        print(f\"Execution End time {time_helper.get_utc_now()}. Elapsed total seconds {elapsed}\")\n",
    "        return result\n",
    "    \n",
    "    return log_execution_time_wrapper"
   ]
  },
  {
   "cell_type": "code",
   "execution_count": 3,
   "metadata": {},
   "outputs": [],
   "source": [
    "class FileHelper():\n",
    "    \"\"\"\n",
    "        Helper class for Files\n",
    "    \"\"\"\n",
    "    def populate_file_paths(self, dir_path, files):\n",
    "        directories = os.listdir(dir_path)\n",
    "        for dircontent in directories:\n",
    "            if dircontent.startswith(\".\"):\n",
    "                continue\n",
    "            file_path = os.path.join(dir_path, dircontent)\n",
    "            if os.path.isfile(file_path):\n",
    "                files.append(file_path)\n",
    "            elif os.path.isdir(file_path):\n",
    "                self.populate_file_paths(file_path, files)\n",
    "\n",
    "    def load_documents(self, file_path, document_loader):\n",
    "        loader = document_loader(file_path)\n",
    "        return loader.load_and_split()\n",
    "\n",
    "    def read_documents(self, file_paths, document_loader, n_jobs=2):\n",
    "        pages_all = []\n",
    "        pages = Parallel(n_jobs=n_jobs)(delayed(self.load_documents)(file_path, document_loader) for file_path in file_paths)\n",
    "        for page in pages:\n",
    "            pages_all.extend(page)\n",
    "        \n",
    "        return pages_all"
   ]
  },
  {
   "cell_type": "code",
   "execution_count": 4,
   "metadata": {},
   "outputs": [],
   "source": [
    "class IterHelper():\n",
    "    def batched(self, iterable, n):\n",
    "        if n < 1:\n",
    "            raise ValueError('n must be at least one')\n",
    "\n",
    "        for i in range(0, len(iterable), n):\n",
    "            yield iterable[i: i + n]\n",
    "\n",
    "class TimeHelper():\n",
    "    def get_utc_now(self):\n",
    "        return datetime.datetime.now(datetime.timezone.utc)\n",
    "\n",
    "    def get_elapsed_seconds(self, start_time: datetime):\n",
    "        return (self.get_utc_now() - start_time).total_seconds()\n",
    "\n",
    "class IdHelper():\n",
    "    def new_id(self):\n",
    "        return str(uuid.uuid4())\n",
    "\n",
    "    def new_ids(self, num: int):\n",
    "        return [self.new_id() for x in range(num)]\n",
    "   \n",
    "class VectorDbRepository():\n",
    "    def __init__(self, collection_name, repository):\n",
    "        self.collection_name = collection_name\n",
    "        self.repository = repository(collection_name)\n",
    "\n",
    "    def delete_collection(self):\n",
    "        self.repository.delete_collection()\n",
    "\n",
    "    def get_or_create_collection(self, collection_name):\n",
    "        return self.repository.get_or_create_collection(collection_name)\n",
    "\n",
    "    def create(self, documents_list: list[Document]) -> None:\n",
    "        return self.repository.create(documents_list)\n",
    "        \n",
    "    def get_data_by_source(self, source: str):\n",
    "        return self.repository.get_data_by_source(source)\n",
    "\n",
    "    def has_data_for_source(self, source: str):\n",
    "        return self.repository.has_data_for_source(source)\n",
    "    \n",
    "    def delete_data_by_source(self, source: str):\n",
    "        return self.repository.delete_data_by_source(source)\n",
    "\n",
    "    def find(self, search_query: str):\n",
    "        return self.repository.find(search_query)"
   ]
  },
  {
   "cell_type": "code",
   "execution_count": 5,
   "metadata": {},
   "outputs": [],
   "source": [
    "class EmbeddingHelper():\n",
    "    def __init__(self):\n",
    "        model_name = \"BAAI/bge-small-en\"\n",
    "        model_kwargs = {\"device\": \"mps\"}\n",
    "        encode_kwargs = {\"normalize_embeddings\": True}\n",
    "        self.hf_bge_embedding = HuggingFaceBgeEmbeddings(\n",
    "            model_name=model_name,\n",
    "            model_kwargs=model_kwargs,\n",
    "            encode_kwargs=encode_kwargs)\n",
    "\n",
    "    @log_execution_time\n",
    "    def embed(self, query):\n",
    "        print(\"Starting embedding\")\n",
    "       \n",
    "        return self.hf_bge_embedding.embed_query(query)\n"
   ]
  },
  {
   "cell_type": "code",
   "execution_count": 6,
   "metadata": {},
   "outputs": [],
   "source": [
    "class ChromaDbRepository():\n",
    "    def __init__(self, collection_name):\n",
    "        self.collection_name = collection_name\n",
    "        self.client = chromadb.PersistentClient()\n",
    "        self.collection = self.get_or_create_collection()\n",
    "\n",
    "    def delete_collection(self):\n",
    "        self.client.delete_collection(self.collection_name)\n",
    "\n",
    "    def get_or_create_collection(self):\n",
    "        return self.client.get_or_create_collection(self.collection_name)\n",
    "\n",
    "    def create(self, documents_list: list[Document]) -> None:\n",
    "        ids = IdHelper().new_ids(len(documents_list))\n",
    "        embedding_helper = EmbeddingHelper()\n",
    "        return self.collection.add(ids=ids,\n",
    "                metadatas=[p.metadata for p in documents_list],\n",
    "                documents=[p.page_content for p in documents_list],\n",
    "                embeddings=[embedding_helper.embed(p.page_content) for p in documents_list])\n",
    "        \n",
    "    def get_data_by_source(self, source: str):\n",
    "        return self.collection.get(where={\"source\":source})\n",
    "\n",
    "    def has_data_for_source(self, source: str):\n",
    "        data_by_source = self.get_data_by_source(source)\n",
    "        return len(data_by_source[\"ids\"]) > 0\n",
    "    \n",
    "    def delete_data_by_source(self, source: str):\n",
    "        return self.collection.delete(where={\"source\":source})\n",
    "\n",
    "    def find(self, search_query: str):\n",
    "        results = self.collection.query(query_texts=[search_query])\n",
    "        result_documents = results.get(\"documents\")\n",
    "        if result_documents and len(result_documents) > 0:\n",
    "            return ' '.join(result_documents[0])\n",
    "        "
   ]
  },
  {
   "cell_type": "code",
   "execution_count": 7,
   "metadata": {},
   "outputs": [],
   "source": [
    "class PdfCollectionHelper():\n",
    "    def __init__(self):\n",
    "        self.embedding_helper = EmbeddingHelper()\n",
    "\n",
    "    def get_schema(self):\n",
    "        pdf_id = FieldSchema(\n",
    "            name=\"id\",\n",
    "            dtype=DataType.VARCHAR,\n",
    "            is_primary=True,\n",
    "            auto_id=False,\n",
    "            max_length=100)\n",
    "        source = FieldSchema(\n",
    "            name=\"source\",\n",
    "            dtype=DataType.VARCHAR,\n",
    "            max_length=200)\n",
    "        page_number = FieldSchema(\n",
    "            name=\"page\",\n",
    "            dtype=DataType.VARCHAR,\n",
    "            max_length=10)\n",
    "        text = FieldSchema(\n",
    "            name=\"text\",\n",
    "            dtype=DataType.VARCHAR,\n",
    "            max_length=6000)\n",
    "        text_vector = FieldSchema(\n",
    "            name=\"text_vector\",\n",
    "            dtype=DataType.FLOAT_VECTOR,\n",
    "            dim=384)\n",
    "        return CollectionSchema(\n",
    "            fields=[pdf_id, source, page_number, text, text_vector],\n",
    "            description=\"PDF Documents\",\n",
    "            enable_dynamic_field=True)\n",
    "\n",
    "    def get_index_params(self, client):\n",
    "        index_params = client.prepare_index_params()\n",
    "        index_params.add_index(field_name=\"source\", index_type=\"AUTOINDEX\")\n",
    "        index_params.add_index(field_name=\"text_vector\", index_type=\"AUTOINDEX\", metric_type=\"L2\")\n",
    "        return index_params\n",
    "\n",
    "    def new_data(self, document: Document):\n",
    "        return {\n",
    "            \"id\": IdHelper().new_id(),\n",
    "            \"source\": document.metadata.get(\"source\"),\n",
    "            \"page\": str(document.metadata.get(\"page\")),\n",
    "            \"text\": document.page_content,\n",
    "            \"text_vector\": self.embedding_helper.embed(document.page_content)\n",
    "        }\n",
    "\n",
    "class MilvusDbRepository():\n",
    "    def __init__(self, collection_name):\n",
    "        self.collection_name = collection_name\n",
    "        self.client = MilvusClient(uri=\"http://localhost:19530\", token=\"root:Milvus\")\n",
    "        self.get_or_create_collection()\n",
    "   \n",
    "    def get_collection_helper(self):\n",
    "        if self.collection_name == \"pdfs\":\n",
    "            return PdfCollectionHelper()\n",
    "\n",
    "    def delete_collection(self):\n",
    "        if self.client.has_collection(self.collection_name):\n",
    "            print(f\"Deleting collection {self.collection_name}\")\n",
    "            self.client.drop_collection(collection_name = self.collection_name)\n",
    "\n",
    "    def get_or_create_collection(self):\n",
    "        if not self.client.has_collection(self.collection_name):\n",
    "            print(f\"Creating collection {self.collection_name}\")\n",
    "            collection_helper = self.get_collection_helper()      \n",
    "            self.client.create_collection(\n",
    "                collection_name = self.collection_name,\n",
    "                schema = collection_helper.get_schema(),\n",
    "                index_params = collection_helper.get_index_params(self.client))\n",
    "\n",
    "    def create(self, documents_list: list[Document]) -> None:\n",
    "        collection_helper = self.get_collection_helper()\n",
    "        data = [collection_helper.new_data(d) for d in documents_list]\n",
    "        print(\"data to add \", data)\n",
    "        return self.client.insert(\n",
    "            collection_name=self.collection_name,\n",
    "            data=data)\n",
    "        \n",
    "    def get_data_by_source(self, source: str):\n",
    "        return self.client.query(\n",
    "            collection_name=self.collection_name,\n",
    "            filter=f\"source == '{source}'\")\n",
    "\n",
    "    def has_data_for_source(self, source: str):\n",
    "        data_by_source = self.get_data_by_source(source)\n",
    "        return len(data_by_source) > 0\n",
    "    \n",
    "    def delete_data_by_source(self, source: str):\n",
    "        # Delete entities by a filter expression\n",
    "        return self.client.delete(\n",
    "            collection_name=self.collection_name,\n",
    "            filter=f\"source == '{source}'\")\n",
    "\n",
    "    def find(self, search_query: str):\n",
    "        search_embedding = EmbeddingHelper().embed(search_query)\n",
    "        search_result = self.client.search(collection_name=self.collection_name,\n",
    "            data=[search_embedding],\n",
    "            output_fields=[\"text\"])\n",
    "        print('Search result ', search_result)\n",
    "        if len(search_result) > 0:\n",
    "            docs = [x.get('entity').get('text') for x in search_result[0]]\n",
    "            return ' '.join(docs)\n"
   ]
  },
  {
   "cell_type": "code",
   "execution_count": 8,
   "metadata": {},
   "outputs": [
    {
     "name": "stdout",
     "output_type": "stream",
     "text": [
      "root path  /Users/pujanmaharjan/pdfs/agile\n"
     ]
    },
    {
     "data": {
      "text/plain": [
       "['/Users/pujanmaharjan/pdfs/agile/Kameron H. Clean Code. An Agile Guide to Software Craft 2023.pdf',\n",
       " '/Users/pujanmaharjan/pdfs/agile/akka/Abraham F. Akka in Action (MEAP v13) 2ed 2023.pdf']"
      ]
     },
     "execution_count": 8,
     "metadata": {},
     "output_type": "execute_result"
    }
   ],
   "source": [
    "# constants\n",
    "ROOT_DIR = \"/Users/pujanmaharjan/pdfs\"\n",
    "\n",
    "file_helper = FileHelper()\n",
    "\n",
    "files = []\n",
    "root_path = os.path.join(ROOT_DIR, \"agile\")\n",
    "print('root path ', root_path)\n",
    "file_helper.populate_file_paths(root_path, files)\n",
    "files"
   ]
  },
  {
   "cell_type": "code",
   "execution_count": 9,
   "metadata": {},
   "outputs": [],
   "source": [
    "# # Experiment pdf loaders\n",
    "# pdf_loader_results = []\n",
    "# pdf_loaders = [PyPDFLoader, PyMuPDFLoader, PyPDFium2Loader]\n",
    "# # pdf_loaders = [PyPDFium2Loader]\n",
    "# time_helper = TimeHelper()\n",
    "# for pdf_loader in pdf_loaders:\n",
    "#     start_time = time_helper.get_utc_now()\n",
    "#     pages = file_helper.read_documents(files, pdf_loader, n_jobs=5)\n",
    "#     pdf_loader_results.append({\"loader\": pdf_loader.__name__,\n",
    "#                                \"elapsed\": time_helper.get_elapsed_seconds(start_time),\n",
    "#                                \"pages_count\": len(pages)})\n",
    "    \n",
    "# pdf_loader_results_df = pd.DataFrame(pdf_loader_results)\n",
    "# pdf_loader_results_df.sort_values(by=\"elapsed\")\n",
    "\n",
    "# # The result shows PyMuPDFLoader is fastest"
   ]
  },
  {
   "cell_type": "code",
   "execution_count": 10,
   "metadata": {},
   "outputs": [],
   "source": [
    "pages = file_helper.read_documents(files, PyMuPDFLoader, n_jobs=5)"
   ]
  },
  {
   "cell_type": "code",
   "execution_count": 11,
   "metadata": {},
   "outputs": [],
   "source": [
    "\n",
    "@log_execution_time\n",
    "def add_to_db(db_repository: VectorDbRepository, pages, batch_size):\n",
    "    sources = list(set([p.metadata['source'] for p in pages]))\n",
    "    for source in sources:\n",
    "        if db_repository.has_data_for_source(source):\n",
    "            print(\"previous data found so delete them \", source)\n",
    "            db_repository.delete_data_by_source(source)\n",
    "\n",
    "    iter_helper = IterHelper()\n",
    "    for page_batch in tqdm(iter_helper.batched(pages, batch_size), total=len(pages)/batch_size):\n",
    "        db_repository.create(page_batch)\n"
   ]
  },
  {
   "cell_type": "code",
   "execution_count": 12,
   "metadata": {},
   "outputs": [],
   "source": [
    "db_repository = VectorDbRepository(\"pdfs\", MilvusDbRepository)"
   ]
  },
  {
   "cell_type": "code",
   "execution_count": 13,
   "metadata": {},
   "outputs": [
    {
     "data": {
      "text/plain": [
       "{'state': <LoadState: Loaded>}"
      ]
     },
     "execution_count": 13,
     "metadata": {},
     "output_type": "execute_result"
    }
   ],
   "source": [
    "db_repository.repository.client.get_load_state('pdfs')"
   ]
  },
  {
   "cell_type": "code",
   "execution_count": 14,
   "metadata": {},
   "outputs": [
    {
     "name": "stdout",
     "output_type": "stream",
     "text": [
      "Execution Start time 2024-07-29 08:31:03.609423+00:00\n",
      "previous data found so delete them  /Users/pujanmaharjan/pdfs/agile/Kameron H. Clean Code. An Agile Guide to Software Craft 2023.pdf\n"
     ]
    },
    {
     "name": "stderr",
     "output_type": "stream",
     "text": [
      "  0%|          | 0/1.3333333333333333 [00:00<?, ?it/s]/Users/pujanmaharjan/Projects/llm_public/langchain/.venv_langchain/lib/python3.10/site-packages/sentence_transformers/cross_encoder/CrossEncoder.py:11: TqdmWarning: IProgress not found. Please update jupyter and ipywidgets. See https://ipywidgets.readthedocs.io/en/stable/user_install.html\n",
      "  from tqdm.autonotebook import tqdm, trange\n"
     ]
    },
    {
     "name": "stdout",
     "output_type": "stream",
     "text": [
      "Execution Start time 2024-07-29 08:31:10.958862+00:00\n",
      "Starting embedding\n"
     ]
    },
    {
     "name": "stderr",
     "output_type": "stream",
     "text": [
      " 75%|███████▌  | 1/1.3333333333333333 [00:07<00:02,  7.48s/it]"
     ]
    },
    {
     "name": "stdout",
     "output_type": "stream",
     "text": [
      "Execution End time 2024-07-29 08:31:11.355007+00:00. Elapsed total seconds 0.396136\n",
      "Execution Start time 2024-07-29 08:31:11.355260+00:00\n",
      "Starting embedding\n",
      "Execution End time 2024-07-29 08:31:11.415499+00:00. Elapsed total seconds 0.060232\n",
      "Execution Start time 2024-07-29 08:31:11.415558+00:00\n",
      "Starting embedding\n",
      "Execution End time 2024-07-29 08:31:11.475509+00:00. Elapsed total seconds 0.059943\n",
      "data to add  [{'id': 'aebae495-f777-4dd4-b90c-8dd565a2309a', 'source': '/Users/pujanmaharjan/pdfs/agile/Kameron H. Clean Code. An Agile Guide to Software Craft 2023.pdf', 'page': '0', 'text': 'Clean Code: An Agile Guide to Software Craft\\n\\xa0\\nKameron Hussain and Frahaan Hussain\\n\\xa0\\nPublished by Sonar Publishing, 2023.', 'text_vector': [-0.047733038663864136, -0.02504950761795044, -0.001811690628528595, -0.03612646460533142, 0.038309499621391296, -0.016000768169760704, -0.01492363028228283, 0.015392203815281391, -0.011930588632822037, 0.01908709481358528, 0.009967081248760223, 0.00401201331987977, 0.017264170572161674, -0.020557153970003128, 0.01816260814666748, 0.016420511528849602, 0.020166020840406418, 0.02830670401453972, 0.006382734514772892, 0.016605107113718987, 0.040077339857816696, 0.005303573794662952, 0.001837660907767713, -0.05891763046383858, 0.02775857225060463, 0.028868740424513817, -0.028928318992257118, -0.038494259119033813, -0.07669933885335922, -0.20467254519462585, -0.012802577577531338, 0.0026629201602190733, 0.04878295212984085, -0.01821170561015606, 0.004411305300891399, 0.01575646363198757, 0.005472251214087009, 0.029838982969522476, 0.002775173867121339, 0.0048958538100123405, -0.04370373860001564, 0.03087136708199978, -0.0009916718117892742, -0.010032713413238525, -0.009355022571980953, -0.022498399019241333, 0.0017785303061828017, -0.04849986732006073, -0.029959576204419136, -0.07173869758844376, -0.007975637912750244, -0.03540310263633728, -0.010253091342747211, 0.020885534584522247, 0.0008932455675676465, -0.022738570347428322, -0.002789498073980212, 0.03106161765754223, -0.01427826751023531, 0.07992971688508987, 0.03417236730456352, 0.0008272393606603146, -0.20334124565124512, 0.02491105906665325, 0.0381840281188488, 0.061033014208078384, -0.02132559008896351, -0.026183512061834335, 0.027356401085853577, 0.04470500722527504, -0.023355964571237564, -0.007370869629085064, 0.005231395363807678, 0.03674973174929619, 0.07172289490699768, -0.005448481999337673, 0.023525312542915344, -0.04417378082871437, 0.011054041795432568, 0.009201562963426113, -0.021070018410682678, -0.04608755558729172, -0.014432387426495552, -0.03447539731860161, -0.048428334295749664, -0.0075849625281989574, 0.004325313027948141, -0.03214472904801369, 0.055360931903123856, -0.018556473776698112, 0.00196853163652122, -0.01595032960176468, 0.039699990302324295, 0.01513871643692255, -0.04064173623919487, -0.0012707429705187678, 0.04962944984436035, 0.02251737378537655, -0.03153952211141586, 0.6003550291061401, -0.03229694813489914, -0.0035765543580055237, -0.012901974841952324, -0.025530975311994553, 0.016413463279604912, -0.007745519280433655, 0.03222809359431267, -0.01818082667887211, 0.0016476234886795282, 0.00275817490182817, 0.0148849505931139, -0.013461612164974213, 0.054119158536195755, -0.053902823477983475, 0.00721775321289897, 0.041483938694000244, 0.022145286202430725, 0.05491530895233154, 0.02124853804707527, -0.025386260822415352, -0.06701651960611343, 0.011851375922560692, 0.049366991966962814, 0.022552788257598877, -0.016582686454057693, -0.03639233112335205, -0.0051161604933440685, 0.06562256067991257, 0.007817587815225124, -0.008200804702937603, 0.019662989303469658, 0.01846674084663391, -0.07106120139360428, -0.012889993377029896, 0.019109336659312248, 0.01121222972869873, -0.016379809007048607, -0.009504539892077446, -0.024722563102841377, 0.034068331122398376, -0.015025036409497261, -0.009299935773015022, 0.007485537324100733, -0.08742804080247879, -0.07433053851127625, 0.00914484728127718, 0.017314592376351357, -0.008758382871747017, -0.0668749138712883, 0.0021654521115124226, 0.008848982863128185, 0.021351931616663933, 0.01433319877833128, 0.0006988340755924582, 0.025933189317584038, -0.008412438444793224, 0.05035616457462311, 0.02335454523563385, -0.05554058030247688, -0.008482123725116253, -0.015418969094753265, -0.021477967500686646, -0.04232864826917648, 0.08066359907388687, -0.002073462586849928, -0.13418379426002502, 0.019912349060177803, 0.021415285766124725, -0.013126326724886894, -0.00933294091373682, 0.026016918942332268, -0.02597923018038273, -0.01873192749917507, 0.01875600405037403, 0.034504204988479614, -0.022238580510020256, -0.0011589346686378121, 0.022696426138281822, 0.020712530240416527, 0.019241556525230408, 0.0026720776222646236, -0.013729497790336609, -0.03184826672077179, 0.0201614648103714, 0.013303928077220917, -0.07270652800798416, 0.011726918630301952, -0.011714251711964607, 0.010616888292133808, 0.042276427149772644, -0.029413439333438873, 0.012173539958894253, -0.043887894600629807, 0.05531040206551552, -0.006382382940500975, -0.019535336643457413, -0.03775874525308609, 0.009787047281861305, -0.03479928895831108, -0.04988446086645126, -0.07260847091674805, 0.03267065808176994, -0.02874666079878807, -0.025278370827436447, 0.019098758697509766, 0.028543176129460335, -0.006817284971475601, -0.027823975309729576, 0.028347468003630638, 0.028887787833809853, -0.04658760130405426, 0.005621727555990219, 0.05162939429283142, -0.004982145968824625, -0.0146089568734169, 0.027397707104682922, -0.01816355250775814, 0.018072308972477913, -0.02123577892780304, 0.028423139825463295, -0.009708713740110397, -0.04858405515551567, -0.06854718923568726, -0.19785219430923462, -0.008694060146808624, -0.03423631936311722, -0.008800415322184563, 0.046262308955192566, -0.03957979008555412, -0.013285156339406967, -0.038738977164030075, 0.007424534298479557, 0.04595933109521866, 0.07381909340620041, 0.03201189637184143, -0.0377437025308609, -0.0001326795609202236, -0.024672525003552437, 0.030064189806580544, 0.021727828308939934, -0.026514358818531036, -0.017400633543729782, -0.01751975528895855, 0.06082881614565849, -0.003408771473914385, -0.005310091655701399, -0.01630985364317894, 0.02713920548558235, 0.008349584415555, 0.11936623603105545, -0.0019223318668082356, 0.06294159591197968, 0.010451637208461761, -0.02626759372651577, 0.015356534160673618, -0.015071487985551357, -0.12643060088157654, 0.03312335163354874, 0.03313131630420685, 0.07517281174659729, -0.04422173276543617, -0.020243752747774124, -0.023542916402220726, -0.029295921325683594, -0.007870745845139027, -0.0410260371863842, -0.06638436764478683, -0.02982284501194954, -0.028089163824915886, -0.04707888513803482, 0.0022497824393212795, 0.005620471201837063, 0.008838615380227566, 0.017526304349303246, 0.015051476657390594, -0.010694708675146103, 0.018718546256422997, -0.05477958545088768, 0.009251187555491924, -0.060251928865909576, 0.014717644080519676, 0.022624537348747253, -0.0017002548556774855, 0.02627996727824211, -0.03655869513750076, -0.015757808461785316, 0.015372484922409058, 0.030656900256872177, -0.011718381196260452, 0.030155688524246216, 0.024479465559124947, 0.02923010289669037, -0.005440675653517246, -0.0036400295794010162, 0.10365326702594757, -0.005783023778349161, -0.034361373633146286, 0.01782771199941635, 0.012253331020474434, 0.01650499552488327, -0.017833158373832703, -0.0004357211582828313, -0.04570683091878891, 0.043158698827028275, -0.009684170596301556, 0.0621274970471859, 0.03150416165590286, 0.008350607007741928, 0.0006006097537465394, 0.01777738332748413, -0.03365853801369667, -0.014997263438999653, 0.017879435792565346, -0.0061615752056241035, -0.0008400936494581401, -0.00453938776627183, -0.027687933295965195, 0.018319059163331985, 0.013612317852675915, -0.2382194697856903, -0.037573084235191345, -0.012101360596716404, 0.048694923520088196, -0.01841234415769577, 0.028828753158450127, 0.04487098753452301, -0.04111513867974281, 0.02618604339659214, 0.025823533535003662, 0.027185644954442978, 0.02116909995675087, 0.0325252003967762, -0.007698443718254566, 0.0377948172390461, -0.006378868594765663, 0.044114504009485245, -0.009639713913202286, 0.04526456817984581, -0.0020906568970531225, 0.0194650050252676, -0.004750145599246025, 0.17435415089130402, -0.04374319314956665, 0.006695222109556198, 0.011642198078334332, 0.039425306022167206, 0.0037711102049797773, 0.012059218250215054, 0.027716457843780518, 0.03757718577980995, 0.031328022480010986, 0.1102268323302269, -0.006334064062684774, -0.036471422761678696, 0.023626921698451042, 0.006717384792864323, 0.06364382058382034, -0.004513653926551342, 0.00040677821380086243, -0.020265473052859306, -0.02614695578813553, -0.01550978422164917, -0.01163358986377716, 0.028125574812293053, -0.02145593799650669, -0.05007847771048546, -0.06979396939277649, -0.024275198578834534, 0.024466490373015404, -0.016579287126660347, 0.05033717676997185, -0.01836707442998886, 0.005349410697817802, 0.020827975124120712, 0.04510851576924324, 0.0033141199965029955, -0.03178504481911659, -0.07030987739562988, -0.022881651297211647, 0.030821574851870537, -0.002082573715597391, 0.018814636394381523, 0.060090698301792145, 0.03421280160546303]}, {'id': '5882477b-4513-49e8-9b34-5df7f5c74020', 'source': '/Users/pujanmaharjan/pdfs/agile/Kameron H. Clean Code. An Agile Guide to Software Craft 2023.pdf', 'page': '1', 'text': 'While every precaution has been taken in the preparation of this book, the\\npublisher assumes no responsibility for errors or omissions, or for\\ndamages resulting from the use of the information contained herein.\\n\\xa0\\nCLEAN CODE: AN AGILE GUIDE TO SOFTWARE CRAFT\\n\\xa0\\nFirst edition. October 15, 2023.\\n\\xa0\\nCopyright © 2023 Kameron Hussain and Frahaan Hussain.\\n\\xa0\\nWritten by Kameron Hussain and Frahaan Hussain.', 'text_vector': [-0.06934400647878647, -0.03355212137103081, -0.0019920237828046083, -0.05417127162218094, 0.034859247505664825, -0.025706995278596878, 0.012088226154446602, 0.01965169981122017, 0.0046494402922689915, 0.0276531632989645, -0.007988669909536839, -0.01746678352355957, 0.02243603579699993, -0.01727413944900036, -0.03601092845201492, 0.03539658337831497, 0.019408201798796654, 0.010345772840082645, 0.00729347812011838, 0.018555043265223503, 0.06195828691124916, -0.018806464970111847, 0.016517577692866325, -0.0340573787689209, 0.0658123716711998, 0.013361526653170586, -0.045547790825366974, -0.020636368542909622, -0.04198991134762764, -0.21308781206607819, -0.02169979363679886, 0.018226148560643196, 0.043318722397089005, -0.012360635213553905, 0.01568497158586979, -0.005586196202784777, -0.0028940471820533276, 0.0294792540371418, 0.0037581941578537226, 0.01068196166306734, -0.031714409589767456, 0.02911139465868473, 0.017598360776901245, -0.013271824456751347, -0.0049146851524710655, -0.018049493432044983, -0.015213046222925186, -0.05044525861740112, -0.013636146672070026, -0.06939464062452316, 0.007064842619001865, -0.010229485109448433, -0.021455904468894005, 0.03706565871834755, 0.007397834677249193, -0.014997655525803566, -0.0029894469771534204, 0.0514395534992218, -0.02050822414457798, 0.09765637665987015, 0.015623986721038818, -0.003457802813500166, -0.22181671857833862, 0.052840620279312134, 0.04815623536705971, 0.06070912629365921, -0.0029784338548779488, 0.002613697201013565, 0.027051573619246483, 0.03869415074586868, -0.026363203302025795, 0.00866530928760767, 0.006670527160167694, 0.03282906487584114, 0.04221088066697121, -0.010500962845981121, 0.026601895689964294, -0.03489871323108673, 0.015417927876114845, -0.00811577308923006, -0.02466273494064808, -0.03677317127585411, -0.0023490781895816326, -0.02796747162938118, -0.03937609866261482, -0.0011645398335531354, 0.024479269981384277, -0.00672142906114459, 0.051901400089263916, 0.0049904100596904755, 0.030012687668204308, -0.054039116948843, 0.03685914725065231, 0.016500093042850494, -0.05350686237215996, 0.012785563245415688, 0.046800412237644196, 0.02577938139438629, -0.045926813036203384, 0.6017707586288452, -0.051520198583602905, 0.008823673240840435, -0.04366661235690117, 0.0007810317911207676, 0.016039086505770683, -0.0023124064318835735, 0.05517688766121864, -0.014839706011116505, -0.0018412027275189757, -0.00019132440502289683, -0.00485728494822979, -0.015502004884183407, 0.05447380989789963, -0.05541013181209564, 0.02613481692969799, 0.054307885468006134, 0.02131725288927555, 0.04014725238084793, 0.031209075823426247, -0.029532307758927345, -0.01334382314234972, 0.001632012310437858, 0.07063867896795273, 0.022706707939505577, -0.02480592019855976, -0.024070270359516144, -0.01511198841035366, 0.06963025033473969, 0.0005637856665998697, 0.007578569930046797, 0.009498515166342258, 0.023491134867072105, -0.026766281574964523, -0.015879947692155838, 0.01918219029903412, 0.0289447121322155, -0.02556595951318741, 0.014263802208006382, -0.003910013474524021, -0.006938468664884567, -0.019818885251879692, -0.027696393430233, -0.01695389859378338, -0.07796431332826614, -0.08196446299552917, -0.01548861712217331, 0.016215572133660316, -0.004275980405509472, -0.06279393285512924, 0.0032646479085087776, 0.009713508188724518, 0.045156240463256836, -0.013498692773282528, 0.036561518907547, 0.022874299436807632, -0.0275809895247221, 0.040879957377910614, 0.03377425670623779, -0.06936842948198318, -0.026285666972398758, 0.007157586049288511, -0.006497655063867569, -0.037682145833969116, 0.0815015360713005, -0.023006750270724297, -0.09717828035354614, 0.022807948291301727, 0.030725987628102303, -0.006783695891499519, -0.0019431962864473462, 0.021663671359419823, -0.05392319709062576, -0.026015929877758026, 0.036913443356752396, 0.03855712711811066, -0.004257716704159975, -0.004452187102288008, 0.03231683000922203, 0.018118437379598618, 0.014887184835970402, -0.005569154396653175, -0.012248710729181767, -0.022458571940660477, 0.022595340386033058, 0.03524215519428253, -0.08929110318422318, -0.007744864095002413, -0.0001719379797577858, 0.02435774728655815, 0.04197021201252937, -0.050719983875751495, 0.023096485063433647, -0.04351986199617386, 0.04639619216322899, -0.042200639843940735, -0.012469262816011906, -0.04263334721326828, -0.005383249372243881, -0.01492179837077856, -0.05727782100439072, -0.059785325080156326, 0.045248907059431076, -0.03198878467082977, -0.014016221277415752, 0.0021549693774431944, 0.005501298699527979, 0.02440182864665985, -0.0343339666724205, 0.024367332458496094, 0.03893554210662842, -0.04191124811768532, 0.014779346063733101, 0.021125541999936104, -0.02421838603913784, 0.002447298727929592, 0.03354048728942871, -0.01837390661239624, 0.026631079614162445, -0.020703652873635292, 0.0384814515709877, -0.025360073894262314, -0.04214204102754593, -0.05559872090816498, -0.1883605420589447, -0.02560841664671898, -0.032132916152477264, 0.0005934921791777015, 0.03234937787055969, -0.022481581196188927, 0.008360503241419792, -0.04842429980635643, -0.039042118936777115, 0.016139209270477295, 0.09785608947277069, 0.0036498706322163343, -0.04103178158402443, -0.014662191271781921, -0.05579305440187454, 0.01451167929917574, 0.030015259981155396, -0.040237121284008026, -0.009896733798086643, -0.011109502986073494, 0.0395798534154892, -0.015122594311833382, -0.0038896731566637754, -0.004745833110064268, 0.030124127864837646, 0.007503465283662081, 0.11569959670305252, -0.004284700378775597, 0.04736926034092903, 0.017069196328520775, -0.019337210804224014, 0.007261737249791622, 0.0005535587552003562, -0.12122610211372375, 0.02870379388332367, 0.039231978356838226, 0.03536054864525795, -0.03018280491232872, -0.017150886356830597, -0.02512408047914505, -0.00038511204184032977, -0.020541120320558548, -0.030988037586212158, -0.05644138157367706, -0.009680950082838535, -0.019533105194568634, -0.07196919620037079, -0.003754470031708479, -0.012075649574398994, 0.009541363455355167, 0.024576757103204727, 0.028408046811819077, -0.0017233493272215128, 0.052487120032310486, -0.024493010714650154, -0.01312886644154787, -0.07069941610097885, 0.021183384582400322, 0.011057927273213863, 0.0076311989687383175, 0.03468802198767662, -0.05167127773165703, -0.0015726747224107385, -0.024856040254235268, 0.031700342893600464, -0.007849186658859253, 0.03194422647356987, -0.012808818370103836, 0.03522970527410507, -0.007050244603306055, -0.011240166611969471, 0.06909970939159393, 0.01947197876870632, -0.034912437200546265, 0.008551751263439655, 0.021122559905052185, -0.003143541980534792, -0.01940183714032173, -0.010269509628415108, -0.018119826912879944, 0.014076776802539825, 0.012891345657408237, 0.06567813456058502, 0.04016423225402832, 0.02197437733411789, 0.008945471607148647, 0.017417753115296364, 0.0008601495064795017, -0.002410786459222436, 0.007196775637567043, 0.009853584691882133, 0.0007375422865152359, -0.011275758035480976, -0.011817962862551212, 0.03647821769118309, 0.01291145570576191, -0.23937764763832092, -0.05318731069564819, -0.00242463406175375, 0.04629409685730934, -0.028243426233530045, 0.021330473944544792, 0.05056574568152428, -0.03150317817926407, 0.004583525005728006, 0.007303182501345873, 0.015916671603918076, 0.033827196806669235, 0.030474940314888954, -0.02424081601202488, 0.04279069975018501, -0.0020796526223421097, 0.05257779732346535, -0.03173719719052315, 0.03638739511370659, -0.014509661123156548, 0.009402357041835785, -0.013927953317761421, 0.16733750700950623, -0.02661045826971531, -0.0046988665126264095, 0.0004614205681718886, 0.017479194328188896, 0.009488013572990894, 0.033404409885406494, 0.021522339433431625, 0.026418905705213547, 0.02769877389073372, 0.10942764580249786, 0.022407282143831253, -0.020814409479498863, -0.004609048832207918, -0.02948419563472271, 0.028494201600551605, -0.004480560775846243, -0.015271286480128765, -0.043935686349868774, -0.028224503621459007, -0.008474215865135193, -0.024448921903967857, 0.026324860751628876, -0.030187392607331276, -0.04781831428408623, -0.07100296765565872, -0.03241522237658501, 0.008103190921247005, -0.0015144728822633624, 0.03258828818798065, -0.022077642381191254, -0.0033634109422564507, 0.0021947533823549747, 0.021483387798070908, 0.003500905819237232, -0.005894018802791834, -0.06570042669773102, -0.018614303320646286, 0.012163350358605385, 0.006708964705467224, 0.02556971274316311, 0.06093326956033707, 0.026781940832734108]}, {'id': '8f52153b-a3a1-4b86-9379-7e4c4ea68f5e', 'source': '/Users/pujanmaharjan/pdfs/agile/Kameron H. Clean Code. An Agile Guide to Software Craft 2023.pdf', 'page': '2', 'text': 'Table of Contents\\n\\xa0\\nTitle Page\\n\\xa0\\nCopyright Page\\n\\xa0\\nClean Code: An Agile Guide to Software Craft\\n\\xa0\\nChapter 1: Clean Code\\n\\xa0\\nChapter 2: Meaningful Names\\n\\xa0\\nChapter 3: Functions\\n\\xa0\\nChapter 4: Comments\\n\\xa0\\nChapter 5: Formatting\\n\\xa0\\nChapter 6: Objects and Data Structures\\n\\xa0\\nChapter 7: Error Handling\\n\\xa0\\nChapter 8: Boundaries\\n\\xa0\\nChapter 9: Unit Tests', 'text_vector': [-0.058652568608522415, 0.009205340407788754, 0.032230619341135025, -0.038588348776102066, 0.054146330803632736, -0.0013061808422207832, 0.0370904915034771, 0.021146424114704132, 0.0006844877498224378, 0.010434838943183422, -0.009893570095300674, 0.0021730950102210045, 0.020403791218996048, -0.009000374004244804, 0.008610273711383343, 0.03518857806921005, 0.01868489198386669, 0.053799211978912354, -0.014703095890581608, 0.008018859662115574, 0.03455488383769989, -0.01562123466283083, 0.003672810271382332, -0.03215374797582626, 0.04359966889023781, 0.047729481011629105, -0.028404073789715767, -0.051870591938495636, -0.031116744503378868, -0.23074279725551605, -0.041550375521183014, 0.030029315501451492, 0.03774445876479149, -0.031033044680953026, -0.007088853977620602, -0.0016885658260434866, 0.009245107881724834, 0.00909380428493023, -0.013888318091630936, 0.021167034283280373, -0.015621050260961056, 0.025421252474188805, 0.004150722175836563, -0.029902180656790733, -0.012653959915041924, -0.04618445783853531, 0.0006980820326134562, -0.04160752892494202, -0.012406524270772934, -0.018471362069249153, -0.023381579667329788, -0.040479954332113266, -0.04120722413063049, 0.03726465627551079, 0.01589079201221466, -0.0077982679940760136, 0.04236554726958275, 0.03748739883303642, -0.002275465289130807, 0.030814412981271744, 0.026258321478962898, -0.026562681421637535, -0.1637907326221466, 0.062491275370121, 0.044405605643987656, 0.035155992954969406, -0.0442250519990921, -0.0015184521907940507, -0.004155020695179701, 0.06081734970211983, -0.022812264040112495, 0.016330907121300697, -0.01092484686523676, 0.056597378104925156, 0.046582020819187164, -0.01693333312869072, -0.006119140889495611, -0.03179936110973358, 0.018069613724946976, -0.007161540910601616, -0.05446179583668709, -0.0283297561109066, -0.006992532406002283, -0.005144385155290365, -0.0280828308314085, 0.005308988969773054, 0.01081262156367302, 0.0013247616589069366, 0.03999141603708267, -0.004226155113428831, 0.020751113072037697, -0.020026613026857376, 0.02992215007543564, 0.018071992322802544, -0.06411905586719513, 0.00840795412659645, -0.004691761918365955, 0.014426225796341896, -0.03817686811089516, 0.6259369850158691, -0.037510015070438385, 0.003725204383954406, -0.018138932064175606, -0.0418463870882988, 0.003989545162767172, -0.027454478666186333, 0.04498359560966492, -0.007517281454056501, 0.008548152633011341, -0.0009222918888553977, 0.012561005540192127, -0.015251407399773598, 0.0019082155777141452, -0.07454919070005417, -0.00121527467854321, 0.018320059403777122, 0.032197948545217514, 0.0015800677938386798, 0.0034759696573019028, -0.018338095396757126, 0.010415536351501942, 0.014303980395197868, 0.02675517275929451, -0.016546210274100304, -0.0061687626875936985, -0.00980630237609148, 0.026541447266936302, 0.04435130953788757, 0.019170373678207397, 0.02022283524274826, 0.038554247468709946, 0.030430572107434273, -0.03540772199630737, -0.00716034322977066, -0.003993311896920204, 0.014855559915304184, -0.020673399791121483, -0.020853109657764435, -0.009401943534612656, 0.010085809044539928, -0.009422609582543373, -0.002569741103798151, 0.040344011038541794, -0.0850638821721077, -0.06670069694519043, 0.033850930631160736, -0.010222687385976315, 0.03079800494015217, -0.04127243906259537, 0.00842814240604639, 0.030214328318834305, 0.05366344377398491, 0.002796027809381485, 0.012785552069544792, 0.014247161336243153, -0.008555545471608639, 0.043208494782447815, 0.01624172367155552, -0.051204826682806015, -0.004590432159602642, -0.012130401097238064, 0.003907597158104181, -0.03172963857650757, 0.09699240326881409, -0.02259305864572525, -0.10135284066200256, -0.010427757166326046, 0.006937764119356871, 0.012890863232314587, -0.025190582498908043, 0.013674093410372734, -0.02214527502655983, -0.03340036794543266, 0.007993703708052635, 0.023215532302856445, 0.009127349592745304, -0.009065943770110607, 0.017140215262770653, 0.009095704182982445, 0.023245489224791527, 0.010997903533279896, -0.015701010823249817, -0.043772920966148376, 0.013951358385384083, 0.05849088728427887, -0.05198484659194946, -0.026426659896969795, -0.032053541392087936, 0.0342307947576046, 0.021346760913729668, -0.06236150115728378, -0.01347379945218563, -0.036418698728084564, 0.0366385318338871, -0.05630457028746605, -0.034238751977682114, -0.026510018855333328, -0.01948150061070919, -0.039512090384960175, -0.0344046987593174, -0.026814542710781097, 0.038712043315172195, -0.018887730315327644, -0.0061065987683832645, -0.01128606591373682, 0.03060987964272499, 0.02373070828616619, -0.051477279514074326, 0.024977678433060646, 0.051437828689813614, -0.06508875638246536, 0.01917114108800888, 0.04617258533835411, -0.014905470423400402, 0.0029908118303865194, -0.01614033617079258, -0.007804553955793381, 0.04056954011321068, -0.026077911257743835, 0.05087238922715187, -0.006203966680914164, -0.030318189412355423, -0.05974860489368439, -0.19357581436634064, 0.009799961932003498, -0.01948489621281624, -0.005711840465664864, 0.026042966172099113, -0.018783310428261757, 0.005771375726908445, -0.029079638421535492, -0.019054045900702477, 0.0030161631293594837, 0.07213126868009567, -0.045827414840459824, -0.052358683198690414, -0.035320159047842026, -0.01681416667997837, 0.006508735474199057, 0.017191318795084953, -0.04272184520959854, -0.042793236672878265, -0.035225190222263336, 0.012209783308207989, 0.013810382224619389, 0.02495521306991577, -0.038613978773355484, 0.021693777292966843, -0.006348245311528444, 0.12595051527023315, -0.027524558827280998, 0.08235054463148117, 0.015259203501045704, 0.025301987305283546, 0.006294313818216324, 0.03442782536149025, -0.11823637038469315, 0.029674557968974113, 0.005400808993726969, 0.011101961135864258, -0.005594169721007347, 0.006634663324803114, -0.018056876957416534, -0.005867962259799242, -0.009508853778243065, -0.029884254559874535, -0.03034702129662037, 0.02102172002196312, -0.01954636164009571, -0.05424007400870323, -0.049134574830532074, -0.008220245130360126, -0.006933451630175114, 0.012081505730748177, 0.006417324300855398, 0.023636052384972572, 0.05998833477497101, -0.018767690286040306, -0.014223836362361908, -0.0446639358997345, 0.019150324165821075, -0.005040926858782768, -0.00629846379160881, 0.014661523513495922, -0.021189009770751, -0.000945841078646481, -0.02463361620903015, 0.038897555321455, -0.007971676997840405, 0.03787350654602051, -0.0019461502088233829, 0.03584999218583107, -0.030101023614406586, -0.015933005139231682, 0.07952988892793655, -0.016525035724043846, -0.04790518432855606, 0.03453204408288002, 0.004076185170561075, -0.013471086509525776, -0.03127134591341019, -0.00870529655367136, -0.03004828467965126, 0.013219119049608707, 0.021587500348687172, 0.04444889724254608, 0.009917253628373146, 0.012516063638031483, 0.02625637874007225, 0.008147024549543858, -0.012313900515437126, 0.02100425586104393, -0.02427036128938198, -0.011037697084248066, -0.018297987058758736, 0.0012803730787709355, -0.015620867721736431, 0.0716840922832489, 0.020361926406621933, -0.2474849373102188, -0.028402455151081085, 0.010230831801891327, 0.057389941066503525, -0.04106505960226059, 0.04458141326904297, 0.03935028985142708, -0.052279312163591385, -0.007483502384275198, 0.024122370406985283, 0.05692176893353462, 0.01994507387280464, 0.042252715677022934, -0.04625523462891579, 0.02727484703063965, 0.05636952817440033, 0.044165901839733124, -0.034918561577796936, 0.05001458153128624, 0.01087392121553421, 0.0009558927267789841, -0.0017437549540773034, 0.18158049881458282, -0.06004171818494797, 0.002333499491214752, 0.012271326966583729, 0.03810887411236763, 0.02005564421415329, 0.03722092881798744, 0.017321696504950523, 0.035280741751194, 0.01830386370420456, 0.07892909646034241, 0.013819917105138302, -0.02847256511449814, 0.03136787936091423, 0.0014786787796765566, -0.00306283263489604, -0.00016741511353757232, -0.007626702543348074, -0.008897721767425537, -0.021956445649266243, -0.009161663241684437, -0.0053794365376234055, 0.024090785533189774, -0.01821759156882763, -0.031196685507893562, -0.08136501163244247, -0.010735888965427876, 0.0049213566817343235, -0.02467866986989975, -0.004851801320910454, -0.020093917846679688, -0.003775708144530654, 0.03243711218237877, 0.020760729908943176, 0.0022664200514554977, 0.0029604986775666475, -0.05664213374257088, -0.02755396068096161, 0.023834574967622757, -0.022379573434591293, 0.04880615696310997, 0.07058652490377426, -0.00019880535546690226]}]\n"
     ]
    },
    {
     "name": "stderr",
     "output_type": "stream",
     "text": [
      "2it [00:11,  5.63s/it]                                        "
     ]
    },
    {
     "name": "stdout",
     "output_type": "stream",
     "text": [
      "Execution Start time 2024-07-29 08:31:15.179922+00:00\n",
      "Starting embedding\n",
      "Execution End time 2024-07-29 08:31:15.251580+00:00. Elapsed total seconds 0.071652\n",
      "data to add  [{'id': 'e15174af-4134-4c60-8585-aadc027bd5f6', 'source': '/Users/pujanmaharjan/pdfs/agile/Kameron H. Clean Code. An Agile Guide to Software Craft 2023.pdf', 'page': '3', 'text': 'Chapter 10: Classes\\n\\xa0\\nChapter 13: Concurrency\\n\\xa0\\nChapter 15: JUnit Internals\\n\\xa0\\nChapter 19: Appendix B: Decimal I/O\\n\\xa0\\nChapter 20: Appendix C: How to Transform Employee', 'text_vector': [-0.10066168010234833, -0.045353103429079056, 0.027762454003095627, -0.0646040216088295, -0.01319350115954876, 0.0023368492256850004, 0.04312436655163765, 0.024412378668785095, -0.01708403415977955, -0.020047901198267937, 0.014584182761609554, -0.040169451385736465, 0.003421908477321267, 0.00972665473818779, 0.032264918088912964, 0.01330861821770668, 0.009933099150657654, 0.051750537008047104, -0.016256136819720268, 0.007255255710333586, 0.046167269349098206, -0.022910989820957184, -0.010091529227793217, 0.009895244613289833, 0.048443883657455444, 0.035476647317409515, -0.012466002255678177, -0.0007382454932667315, -0.04299141466617584, -0.20968744158744812, -0.012501413002610207, -0.00382056413218379, 0.01174178533256054, -0.03869486227631569, -0.006920941639691591, -0.0071839746087789536, 0.0017249470110982656, 0.029103994369506836, 0.015474307350814342, 0.016001572832465172, -0.006383011117577553, 0.027749957516789436, 0.002029875759035349, -0.05462752282619476, -0.007995701394975185, -0.03507010638713837, 0.003789021633565426, -0.0260065495967865, 0.012281171977519989, 0.016015660017728806, 0.02249470353126526, -0.038464367389678955, 0.017973430454730988, 0.08374562859535217, -0.022334875538945198, -0.0002436311769997701, 0.0811893567442894, 0.07190675288438797, 0.058147817850112915, 0.006757841911166906, 0.027713242918252945, 0.0019634554628282785, -0.1611425131559372, 0.08651618659496307, 0.03374183923006058, -0.004949119873344898, 0.004318648483604193, -0.020110895857214928, 0.008822106756269932, 0.016706643626093864, -0.058322396129369736, -0.021474391222000122, 0.0262876208871603, 0.02713848277926445, 0.014897852204740047, -0.03980070352554321, -0.010940348729491234, -0.005299726035445929, 0.04463217034935951, -0.010989602655172348, -0.03429565951228142, -0.014086814597249031, 0.025749169290065765, 0.01072221715003252, -0.0021077804267406464, 0.012235892936587334, 0.02264506183564663, -0.03163333237171173, 0.006148233078420162, -0.009173032827675343, 0.007022116333246231, 0.00036825265851803124, 0.01079501025378704, 0.00805127527564764, -0.03566932678222656, -0.005734331905841827, -0.006803457159548998, -0.008844609372317791, -0.01741882599890232, 0.5811602473258972, -0.00616932800039649, 0.01652955636382103, 0.014269564300775528, -0.036651767790317535, -0.0032311680261045694, -0.01013344619423151, -0.0052318694069981575, -0.034178227186203, -0.02005012333393097, -0.005958897527307272, -0.014257267117500305, 0.03317058086395264, 0.01157389022409916, -0.06645549833774567, 0.03212517127394676, -0.003904497716575861, 0.04804960638284683, 0.017908979207277298, 0.0023884435649961233, 0.06253740936517715, -0.0051815565675497055, 0.024840885773301125, 0.01272835023701191, 0.003924392629414797, -0.014787008985877037, -0.05909552425146103, 0.024556998163461685, 0.041267279535532, 0.008789518848061562, 0.03573334962129593, 0.029949728399515152, -0.0036704596132040024, -0.047283198684453964, -0.011861211620271206, 0.018089082092046738, 0.035372499376535416, 0.007910826243460178, -0.029341351240873337, 0.01526562124490738, -0.021824384108185768, -0.030822893604636192, -0.00853858981281519, 0.010936777107417583, -0.07032167911529541, -0.051127687096595764, 0.08352147787809372, 0.0066973487846553326, 0.01294535119086504, 0.02035457454621792, 0.0204806886613369, -0.009664061479270458, 0.053299516439437866, -0.03618021309375763, -0.025877762585878372, -0.0015035704709589481, 0.009105191566050053, 0.04478958994150162, 0.01858110912144184, -0.03906036168336868, -0.03996419161558151, -0.02355971932411194, -0.037287820130586624, -0.07394243031740189, 0.09400201588869095, 0.04063570871949196, -0.0972982794046402, -0.04433172941207886, 0.022219112142920494, -0.006615207996219397, -0.012060730718076229, 0.021934248507022858, 0.00028030326939187944, -0.06695633381605148, 0.009060530923306942, 0.09588875621557236, 0.01752874255180359, 0.010928813368082047, -0.0021163318306207657, -0.04032465070486069, 0.06337802112102509, 0.026086173951625824, -0.019506417214870453, -0.030010832473635674, 0.029143882915377617, 0.019171807914972305, -0.02937597967684269, -0.00938014592975378, -0.010145372711122036, 0.005158812738955021, 0.04514847323298454, -0.01907981000840664, 0.01201789639890194, -0.1142616793513298, 0.017743682488799095, -0.048553723841905594, -0.06169406324625015, -0.0018846085295081139, -0.03405345603823662, -0.04470790550112724, -0.026745181530714035, 0.014141322113573551, 0.014371260069310665, -0.022913433611392975, 0.043598998337984085, -0.019698625430464745, 0.039546698331832886, 0.015992123633623123, -0.00988737866282463, 0.06334945559501648, 0.035327207297086716, -0.03603386506438255, -0.007494308054447174, 0.02876601181924343, 0.010425694286823273, 0.0011905109276995063, 0.0006783322896808386, 0.017980309203267097, 0.06900528818368912, -0.007204230409115553, -0.017442528158426285, -0.016048237681388855, -0.025306418538093567, -0.012091965414583683, -0.21823157370090485, 0.0024947745259851217, 0.022206738591194153, -0.05747426673769951, 0.028629155829548836, -0.023879382759332657, 0.012532409280538559, -0.018155787140130997, -0.014990541152656078, 0.03596092015504837, 0.06766292452812195, -0.033675290644168854, -0.025811010971665382, -0.05155773460865021, -0.004159233998507261, -0.01595291867852211, -0.02223588153719902, -0.005847036838531494, -0.023216407746076584, -0.03384070098400116, 0.0010550727602094412, 0.004775428678840399, -0.023048464208841324, -0.06841932237148285, 0.03868239000439644, -0.014466202817857265, 0.11301392316818237, -0.06604484468698502, 0.04865400493144989, -0.048378098756074905, 0.020310519263148308, 0.017687737941741943, -0.02013184130191803, -0.055378369987010956, 0.02092580311000347, -0.018073584884405136, -0.02271323651075363, -0.009144729003310204, -0.006503932643681765, -0.019023187458515167, -0.031556036323308945, 0.056604012846946716, -0.027357416227459908, -0.05363868921995163, 0.016149766743183136, 0.008864608593285084, -0.015499019995331764, -0.0017989440821111202, 0.014482268132269382, 0.015229426324367523, -0.020221596583724022, -0.029118981212377548, -0.005741859786212444, 0.01428761426359415, -0.021205680444836617, -0.07692550122737885, -0.0730222538113594, 0.019638024270534515, -0.001378879533149302, 0.016441920772194862, 0.027732495218515396, 0.019684093073010445, -0.02762570045888424, -0.010694662109017372, 0.03144613653421402, -0.011142993345856667, -0.027669411152601242, -0.02397957257926464, 0.03092014789581299, -0.06270764768123627, -0.018028220161795616, 0.03414927423000336, 0.006802189629524946, -0.014200368896126747, -0.003920832648873329, 0.042986128479242325, 0.022023392841219902, 0.005339445546269417, -0.0017854203470051289, 0.006834503263235092, 0.00035918946377933025, -0.0046827904880046844, 0.011490999720990658, 0.019983511418104172, -0.017817044630646706, 0.021716659888625145, 0.055374279618263245, -0.015745770186185837, 0.027921117842197418, 0.028186745941638947, -0.031016696244478226, 0.009978868998587132, 0.009944593533873558, 0.058502450585365295, 0.03016197681427002, -0.017717698588967323, -0.29445940256118774, -0.017309285700321198, -0.04116525873541832, 0.049887798726558685, 0.013417597860097885, 0.04212920740246773, 0.00572920823469758, -0.0491965115070343, -0.055011820048093796, 0.02009608782827854, 0.040126703679561615, -0.01269447896629572, 0.0228419229388237, -0.004654945805668831, 0.02999311126768589, 0.04491683095693588, 0.050344571471214294, -0.00219197990372777, 0.001330355298705399, -0.002289899392053485, 0.003372346982359886, -0.01020149327814579, 0.2017812281847, 0.011009383015334606, -0.021980449557304382, 0.008769222535192966, -0.0022161463275551796, 0.01746845431625843, 0.05596240237355232, 0.002521658781915903, 0.01788732409477234, 0.0006689598667435348, 0.08583248406648636, -0.0038462751545011997, 0.03373570367693901, -0.015991952270269394, -0.019060833379626274, 0.05337205156683922, -0.01709693670272827, 0.035688791424036026, -0.007181211374700069, -0.00903268065303564, -0.013328508473932743, -0.007063929922878742, 0.053886570036411285, 0.0031894994899630547, -0.04488493874669075, -0.06056642904877663, 0.015455035492777824, 0.004635243210941553, -0.009169921278953552, 0.001735288999043405, -0.0002853306650649756, -0.03273780271410942, -0.020961912348866463, 0.0645051822066307, -0.011882300488650799, -0.02828948386013508, -0.06501040607690811, 0.010445160791277885, 0.04496780037879944, -0.01498461328446865, 0.009495657868683338, 0.002973555587232113, 0.0308537594974041]}]\n",
      "Execution End time 2024-07-29 08:31:15.278726+00:00. Elapsed total seconds 11.6693\n"
     ]
    },
    {
     "name": "stderr",
     "output_type": "stream",
     "text": [
      "\n"
     ]
    }
   ],
   "source": [
    "db_repository = VectorDbRepository(\"pdfs\", MilvusDbRepository)\n",
    "add_to_db(db_repository, pages[0:4], 3)"
   ]
  },
  {
   "cell_type": "code",
   "execution_count": 15,
   "metadata": {},
   "outputs": [
    {
     "name": "stdout",
     "output_type": "stream",
     "text": [
      "Execution Start time 2024-07-29 08:31:15.461804+00:00\n",
      "previous data found so delete them  /Users/pujanmaharjan/pdfs/agile/Kameron H. Clean Code. An Agile Guide to Software Craft 2023.pdf\n"
     ]
    },
    {
     "name": "stderr",
     "output_type": "stream",
     "text": [
      " 75%|███████▌  | 1/1.3333333333333333 [00:03<00:01,  3.49s/it]"
     ]
    },
    {
     "name": "stdout",
     "output_type": "stream",
     "text": [
      "Execution Start time 2024-07-29 08:31:19.337306+00:00\n",
      "Starting embedding\n",
      "Execution End time 2024-07-29 08:31:19.370417+00:00. Elapsed total seconds 0.033102\n",
      "Execution Start time 2024-07-29 08:31:19.370498+00:00\n",
      "Starting embedding\n",
      "Execution End time 2024-07-29 08:31:19.387873+00:00. Elapsed total seconds 0.017369\n",
      "Execution Start time 2024-07-29 08:31:19.387897+00:00\n",
      "Starting embedding\n",
      "Execution End time 2024-07-29 08:31:19.424267+00:00. Elapsed total seconds 0.036362\n"
     ]
    },
    {
     "name": "stderr",
     "output_type": "stream",
     "text": [
      "2it [00:06,  3.33s/it]                                        "
     ]
    },
    {
     "name": "stdout",
     "output_type": "stream",
     "text": [
      "Execution Start time 2024-07-29 08:31:22.543322+00:00\n",
      "Starting embedding\n",
      "Execution End time 2024-07-29 08:31:22.575790+00:00. Elapsed total seconds 0.032461\n",
      "Execution End time 2024-07-29 08:31:22.592035+00:00. Elapsed total seconds 7.130228\n"
     ]
    },
    {
     "name": "stderr",
     "output_type": "stream",
     "text": [
      "\n"
     ]
    }
   ],
   "source": [
    "db_repository_c = VectorDbRepository(\"pdfs\", ChromaDbRepository)\n",
    "add_to_db(db_repository_c, pages[0:4], 3)"
   ]
  },
  {
   "cell_type": "code",
   "execution_count": 16,
   "metadata": {},
   "outputs": [],
   "source": [
    "chromadb_repo = ChromaDbRepository(\"pdfs\")"
   ]
  },
  {
   "cell_type": "code",
   "execution_count": 17,
   "metadata": {},
   "outputs": [
    {
     "name": "stderr",
     "output_type": "stream",
     "text": [
      "Number of requested results 10 is greater than number of elements in index 4, updating n_results = 4\n"
     ]
    },
    {
     "data": {
      "text/plain": [
       "'Table of Contents\\n\\xa0\\nTitle Page\\n\\xa0\\nCopyright Page\\n\\xa0\\nClean Code: An Agile Guide to Software Craft\\n\\xa0\\nChapter 1: Clean Code\\n\\xa0\\nChapter 2: Meaningful Names\\n\\xa0\\nChapter 3: Functions\\n\\xa0\\nChapter 4: Comments\\n\\xa0\\nChapter 5: Formatting\\n\\xa0\\nChapter 6: Objects and Data Structures\\n\\xa0\\nChapter 7: Error Handling\\n\\xa0\\nChapter 8: Boundaries\\n\\xa0\\nChapter 9: Unit Tests While every precaution has been taken in the preparation of this book, the\\npublisher assumes no responsibility for errors or omissions, or for\\ndamages resulting from the use of the information contained herein.\\n\\xa0\\nCLEAN CODE: AN AGILE GUIDE TO SOFTWARE CRAFT\\n\\xa0\\nFirst edition. October 15, 2023.\\n\\xa0\\nCopyright © 2023 Kameron Hussain and Frahaan Hussain.\\n\\xa0\\nWritten by Kameron Hussain and Frahaan Hussain. Clean Code: An Agile Guide to Software Craft\\n\\xa0\\nKameron Hussain and Frahaan Hussain\\n\\xa0\\nPublished by Sonar Publishing, 2023. Chapter 10: Classes\\n\\xa0\\nChapter 13: Concurrency\\n\\xa0\\nChapter 15: JUnit Internals\\n\\xa0\\nChapter 19: Appendix B: Decimal I/O\\n\\xa0\\nChapter 20: Appendix C: How to Transform Employee'"
      ]
     },
     "execution_count": 17,
     "metadata": {},
     "output_type": "execute_result"
    }
   ],
   "source": [
    "chromadb_repo.find(\"clean code\")"
   ]
  },
  {
   "cell_type": "code",
   "execution_count": 18,
   "metadata": {},
   "outputs": [],
   "source": [
    "milvus_repo = MilvusDbRepository(\"pdfs\")\n"
   ]
  },
  {
   "cell_type": "code",
   "execution_count": 19,
   "metadata": {},
   "outputs": [
    {
     "name": "stdout",
     "output_type": "stream",
     "text": [
      "Execution Start time 2024-07-29 08:31:28.858922+00:00\n",
      "Starting embedding\n",
      "Execution End time 2024-07-29 08:31:28.947421+00:00. Elapsed total seconds 0.088489\n",
      "Search result  data: [\"[{'id': '5882477b-4513-49e8-9b34-5df7f5c74020', 'distance': 0.2022618055343628, 'entity': {'text': 'While every precaution has been taken in the preparation of this book, the\\\\npublisher assumes no responsibility for errors or omissions, or for\\\\ndamages resulting from the use of the information contained herein.\\\\n\\\\xa0\\\\nCLEAN CODE: AN AGILE GUIDE TO SOFTWARE CRAFT\\\\n\\\\xa0\\\\nFirst edition. October 15, 2023.\\\\n\\\\xa0\\\\nCopyright © 2023 Kameron Hussain and Frahaan Hussain.\\\\n\\\\xa0\\\\nWritten by Kameron Hussain and Frahaan Hussain.'}}, {'id': '8f52153b-a3a1-4b86-9379-7e4c4ea68f5e', 'distance': 0.20561350882053375, 'entity': {'text': 'Table of Contents\\\\n\\\\xa0\\\\nTitle Page\\\\n\\\\xa0\\\\nCopyright Page\\\\n\\\\xa0\\\\nClean Code: An Agile Guide to Software Craft\\\\n\\\\xa0\\\\nChapter 1: Clean Code\\\\n\\\\xa0\\\\nChapter 2: Meaningful Names\\\\n\\\\xa0\\\\nChapter 3: Functions\\\\n\\\\xa0\\\\nChapter 4: Comments\\\\n\\\\xa0\\\\nChapter 5: Formatting\\\\n\\\\xa0\\\\nChapter 6: Objects and Data Structures\\\\n\\\\xa0\\\\nChapter 7: Error Handling\\\\n\\\\xa0\\\\nChapter 8: Boundaries\\\\n\\\\xa0\\\\nChapter 9: Unit Tests'}}, {'id': 'aebae495-f777-4dd4-b90c-8dd565a2309a', 'distance': 0.24352872371673584, 'entity': {'text': 'Clean Code: An Agile Guide to Software Craft\\\\n\\\\xa0\\\\nKameron Hussain and Frahaan Hussain\\\\n\\\\xa0\\\\nPublished by Sonar Publishing, 2023.'}}, {'id': 'e15174af-4134-4c60-8585-aadc027bd5f6', 'distance': 0.44415509700775146, 'entity': {'text': 'Chapter 10: Classes\\\\n\\\\xa0\\\\nChapter 13: Concurrency\\\\n\\\\xa0\\\\nChapter 15: JUnit Internals\\\\n\\\\xa0\\\\nChapter 19: Appendix B: Decimal I/O\\\\n\\\\xa0\\\\nChapter 20: Appendix C: How to Transform Employee'}}]\"] , extra_info: {'cost': 0}\n"
     ]
    },
    {
     "data": {
      "text/plain": [
       "'While every precaution has been taken in the preparation of this book, the\\npublisher assumes no responsibility for errors or omissions, or for\\ndamages resulting from the use of the information contained herein.\\n\\xa0\\nCLEAN CODE: AN AGILE GUIDE TO SOFTWARE CRAFT\\n\\xa0\\nFirst edition. October 15, 2023.\\n\\xa0\\nCopyright © 2023 Kameron Hussain and Frahaan Hussain.\\n\\xa0\\nWritten by Kameron Hussain and Frahaan Hussain. Table of Contents\\n\\xa0\\nTitle Page\\n\\xa0\\nCopyright Page\\n\\xa0\\nClean Code: An Agile Guide to Software Craft\\n\\xa0\\nChapter 1: Clean Code\\n\\xa0\\nChapter 2: Meaningful Names\\n\\xa0\\nChapter 3: Functions\\n\\xa0\\nChapter 4: Comments\\n\\xa0\\nChapter 5: Formatting\\n\\xa0\\nChapter 6: Objects and Data Structures\\n\\xa0\\nChapter 7: Error Handling\\n\\xa0\\nChapter 8: Boundaries\\n\\xa0\\nChapter 9: Unit Tests Clean Code: An Agile Guide to Software Craft\\n\\xa0\\nKameron Hussain and Frahaan Hussain\\n\\xa0\\nPublished by Sonar Publishing, 2023. Chapter 10: Classes\\n\\xa0\\nChapter 13: Concurrency\\n\\xa0\\nChapter 15: JUnit Internals\\n\\xa0\\nChapter 19: Appendix B: Decimal I/O\\n\\xa0\\nChapter 20: Appendix C: How to Transform Employee'"
      ]
     },
     "execution_count": 19,
     "metadata": {},
     "output_type": "execute_result"
    }
   ],
   "source": [
    "milvus_repo.find(\"clean code\")"
   ]
  },
  {
   "cell_type": "code",
   "execution_count": null,
   "metadata": {},
   "outputs": [],
   "source": []
  }
 ],
 "metadata": {
  "kernelspec": {
   "display_name": ".venv_langchain",
   "language": "python",
   "name": "python3"
  },
  "language_info": {
   "codemirror_mode": {
    "name": "ipython",
    "version": 3
   },
   "file_extension": ".py",
   "mimetype": "text/x-python",
   "name": "python",
   "nbconvert_exporter": "python",
   "pygments_lexer": "ipython3",
   "version": "3.10.8"
  }
 },
 "nbformat": 4,
 "nbformat_minor": 2
}
