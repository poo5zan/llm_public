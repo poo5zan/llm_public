{
 "cells": [
  {
   "cell_type": "markdown",
   "metadata": {},
   "source": [
    "RAG ETL"
   ]
  },
  {
   "cell_type": "code",
   "execution_count": 1,
   "metadata": {},
   "outputs": [],
   "source": [
    "# load imports\n",
    "import os\n",
    "import chromadb\n",
    "from langchain_core.documents import Document\n",
    "from chromadbx import UUIDGenerator\n",
    "from tqdm import tqdm\n",
    "import datetime\n",
    "import pandas as pd\n",
    "from joblib import Parallel, delayed\n",
    "import uuid\n",
    "from langchain_community.document_loaders import PyPDFLoader\n",
    "from langchain_community.document_loaders import PyMuPDFLoader\n",
    "from langchain_community.document_loaders import PyPDFium2Loader\n",
    "from pymilvus import MilvusClient\n",
    "from langchain_community.embeddings import HuggingFaceBgeEmbeddings\n",
    "from pymilvus import CollectionSchema, FieldSchema, DataType, Collection\n"
   ]
  },
  {
   "cell_type": "code",
   "execution_count": 2,
   "metadata": {},
   "outputs": [],
   "source": [
    "# function decorator to log the execution time of function\n",
    "import functools\n",
    "def log_execution_time(func):\n",
    "    @functools.wraps(func)\n",
    "    def log_execution_time_wrapper(*args, **kwargs):\n",
    "        time_helper = TimeHelper()\n",
    "        start_time = time_helper.get_utc_now()\n",
    "        print(f\"Execution Start time {start_time}\")\n",
    "        result = func(*args, **kwargs)\n",
    "        elapsed = time_helper.get_elapsed_seconds(start_time)\n",
    "        print(f\"Execution End time {time_helper.get_utc_now()}. Elapsed total seconds {elapsed}\")\n",
    "        return result\n",
    "    \n",
    "    return log_execution_time_wrapper"
   ]
  },
  {
   "cell_type": "code",
   "execution_count": 3,
   "metadata": {},
   "outputs": [],
   "source": [
    "class FileHelper():\n",
    "    \"\"\"\n",
    "        Helper class for Files\n",
    "    \"\"\"\n",
    "    def populate_file_paths(self, dir_path, files):\n",
    "        directories = os.listdir(dir_path)\n",
    "        for dircontent in directories:\n",
    "            if dircontent.startswith(\".\"):\n",
    "                continue\n",
    "            file_path = os.path.join(dir_path, dircontent)\n",
    "            if os.path.isfile(file_path):\n",
    "                files.append(file_path)\n",
    "            elif os.path.isdir(file_path):\n",
    "                self.populate_file_paths(file_path, files)\n",
    "\n",
    "    def load_documents(self, file_path, document_loader):\n",
    "        loader = document_loader(file_path)\n",
    "        return loader.load_and_split()\n",
    "\n",
    "    def read_documents(self, file_paths, document_loader, n_jobs=2):\n",
    "        pages_all = []\n",
    "        pages = Parallel(n_jobs=n_jobs)(delayed(self.load_documents)(file_path, document_loader) for file_path in file_paths)\n",
    "        for page in pages:\n",
    "            pages_all.extend(page)\n",
    "        \n",
    "        return pages_all"
   ]
  },
  {
   "cell_type": "code",
   "execution_count": 4,
   "metadata": {},
   "outputs": [],
   "source": [
    "class IterHelper():\n",
    "    def batched(self, iterable, n):\n",
    "        if n < 1:\n",
    "            raise ValueError('n must be at least one')\n",
    "\n",
    "        for i in range(0, len(iterable), n):\n",
    "            yield iterable[i: i + n]\n",
    "\n",
    "class TimeHelper():\n",
    "    def get_utc_now(self):\n",
    "        return datetime.datetime.now(datetime.timezone.utc)\n",
    "\n",
    "    def get_elapsed_seconds(self, start_time: datetime):\n",
    "        return (self.get_utc_now() - start_time).total_seconds()\n",
    "\n",
    "class IdHelper():\n",
    "    def new_id(self):\n",
    "        return str(uuid.uuid4())\n",
    "\n",
    "    def new_ids(self, num: int):\n",
    "        return [self.new_id() for x in range(num)]\n",
    "   \n",
    "class VectorDbRepository():\n",
    "    def __init__(self, collection_name, repository):\n",
    "        self.collection_name = collection_name\n",
    "        self.repository = repository(collection_name)\n",
    "\n",
    "    def delete_collection(self):\n",
    "        self.repository.delete_collection()\n",
    "\n",
    "    def get_or_create_collection(self, collection_name):\n",
    "        return self.repository.get_or_create_collection(collection_name)\n",
    "\n",
    "    def create(self, documents_list: list[Document]) -> None:\n",
    "        return self.repository.create(documents_list)\n",
    "        \n",
    "    def get_data_by_source(self, source: str):\n",
    "        return self.repository.get_data_by_source(source)\n",
    "\n",
    "    def has_data_for_source(self, source: str):\n",
    "        return self.repository.has_data_for_source(source)\n",
    "    \n",
    "    def delete_data_by_source(self, source: str):\n",
    "        return self.repository.delete_data_by_source(source)\n",
    "\n",
    "    def find(self, search_query: str):\n",
    "        return self.repository.find(search_query)"
   ]
  },
  {
   "cell_type": "code",
   "execution_count": 5,
   "metadata": {},
   "outputs": [],
   "source": [
    "class EmbeddingHelper():\n",
    "    def __init__(self):\n",
    "        model_name = \"BAAI/bge-small-en\"\n",
    "        model_kwargs = {\"device\": \"mps\"}\n",
    "        encode_kwargs = {\"normalize_embeddings\": True}\n",
    "        self.hf_bge_embedding = HuggingFaceBgeEmbeddings(\n",
    "            model_name=model_name,\n",
    "            model_kwargs=model_kwargs,\n",
    "            encode_kwargs=encode_kwargs)\n",
    "\n",
    "    def embed(self, query):\n",
    "        print(\"Starting embedding\")\n",
    "       \n",
    "        return self.hf_bge_embedding.embed_query(query)\n"
   ]
  },
  {
   "cell_type": "code",
   "execution_count": 6,
   "metadata": {},
   "outputs": [],
   "source": [
    "class ChromaDbRepository():\n",
    "    def __init__(self, collection_name):\n",
    "        self.collection_name = collection_name\n",
    "        self.client = chromadb.PersistentClient()\n",
    "        self.collection = self.get_or_create_collection()\n",
    "\n",
    "    def delete_collection(self):\n",
    "        self.client.delete_collection(self.collection_name)\n",
    "\n",
    "    def get_or_create_collection(self):\n",
    "        return self.client.get_or_create_collection(self.collection_name)\n",
    "\n",
    "    def create(self, documents_list: list[Document]) -> None:\n",
    "        ids = IdHelper().new_ids(len(documents_list))\n",
    "        embedding_helper = EmbeddingHelper()\n",
    "        return self.collection.add(ids=ids,\n",
    "                metadatas=[p.metadata for p in documents_list],\n",
    "                documents=[p.page_content for p in documents_list],\n",
    "                embeddings=[embedding_helper.embed(p.page_content) for p in documents_list])\n",
    "        \n",
    "    def get_data_by_source(self, source: str):\n",
    "        return self.collection.get(where={\"source\":source})\n",
    "\n",
    "    def has_data_for_source(self, source: str):\n",
    "        data_by_source = self.get_data_by_source(source)\n",
    "        return len(data_by_source[\"ids\"]) > 0\n",
    "    \n",
    "    def delete_data_by_source(self, source: str):\n",
    "        return self.collection.delete(where={\"source\":source})\n",
    "\n",
    "    def find(self, search_query: str):\n",
    "        results = self.collection.query(query_texts=[search_query])\n",
    "        result_documents = results.get(\"documents\")\n",
    "        if result_documents and len(result_documents) > 0:\n",
    "            return ' '.join(result_documents[0])\n",
    "        "
   ]
  },
  {
   "cell_type": "code",
   "execution_count": 7,
   "metadata": {},
   "outputs": [],
   "source": [
    "class PdfCollectionHelper():\n",
    "    def __init__(self):\n",
    "        self.embedding_helper = EmbeddingHelper()\n",
    "\n",
    "    def get_schema(self):\n",
    "        pdf_id = FieldSchema(\n",
    "            name=\"id\",\n",
    "            dtype=DataType.VARCHAR,\n",
    "            is_primary=True,\n",
    "            auto_id=False,\n",
    "            max_length=100)\n",
    "        source = FieldSchema(\n",
    "            name=\"source\",\n",
    "            dtype=DataType.VARCHAR,\n",
    "            max_length=200)\n",
    "        page_number = FieldSchema(\n",
    "            name=\"page\",\n",
    "            dtype=DataType.VARCHAR,\n",
    "            max_length=10)\n",
    "        text = FieldSchema(\n",
    "            name=\"text\",\n",
    "            dtype=DataType.VARCHAR,\n",
    "            max_length=6000)\n",
    "        text_vector = FieldSchema(\n",
    "            name=\"text_vector\",\n",
    "            dtype=DataType.FLOAT_VECTOR,\n",
    "            dim=384)\n",
    "        return CollectionSchema(\n",
    "            fields=[pdf_id, source, page_number, text, text_vector],\n",
    "            description=\"PDF Documents\",\n",
    "            enable_dynamic_field=True)\n",
    "\n",
    "    def get_index_params(self, client):\n",
    "        index_params = client.prepare_index_params()\n",
    "        index_params.add_index(field_name=\"source\", index_type=\"AUTOINDEX\")\n",
    "        index_params.add_index(field_name=\"text_vector\", index_type=\"AUTOINDEX\", metric_type=\"L2\")\n",
    "        return index_params\n",
    "\n",
    "    def new_data(self, document: Document):\n",
    "        return {\n",
    "            \"id\": IdHelper().new_id(),\n",
    "            \"source\": document.metadata.get(\"source\"),\n",
    "            \"page\": str(document.metadata.get(\"page\")),\n",
    "            \"text\": document.page_content,\n",
    "            \"text_vector\": self.embedding_helper.embed(document.page_content)\n",
    "        }\n",
    "\n",
    "class MilvusDbRepository():\n",
    "    def __init__(self, collection_name):\n",
    "        self.collection_name = collection_name\n",
    "        self.client = MilvusClient(uri=\"http://localhost:19530\", token=\"root:Milvus\")\n",
    "        self.get_or_create_collection()\n",
    "   \n",
    "    def get_collection_helper(self):\n",
    "        if self.collection_name == \"pdfs\":\n",
    "            return PdfCollectionHelper()\n",
    "\n",
    "    def delete_collection(self):\n",
    "        if self.client.has_collection(self.collection_name):\n",
    "            print(f\"Deleting collection {self.collection_name}\")\n",
    "            self.client.drop_collection(collection_name = self.collection_name)\n",
    "\n",
    "    def get_or_create_collection(self):\n",
    "        if not self.client.has_collection(self.collection_name):\n",
    "            print(f\"Creating collection {self.collection_name}\")\n",
    "            collection_helper = self.get_collection_helper()      \n",
    "            self.client.create_collection(\n",
    "                collection_name = self.collection_name,\n",
    "                schema = collection_helper.get_schema(),\n",
    "                index_params = collection_helper.get_index_params(self.client))\n",
    "\n",
    "    def create(self, documents_list: list[Document]) -> None:\n",
    "        collection_helper = self.get_collection_helper()\n",
    "        data = [collection_helper.new_data(d) for d in documents_list]\n",
    "        print(\"data to add \", data)\n",
    "        return self.client.insert(\n",
    "            collection_name=self.collection_name,\n",
    "            data=data)\n",
    "        \n",
    "    def get_data_by_source(self, source: str):\n",
    "        return self.client.query(\n",
    "            collection_name=self.collection_name,\n",
    "            filter=f\"source == '{source}'\")\n",
    "\n",
    "    def has_data_for_source(self, source: str):\n",
    "        data_by_source = self.get_data_by_source(source)\n",
    "        return len(data_by_source) > 0\n",
    "    \n",
    "    def delete_data_by_source(self, source: str):\n",
    "        # Delete entities by a filter expression\n",
    "        return self.client.delete(\n",
    "            collection_name=self.collection_name,\n",
    "            filter=f\"source == '{source}'\")\n",
    "\n",
    "    def find(self, search_query: str):\n",
    "        search_embedding = EmbeddingHelper().embed(search_query)\n",
    "        search_result = self.client.search(collection_name=self.collection_name,\n",
    "            data=[search_embedding],\n",
    "            output_fields=[\"text\"])\n",
    "        print('Search result ', search_result)\n",
    "        if len(search_result) > 0:\n",
    "            docs = [x.get('entity').get('text') for x in search_result[0]]\n",
    "            return ' '.join(docs)\n"
   ]
  },
  {
   "cell_type": "code",
   "execution_count": 8,
   "metadata": {},
   "outputs": [
    {
     "name": "stdout",
     "output_type": "stream",
     "text": [
      "root path  /Users/pujanmaharjan/pdfs/agile\n"
     ]
    },
    {
     "data": {
      "text/plain": [
       "['/Users/pujanmaharjan/pdfs/agile/Kameron H. Clean Code. An Agile Guide to Software Craft 2023.pdf',\n",
       " '/Users/pujanmaharjan/pdfs/agile/akka/Abraham F. Akka in Action (MEAP v13) 2ed 2023.pdf']"
      ]
     },
     "execution_count": 8,
     "metadata": {},
     "output_type": "execute_result"
    }
   ],
   "source": [
    "# constants\n",
    "ROOT_DIR = \"/Users/pujanmaharjan/pdfs\"\n",
    "\n",
    "file_helper = FileHelper()\n",
    "\n",
    "files = []\n",
    "root_path = os.path.join(ROOT_DIR, \"agile\")\n",
    "print('root path ', root_path)\n",
    "file_helper.populate_file_paths(root_path, files)\n",
    "files"
   ]
  },
  {
   "cell_type": "code",
   "execution_count": 9,
   "metadata": {},
   "outputs": [],
   "source": [
    "# # Experiment pdf loaders\n",
    "# pdf_loader_results = []\n",
    "# pdf_loaders = [PyPDFLoader, PyMuPDFLoader, PyPDFium2Loader]\n",
    "# # pdf_loaders = [PyPDFium2Loader]\n",
    "# time_helper = TimeHelper()\n",
    "# for pdf_loader in pdf_loaders:\n",
    "#     start_time = time_helper.get_utc_now()\n",
    "#     pages = file_helper.read_documents(files, pdf_loader, n_jobs=5)\n",
    "#     pdf_loader_results.append({\"loader\": pdf_loader.__name__,\n",
    "#                                \"elapsed\": time_helper.get_elapsed_seconds(start_time),\n",
    "#                                \"pages_count\": len(pages)})\n",
    "    \n",
    "# pdf_loader_results_df = pd.DataFrame(pdf_loader_results)\n",
    "# pdf_loader_results_df.sort_values(by=\"elapsed\")\n",
    "\n",
    "# # The result shows PyMuPDFLoader is fastest"
   ]
  },
  {
   "cell_type": "code",
   "execution_count": 10,
   "metadata": {},
   "outputs": [],
   "source": [
    "pages = file_helper.read_documents(files, PyMuPDFLoader, n_jobs=5)"
   ]
  },
  {
   "cell_type": "code",
   "execution_count": 11,
   "metadata": {},
   "outputs": [],
   "source": [
    "\n",
    "@log_execution_time\n",
    "def add_to_db(db_repository: VectorDbRepository, pages, batch_size):\n",
    "    sources = list(set([p.metadata['source'] for p in pages]))\n",
    "    for source in sources:\n",
    "        if db_repository.has_data_for_source(source):\n",
    "            print(\"previous data found so delete them \", source)\n",
    "            db_repository.delete_data_by_source(source)\n",
    "\n",
    "    iter_helper = IterHelper()\n",
    "    for page_batch in tqdm(iter_helper.batched(pages, batch_size), total=len(pages)/batch_size):\n",
    "        db_repository.create(page_batch)\n"
   ]
  },
  {
   "cell_type": "code",
   "execution_count": 12,
   "metadata": {},
   "outputs": [],
   "source": [
    "db_repository = VectorDbRepository(\"pdfs\", MilvusDbRepository)"
   ]
  },
  {
   "cell_type": "code",
   "execution_count": 13,
   "metadata": {},
   "outputs": [
    {
     "data": {
      "text/plain": [
       "{'state': <LoadState: Loaded>}"
      ]
     },
     "execution_count": 13,
     "metadata": {},
     "output_type": "execute_result"
    }
   ],
   "source": [
    "db_repository.repository.client.get_load_state('pdfs')"
   ]
  },
  {
   "cell_type": "code",
   "execution_count": 14,
   "metadata": {},
   "outputs": [],
   "source": [
    "pages_small = pages[0:10]"
   ]
  },
  {
   "cell_type": "code",
   "execution_count": 15,
   "metadata": {},
   "outputs": [
    {
     "name": "stdout",
     "output_type": "stream",
     "text": [
      "Execution Start time 2024-07-29 10:06:46.380627+00:00\n",
      "previous data found so delete them  /Users/pujanmaharjan/pdfs/agile/Kameron H. Clean Code. An Agile Guide to Software Craft 2023.pdf\n"
     ]
    },
    {
     "name": "stderr",
     "output_type": "stream",
     "text": [
      "  0%|          | 0/3.3333333333333335 [00:00<?, ?it/s]/Users/pujanmaharjan/Projects/llm_public/langchain/.venv_langchain/lib/python3.10/site-packages/sentence_transformers/cross_encoder/CrossEncoder.py:11: TqdmWarning: IProgress not found. Please update jupyter and ipywidgets. See https://ipywidgets.readthedocs.io/en/stable/user_install.html\n",
      "  from tqdm.autonotebook import tqdm, trange\n"
     ]
    },
    {
     "name": "stdout",
     "output_type": "stream",
     "text": [
      "Starting embedding\n"
     ]
    },
    {
     "name": "stderr",
     "output_type": "stream",
     "text": [
      " 30%|███       | 1/3.3333333333333335 [00:08<00:20,  8.89s/it]"
     ]
    },
    {
     "name": "stdout",
     "output_type": "stream",
     "text": [
      "Starting embedding\n",
      "Starting embedding\n",
      "data to add  [{'id': '5630c232-c169-4057-9a87-901ad1156d87', 'source': '/Users/pujanmaharjan/pdfs/agile/Kameron H. Clean Code. An Agile Guide to Software Craft 2023.pdf', 'page': '0', 'text': 'Clean Code: An Agile Guide to Software Craft\\n\\xa0\\nKameron Hussain and Frahaan Hussain\\n\\xa0\\nPublished by Sonar Publishing, 2023.', 'text_vector': [-0.047733038663864136, -0.02504950761795044, -0.001811690628528595, -0.03612646460533142, 0.038309499621391296, -0.016000768169760704, -0.01492363028228283, 0.015392203815281391, -0.011930588632822037, 0.01908709481358528, 0.009967081248760223, 0.00401201331987977, 0.017264170572161674, -0.020557153970003128, 0.01816260814666748, 0.016420511528849602, 0.020166020840406418, 0.02830670401453972, 0.006382734514772892, 0.016605107113718987, 0.040077339857816696, 0.005303573794662952, 0.001837660907767713, -0.05891763046383858, 0.02775857225060463, 0.028868740424513817, -0.028928318992257118, -0.038494259119033813, -0.07669933885335922, -0.20467254519462585, -0.012802577577531338, 0.0026629201602190733, 0.04878295212984085, -0.01821170561015606, 0.004411305300891399, 0.01575646363198757, 0.005472251214087009, 0.029838982969522476, 0.002775173867121339, 0.0048958538100123405, -0.04370373860001564, 0.03087136708199978, -0.0009916718117892742, -0.010032713413238525, -0.009355022571980953, -0.022498399019241333, 0.0017785303061828017, -0.04849986732006073, -0.029959576204419136, -0.07173869758844376, -0.007975637912750244, -0.03540310263633728, -0.010253091342747211, 0.020885534584522247, 0.0008932455675676465, -0.022738570347428322, -0.002789498073980212, 0.03106161765754223, -0.01427826751023531, 0.07992971688508987, 0.03417236730456352, 0.0008272393606603146, -0.20334124565124512, 0.02491105906665325, 0.0381840281188488, 0.061033014208078384, -0.02132559008896351, -0.026183512061834335, 0.027356401085853577, 0.04470500722527504, -0.023355964571237564, -0.007370869629085064, 0.005231395363807678, 0.03674973174929619, 0.07172289490699768, -0.005448481999337673, 0.023525312542915344, -0.04417378082871437, 0.011054041795432568, 0.009201562963426113, -0.021070018410682678, -0.04608755558729172, -0.014432387426495552, -0.03447539731860161, -0.048428334295749664, -0.0075849625281989574, 0.004325313027948141, -0.03214472904801369, 0.055360931903123856, -0.018556473776698112, 0.00196853163652122, -0.01595032960176468, 0.039699990302324295, 0.01513871643692255, -0.04064173623919487, -0.0012707429705187678, 0.04962944984436035, 0.02251737378537655, -0.03153952211141586, 0.6003550291061401, -0.03229694813489914, -0.0035765543580055237, -0.012901974841952324, -0.025530975311994553, 0.016413463279604912, -0.007745519280433655, 0.03222809359431267, -0.01818082667887211, 0.0016476234886795282, 0.00275817490182817, 0.0148849505931139, -0.013461612164974213, 0.054119158536195755, -0.053902823477983475, 0.00721775321289897, 0.041483938694000244, 0.022145286202430725, 0.05491530895233154, 0.02124853804707527, -0.025386260822415352, -0.06701651960611343, 0.011851375922560692, 0.049366991966962814, 0.022552788257598877, -0.016582686454057693, -0.03639233112335205, -0.0051161604933440685, 0.06562256067991257, 0.007817587815225124, -0.008200804702937603, 0.019662989303469658, 0.01846674084663391, -0.07106120139360428, -0.012889993377029896, 0.019109336659312248, 0.01121222972869873, -0.016379809007048607, -0.009504539892077446, -0.024722563102841377, 0.034068331122398376, -0.015025036409497261, -0.009299935773015022, 0.007485537324100733, -0.08742804080247879, -0.07433053851127625, 0.00914484728127718, 0.017314592376351357, -0.008758382871747017, -0.0668749138712883, 0.0021654521115124226, 0.008848982863128185, 0.021351931616663933, 0.01433319877833128, 0.0006988340755924582, 0.025933189317584038, -0.008412438444793224, 0.05035616457462311, 0.02335454523563385, -0.05554058030247688, -0.008482123725116253, -0.015418969094753265, -0.021477967500686646, -0.04232864826917648, 0.08066359907388687, -0.002073462586849928, -0.13418379426002502, 0.019912349060177803, 0.021415285766124725, -0.013126326724886894, -0.00933294091373682, 0.026016918942332268, -0.02597923018038273, -0.01873192749917507, 0.01875600405037403, 0.034504204988479614, -0.022238580510020256, -0.0011589346686378121, 0.022696426138281822, 0.020712530240416527, 0.019241556525230408, 0.0026720776222646236, -0.013729497790336609, -0.03184826672077179, 0.0201614648103714, 0.013303928077220917, -0.07270652800798416, 0.011726918630301952, -0.011714251711964607, 0.010616888292133808, 0.042276427149772644, -0.029413439333438873, 0.012173539958894253, -0.043887894600629807, 0.05531040206551552, -0.006382382940500975, -0.019535336643457413, -0.03775874525308609, 0.009787047281861305, -0.03479928895831108, -0.04988446086645126, -0.07260847091674805, 0.03267065808176994, -0.02874666079878807, -0.025278370827436447, 0.019098758697509766, 0.028543176129460335, -0.006817284971475601, -0.027823975309729576, 0.028347468003630638, 0.028887787833809853, -0.04658760130405426, 0.005621727555990219, 0.05162939429283142, -0.004982145968824625, -0.0146089568734169, 0.027397707104682922, -0.01816355250775814, 0.018072308972477913, -0.02123577892780304, 0.028423139825463295, -0.009708713740110397, -0.04858405515551567, -0.06854718923568726, -0.19785219430923462, -0.008694060146808624, -0.03423631936311722, -0.008800415322184563, 0.046262308955192566, -0.03957979008555412, -0.013285156339406967, -0.038738977164030075, 0.007424534298479557, 0.04595933109521866, 0.07381909340620041, 0.03201189637184143, -0.0377437025308609, -0.0001326795609202236, -0.024672525003552437, 0.030064189806580544, 0.021727828308939934, -0.026514358818531036, -0.017400633543729782, -0.01751975528895855, 0.06082881614565849, -0.003408771473914385, -0.005310091655701399, -0.01630985364317894, 0.02713920548558235, 0.008349584415555, 0.11936623603105545, -0.0019223318668082356, 0.06294159591197968, 0.010451637208461761, -0.02626759372651577, 0.015356534160673618, -0.015071487985551357, -0.12643060088157654, 0.03312335163354874, 0.03313131630420685, 0.07517281174659729, -0.04422173276543617, -0.020243752747774124, -0.023542916402220726, -0.029295921325683594, -0.007870745845139027, -0.0410260371863842, -0.06638436764478683, -0.02982284501194954, -0.028089163824915886, -0.04707888513803482, 0.0022497824393212795, 0.005620471201837063, 0.008838615380227566, 0.017526304349303246, 0.015051476657390594, -0.010694708675146103, 0.018718546256422997, -0.05477958545088768, 0.009251187555491924, -0.060251928865909576, 0.014717644080519676, 0.022624537348747253, -0.0017002548556774855, 0.02627996727824211, -0.03655869513750076, -0.015757808461785316, 0.015372484922409058, 0.030656900256872177, -0.011718381196260452, 0.030155688524246216, 0.024479465559124947, 0.02923010289669037, -0.005440675653517246, -0.0036400295794010162, 0.10365326702594757, -0.005783023778349161, -0.034361373633146286, 0.01782771199941635, 0.012253331020474434, 0.01650499552488327, -0.017833158373832703, -0.0004357211582828313, -0.04570683091878891, 0.043158698827028275, -0.009684170596301556, 0.0621274970471859, 0.03150416165590286, 0.008350607007741928, 0.0006006097537465394, 0.01777738332748413, -0.03365853801369667, -0.014997263438999653, 0.017879435792565346, -0.0061615752056241035, -0.0008400936494581401, -0.00453938776627183, -0.027687933295965195, 0.018319059163331985, 0.013612317852675915, -0.2382194697856903, -0.037573084235191345, -0.012101360596716404, 0.048694923520088196, -0.01841234415769577, 0.028828753158450127, 0.04487098753452301, -0.04111513867974281, 0.02618604339659214, 0.025823533535003662, 0.027185644954442978, 0.02116909995675087, 0.0325252003967762, -0.007698443718254566, 0.0377948172390461, -0.006378868594765663, 0.044114504009485245, -0.009639713913202286, 0.04526456817984581, -0.0020906568970531225, 0.0194650050252676, -0.004750145599246025, 0.17435415089130402, -0.04374319314956665, 0.006695222109556198, 0.011642198078334332, 0.039425306022167206, 0.0037711102049797773, 0.012059218250215054, 0.027716457843780518, 0.03757718577980995, 0.031328022480010986, 0.1102268323302269, -0.006334064062684774, -0.036471422761678696, 0.023626921698451042, 0.006717384792864323, 0.06364382058382034, -0.004513653926551342, 0.00040677821380086243, -0.020265473052859306, -0.02614695578813553, -0.01550978422164917, -0.01163358986377716, 0.028125574812293053, -0.02145593799650669, -0.05007847771048546, -0.06979396939277649, -0.024275198578834534, 0.024466490373015404, -0.016579287126660347, 0.05033717676997185, -0.01836707442998886, 0.005349410697817802, 0.020827975124120712, 0.04510851576924324, 0.0033141199965029955, -0.03178504481911659, -0.07030987739562988, -0.022881651297211647, 0.030821574851870537, -0.002082573715597391, 0.018814636394381523, 0.060090698301792145, 0.03421280160546303]}, {'id': '2d61123d-8f06-4212-acea-fef1aa4b6e55', 'source': '/Users/pujanmaharjan/pdfs/agile/Kameron H. Clean Code. An Agile Guide to Software Craft 2023.pdf', 'page': '1', 'text': 'While every precaution has been taken in the preparation of this book, the\\npublisher assumes no responsibility for errors or omissions, or for\\ndamages resulting from the use of the information contained herein.\\n\\xa0\\nCLEAN CODE: AN AGILE GUIDE TO SOFTWARE CRAFT\\n\\xa0\\nFirst edition. October 15, 2023.\\n\\xa0\\nCopyright © 2023 Kameron Hussain and Frahaan Hussain.\\n\\xa0\\nWritten by Kameron Hussain and Frahaan Hussain.', 'text_vector': [-0.06934400647878647, -0.03355212137103081, -0.0019920237828046083, -0.05417127162218094, 0.034859247505664825, -0.025706995278596878, 0.012088226154446602, 0.01965169981122017, 0.0046494402922689915, 0.0276531632989645, -0.007988669909536839, -0.01746678352355957, 0.02243603579699993, -0.01727413944900036, -0.03601092845201492, 0.03539658337831497, 0.019408201798796654, 0.010345772840082645, 0.00729347812011838, 0.018555043265223503, 0.06195828691124916, -0.018806464970111847, 0.016517577692866325, -0.0340573787689209, 0.0658123716711998, 0.013361526653170586, -0.045547790825366974, -0.020636368542909622, -0.04198991134762764, -0.21308781206607819, -0.02169979363679886, 0.018226148560643196, 0.043318722397089005, -0.012360635213553905, 0.01568497158586979, -0.005586196202784777, -0.0028940471820533276, 0.0294792540371418, 0.0037581941578537226, 0.01068196166306734, -0.031714409589767456, 0.02911139465868473, 0.017598360776901245, -0.013271824456751347, -0.0049146851524710655, -0.018049493432044983, -0.015213046222925186, -0.05044525861740112, -0.013636146672070026, -0.06939464062452316, 0.007064842619001865, -0.010229485109448433, -0.021455904468894005, 0.03706565871834755, 0.007397834677249193, -0.014997655525803566, -0.0029894469771534204, 0.0514395534992218, -0.02050822414457798, 0.09765637665987015, 0.015623986721038818, -0.003457802813500166, -0.22181671857833862, 0.052840620279312134, 0.04815623536705971, 0.06070912629365921, -0.0029784338548779488, 0.002613697201013565, 0.027051573619246483, 0.03869415074586868, -0.026363203302025795, 0.00866530928760767, 0.006670527160167694, 0.03282906487584114, 0.04221088066697121, -0.010500962845981121, 0.026601895689964294, -0.03489871323108673, 0.015417927876114845, -0.00811577308923006, -0.02466273494064808, -0.03677317127585411, -0.0023490781895816326, -0.02796747162938118, -0.03937609866261482, -0.0011645398335531354, 0.024479269981384277, -0.00672142906114459, 0.051901400089263916, 0.0049904100596904755, 0.030012687668204308, -0.054039116948843, 0.03685914725065231, 0.016500093042850494, -0.05350686237215996, 0.012785563245415688, 0.046800412237644196, 0.02577938139438629, -0.045926813036203384, 0.6017707586288452, -0.051520198583602905, 0.008823673240840435, -0.04366661235690117, 0.0007810317911207676, 0.016039086505770683, -0.0023124064318835735, 0.05517688766121864, -0.014839706011116505, -0.0018412027275189757, -0.00019132440502289683, -0.00485728494822979, -0.015502004884183407, 0.05447380989789963, -0.05541013181209564, 0.02613481692969799, 0.054307885468006134, 0.02131725288927555, 0.04014725238084793, 0.031209075823426247, -0.029532307758927345, -0.01334382314234972, 0.001632012310437858, 0.07063867896795273, 0.022706707939505577, -0.02480592019855976, -0.024070270359516144, -0.01511198841035366, 0.06963025033473969, 0.0005637856665998697, 0.007578569930046797, 0.009498515166342258, 0.023491134867072105, -0.026766281574964523, -0.015879947692155838, 0.01918219029903412, 0.0289447121322155, -0.02556595951318741, 0.014263802208006382, -0.003910013474524021, -0.006938468664884567, -0.019818885251879692, -0.027696393430233, -0.01695389859378338, -0.07796431332826614, -0.08196446299552917, -0.01548861712217331, 0.016215572133660316, -0.004275980405509472, -0.06279393285512924, 0.0032646479085087776, 0.009713508188724518, 0.045156240463256836, -0.013498692773282528, 0.036561518907547, 0.022874299436807632, -0.0275809895247221, 0.040879957377910614, 0.03377425670623779, -0.06936842948198318, -0.026285666972398758, 0.007157586049288511, -0.006497655063867569, -0.037682145833969116, 0.0815015360713005, -0.023006750270724297, -0.09717828035354614, 0.022807948291301727, 0.030725987628102303, -0.006783695891499519, -0.0019431962864473462, 0.021663671359419823, -0.05392319709062576, -0.026015929877758026, 0.036913443356752396, 0.03855712711811066, -0.004257716704159975, -0.004452187102288008, 0.03231683000922203, 0.018118437379598618, 0.014887184835970402, -0.005569154396653175, -0.012248710729181767, -0.022458571940660477, 0.022595340386033058, 0.03524215519428253, -0.08929110318422318, -0.007744864095002413, -0.0001719379797577858, 0.02435774728655815, 0.04197021201252937, -0.050719983875751495, 0.023096485063433647, -0.04351986199617386, 0.04639619216322899, -0.042200639843940735, -0.012469262816011906, -0.04263334721326828, -0.005383249372243881, -0.01492179837077856, -0.05727782100439072, -0.059785325080156326, 0.045248907059431076, -0.03198878467082977, -0.014016221277415752, 0.0021549693774431944, 0.005501298699527979, 0.02440182864665985, -0.0343339666724205, 0.024367332458496094, 0.03893554210662842, -0.04191124811768532, 0.014779346063733101, 0.021125541999936104, -0.02421838603913784, 0.002447298727929592, 0.03354048728942871, -0.01837390661239624, 0.026631079614162445, -0.020703652873635292, 0.0384814515709877, -0.025360073894262314, -0.04214204102754593, -0.05559872090816498, -0.1883605420589447, -0.02560841664671898, -0.032132916152477264, 0.0005934921791777015, 0.03234937787055969, -0.022481581196188927, 0.008360503241419792, -0.04842429980635643, -0.039042118936777115, 0.016139209270477295, 0.09785608947277069, 0.0036498706322163343, -0.04103178158402443, -0.014662191271781921, -0.05579305440187454, 0.01451167929917574, 0.030015259981155396, -0.040237121284008026, -0.009896733798086643, -0.011109502986073494, 0.0395798534154892, -0.015122594311833382, -0.0038896731566637754, -0.004745833110064268, 0.030124127864837646, 0.007503465283662081, 0.11569959670305252, -0.004284700378775597, 0.04736926034092903, 0.017069196328520775, -0.019337210804224014, 0.007261737249791622, 0.0005535587552003562, -0.12122610211372375, 0.02870379388332367, 0.039231978356838226, 0.03536054864525795, -0.03018280491232872, -0.017150886356830597, -0.02512408047914505, -0.00038511204184032977, -0.020541120320558548, -0.030988037586212158, -0.05644138157367706, -0.009680950082838535, -0.019533105194568634, -0.07196919620037079, -0.003754470031708479, -0.012075649574398994, 0.009541363455355167, 0.024576757103204727, 0.028408046811819077, -0.0017233493272215128, 0.052487120032310486, -0.024493010714650154, -0.01312886644154787, -0.07069941610097885, 0.021183384582400322, 0.011057927273213863, 0.0076311989687383175, 0.03468802198767662, -0.05167127773165703, -0.0015726747224107385, -0.024856040254235268, 0.031700342893600464, -0.007849186658859253, 0.03194422647356987, -0.012808818370103836, 0.03522970527410507, -0.007050244603306055, -0.011240166611969471, 0.06909970939159393, 0.01947197876870632, -0.034912437200546265, 0.008551751263439655, 0.021122559905052185, -0.003143541980534792, -0.01940183714032173, -0.010269509628415108, -0.018119826912879944, 0.014076776802539825, 0.012891345657408237, 0.06567813456058502, 0.04016423225402832, 0.02197437733411789, 0.008945471607148647, 0.017417753115296364, 0.0008601495064795017, -0.002410786459222436, 0.007196775637567043, 0.009853584691882133, 0.0007375422865152359, -0.011275758035480976, -0.011817962862551212, 0.03647821769118309, 0.01291145570576191, -0.23937764763832092, -0.05318731069564819, -0.00242463406175375, 0.04629409685730934, -0.028243426233530045, 0.021330473944544792, 0.05056574568152428, -0.03150317817926407, 0.004583525005728006, 0.007303182501345873, 0.015916671603918076, 0.033827196806669235, 0.030474940314888954, -0.02424081601202488, 0.04279069975018501, -0.0020796526223421097, 0.05257779732346535, -0.03173719719052315, 0.03638739511370659, -0.014509661123156548, 0.009402357041835785, -0.013927953317761421, 0.16733750700950623, -0.02661045826971531, -0.0046988665126264095, 0.0004614205681718886, 0.017479194328188896, 0.009488013572990894, 0.033404409885406494, 0.021522339433431625, 0.026418905705213547, 0.02769877389073372, 0.10942764580249786, 0.022407282143831253, -0.020814409479498863, -0.004609048832207918, -0.02948419563472271, 0.028494201600551605, -0.004480560775846243, -0.015271286480128765, -0.043935686349868774, -0.028224503621459007, -0.008474215865135193, -0.024448921903967857, 0.026324860751628876, -0.030187392607331276, -0.04781831428408623, -0.07100296765565872, -0.03241522237658501, 0.008103190921247005, -0.0015144728822633624, 0.03258828818798065, -0.022077642381191254, -0.0033634109422564507, 0.0021947533823549747, 0.021483387798070908, 0.003500905819237232, -0.005894018802791834, -0.06570042669773102, -0.018614303320646286, 0.012163350358605385, 0.006708964705467224, 0.02556971274316311, 0.06093326956033707, 0.026781940832734108]}, {'id': '313ac805-b133-4d9d-a121-3f2c6601c8f4', 'source': '/Users/pujanmaharjan/pdfs/agile/Kameron H. Clean Code. An Agile Guide to Software Craft 2023.pdf', 'page': '2', 'text': 'Table of Contents\\n\\xa0\\nTitle Page\\n\\xa0\\nCopyright Page\\n\\xa0\\nClean Code: An Agile Guide to Software Craft\\n\\xa0\\nChapter 1: Clean Code\\n\\xa0\\nChapter 2: Meaningful Names\\n\\xa0\\nChapter 3: Functions\\n\\xa0\\nChapter 4: Comments\\n\\xa0\\nChapter 5: Formatting\\n\\xa0\\nChapter 6: Objects and Data Structures\\n\\xa0\\nChapter 7: Error Handling\\n\\xa0\\nChapter 8: Boundaries\\n\\xa0\\nChapter 9: Unit Tests', 'text_vector': [-0.058652568608522415, 0.009205340407788754, 0.032230619341135025, -0.038588348776102066, 0.054146330803632736, -0.0013061808422207832, 0.0370904915034771, 0.021146424114704132, 0.0006844877498224378, 0.010434838943183422, -0.009893570095300674, 0.0021730950102210045, 0.020403791218996048, -0.009000374004244804, 0.008610273711383343, 0.03518857806921005, 0.01868489198386669, 0.053799211978912354, -0.014703095890581608, 0.008018859662115574, 0.03455488383769989, -0.01562123466283083, 0.003672810271382332, -0.03215374797582626, 0.04359966889023781, 0.047729481011629105, -0.028404073789715767, -0.051870591938495636, -0.031116744503378868, -0.23074279725551605, -0.041550375521183014, 0.030029315501451492, 0.03774445876479149, -0.031033044680953026, -0.007088853977620602, -0.0016885658260434866, 0.009245107881724834, 0.00909380428493023, -0.013888318091630936, 0.021167034283280373, -0.015621050260961056, 0.025421252474188805, 0.004150722175836563, -0.029902180656790733, -0.012653959915041924, -0.04618445783853531, 0.0006980820326134562, -0.04160752892494202, -0.012406524270772934, -0.018471362069249153, -0.023381579667329788, -0.040479954332113266, -0.04120722413063049, 0.03726465627551079, 0.01589079201221466, -0.0077982679940760136, 0.04236554726958275, 0.03748739883303642, -0.002275465289130807, 0.030814412981271744, 0.026258321478962898, -0.026562681421637535, -0.1637907326221466, 0.062491275370121, 0.044405605643987656, 0.035155992954969406, -0.0442250519990921, -0.0015184521907940507, -0.004155020695179701, 0.06081734970211983, -0.022812264040112495, 0.016330907121300697, -0.01092484686523676, 0.056597378104925156, 0.046582020819187164, -0.01693333312869072, -0.006119140889495611, -0.03179936110973358, 0.018069613724946976, -0.007161540910601616, -0.05446179583668709, -0.0283297561109066, -0.006992532406002283, -0.005144385155290365, -0.0280828308314085, 0.005308988969773054, 0.01081262156367302, 0.0013247616589069366, 0.03999141603708267, -0.004226155113428831, 0.020751113072037697, -0.020026613026857376, 0.02992215007543564, 0.018071992322802544, -0.06411905586719513, 0.00840795412659645, -0.004691761918365955, 0.014426225796341896, -0.03817686811089516, 0.6259369850158691, -0.037510015070438385, 0.003725204383954406, -0.018138932064175606, -0.0418463870882988, 0.003989545162767172, -0.027454478666186333, 0.04498359560966492, -0.007517281454056501, 0.008548152633011341, -0.0009222918888553977, 0.012561005540192127, -0.015251407399773598, 0.0019082155777141452, -0.07454919070005417, -0.00121527467854321, 0.018320059403777122, 0.032197948545217514, 0.0015800677938386798, 0.0034759696573019028, -0.018338095396757126, 0.010415536351501942, 0.014303980395197868, 0.02675517275929451, -0.016546210274100304, -0.0061687626875936985, -0.00980630237609148, 0.026541447266936302, 0.04435130953788757, 0.019170373678207397, 0.02022283524274826, 0.038554247468709946, 0.030430572107434273, -0.03540772199630737, -0.00716034322977066, -0.003993311896920204, 0.014855559915304184, -0.020673399791121483, -0.020853109657764435, -0.009401943534612656, 0.010085809044539928, -0.009422609582543373, -0.002569741103798151, 0.040344011038541794, -0.0850638821721077, -0.06670069694519043, 0.033850930631160736, -0.010222687385976315, 0.03079800494015217, -0.04127243906259537, 0.00842814240604639, 0.030214328318834305, 0.05366344377398491, 0.002796027809381485, 0.012785552069544792, 0.014247161336243153, -0.008555545471608639, 0.043208494782447815, 0.01624172367155552, -0.051204826682806015, -0.004590432159602642, -0.012130401097238064, 0.003907597158104181, -0.03172963857650757, 0.09699240326881409, -0.02259305864572525, -0.10135284066200256, -0.010427757166326046, 0.006937764119356871, 0.012890863232314587, -0.025190582498908043, 0.013674093410372734, -0.02214527502655983, -0.03340036794543266, 0.007993703708052635, 0.023215532302856445, 0.009127349592745304, -0.009065943770110607, 0.017140215262770653, 0.009095704182982445, 0.023245489224791527, 0.010997903533279896, -0.015701010823249817, -0.043772920966148376, 0.013951358385384083, 0.05849088728427887, -0.05198484659194946, -0.026426659896969795, -0.032053541392087936, 0.0342307947576046, 0.021346760913729668, -0.06236150115728378, -0.01347379945218563, -0.036418698728084564, 0.0366385318338871, -0.05630457028746605, -0.034238751977682114, -0.026510018855333328, -0.01948150061070919, -0.039512090384960175, -0.0344046987593174, -0.026814542710781097, 0.038712043315172195, -0.018887730315327644, -0.0061065987683832645, -0.01128606591373682, 0.03060987964272499, 0.02373070828616619, -0.051477279514074326, 0.024977678433060646, 0.051437828689813614, -0.06508875638246536, 0.01917114108800888, 0.04617258533835411, -0.014905470423400402, 0.0029908118303865194, -0.01614033617079258, -0.007804553955793381, 0.04056954011321068, -0.026077911257743835, 0.05087238922715187, -0.006203966680914164, -0.030318189412355423, -0.05974860489368439, -0.19357581436634064, 0.009799961932003498, -0.01948489621281624, -0.005711840465664864, 0.026042966172099113, -0.018783310428261757, 0.005771375726908445, -0.029079638421535492, -0.019054045900702477, 0.0030161631293594837, 0.07213126868009567, -0.045827414840459824, -0.052358683198690414, -0.035320159047842026, -0.01681416667997837, 0.006508735474199057, 0.017191318795084953, -0.04272184520959854, -0.042793236672878265, -0.035225190222263336, 0.012209783308207989, 0.013810382224619389, 0.02495521306991577, -0.038613978773355484, 0.021693777292966843, -0.006348245311528444, 0.12595051527023315, -0.027524558827280998, 0.08235054463148117, 0.015259203501045704, 0.025301987305283546, 0.006294313818216324, 0.03442782536149025, -0.11823637038469315, 0.029674557968974113, 0.005400808993726969, 0.011101961135864258, -0.005594169721007347, 0.006634663324803114, -0.018056876957416534, -0.005867962259799242, -0.009508853778243065, -0.029884254559874535, -0.03034702129662037, 0.02102172002196312, -0.01954636164009571, -0.05424007400870323, -0.049134574830532074, -0.008220245130360126, -0.006933451630175114, 0.012081505730748177, 0.006417324300855398, 0.023636052384972572, 0.05998833477497101, -0.018767690286040306, -0.014223836362361908, -0.0446639358997345, 0.019150324165821075, -0.005040926858782768, -0.00629846379160881, 0.014661523513495922, -0.021189009770751, -0.000945841078646481, -0.02463361620903015, 0.038897555321455, -0.007971676997840405, 0.03787350654602051, -0.0019461502088233829, 0.03584999218583107, -0.030101023614406586, -0.015933005139231682, 0.07952988892793655, -0.016525035724043846, -0.04790518432855606, 0.03453204408288002, 0.004076185170561075, -0.013471086509525776, -0.03127134591341019, -0.00870529655367136, -0.03004828467965126, 0.013219119049608707, 0.021587500348687172, 0.04444889724254608, 0.009917253628373146, 0.012516063638031483, 0.02625637874007225, 0.008147024549543858, -0.012313900515437126, 0.02100425586104393, -0.02427036128938198, -0.011037697084248066, -0.018297987058758736, 0.0012803730787709355, -0.015620867721736431, 0.0716840922832489, 0.020361926406621933, -0.2474849373102188, -0.028402455151081085, 0.010230831801891327, 0.057389941066503525, -0.04106505960226059, 0.04458141326904297, 0.03935028985142708, -0.052279312163591385, -0.007483502384275198, 0.024122370406985283, 0.05692176893353462, 0.01994507387280464, 0.042252715677022934, -0.04625523462891579, 0.02727484703063965, 0.05636952817440033, 0.044165901839733124, -0.034918561577796936, 0.05001458153128624, 0.01087392121553421, 0.0009558927267789841, -0.0017437549540773034, 0.18158049881458282, -0.06004171818494797, 0.002333499491214752, 0.012271326966583729, 0.03810887411236763, 0.02005564421415329, 0.03722092881798744, 0.017321696504950523, 0.035280741751194, 0.01830386370420456, 0.07892909646034241, 0.013819917105138302, -0.02847256511449814, 0.03136787936091423, 0.0014786787796765566, -0.00306283263489604, -0.00016741511353757232, -0.007626702543348074, -0.008897721767425537, -0.021956445649266243, -0.009161663241684437, -0.0053794365376234055, 0.024090785533189774, -0.01821759156882763, -0.031196685507893562, -0.08136501163244247, -0.010735888965427876, 0.0049213566817343235, -0.02467866986989975, -0.004851801320910454, -0.020093917846679688, -0.003775708144530654, 0.03243711218237877, 0.020760729908943176, 0.0022664200514554977, 0.0029604986775666475, -0.05664213374257088, -0.02755396068096161, 0.023834574967622757, -0.022379573434591293, 0.04880615696310997, 0.07058652490377426, -0.00019880535546690226]}]\n",
      "Starting embedding\n",
      "Starting embedding\n",
      "Starting embedding\n"
     ]
    },
    {
     "name": "stderr",
     "output_type": "stream",
     "text": [
      " 60%|██████    | 2/3.3333333333333335 [00:13<00:08,  6.18s/it]"
     ]
    },
    {
     "name": "stdout",
     "output_type": "stream",
     "text": [
      "data to add  [{'id': 'b41a18f4-4694-47c4-a93a-ec45f8d22d14', 'source': '/Users/pujanmaharjan/pdfs/agile/Kameron H. Clean Code. An Agile Guide to Software Craft 2023.pdf', 'page': '3', 'text': 'Chapter 10: Classes\\n\\xa0\\nChapter 13: Concurrency\\n\\xa0\\nChapter 15: JUnit Internals\\n\\xa0\\nChapter 19: Appendix B: Decimal I/O\\n\\xa0\\nChapter 20: Appendix C: How to Transform Employee', 'text_vector': [-0.10066168010234833, -0.045353103429079056, 0.027762454003095627, -0.0646040216088295, -0.01319350115954876, 0.0023368492256850004, 0.04312436655163765, 0.024412378668785095, -0.01708403415977955, -0.020047901198267937, 0.014584182761609554, -0.040169451385736465, 0.003421908477321267, 0.00972665473818779, 0.032264918088912964, 0.01330861821770668, 0.009933099150657654, 0.051750537008047104, -0.016256136819720268, 0.007255255710333586, 0.046167269349098206, -0.022910989820957184, -0.010091529227793217, 0.009895244613289833, 0.048443883657455444, 0.035476647317409515, -0.012466002255678177, -0.0007382454932667315, -0.04299141466617584, -0.20968744158744812, -0.012501413002610207, -0.00382056413218379, 0.01174178533256054, -0.03869486227631569, -0.006920941639691591, -0.0071839746087789536, 0.0017249470110982656, 0.029103994369506836, 0.015474307350814342, 0.016001572832465172, -0.006383011117577553, 0.027749957516789436, 0.002029875759035349, -0.05462752282619476, -0.007995701394975185, -0.03507010638713837, 0.003789021633565426, -0.0260065495967865, 0.012281171977519989, 0.016015660017728806, 0.02249470353126526, -0.038464367389678955, 0.017973430454730988, 0.08374562859535217, -0.022334875538945198, -0.0002436311769997701, 0.0811893567442894, 0.07190675288438797, 0.058147817850112915, 0.006757841911166906, 0.027713242918252945, 0.0019634554628282785, -0.1611425131559372, 0.08651618659496307, 0.03374183923006058, -0.004949119873344898, 0.004318648483604193, -0.020110895857214928, 0.008822106756269932, 0.016706643626093864, -0.058322396129369736, -0.021474391222000122, 0.0262876208871603, 0.02713848277926445, 0.014897852204740047, -0.03980070352554321, -0.010940348729491234, -0.005299726035445929, 0.04463217034935951, -0.010989602655172348, -0.03429565951228142, -0.014086814597249031, 0.025749169290065765, 0.01072221715003252, -0.0021077804267406464, 0.012235892936587334, 0.02264506183564663, -0.03163333237171173, 0.006148233078420162, -0.009173032827675343, 0.007022116333246231, 0.00036825265851803124, 0.01079501025378704, 0.00805127527564764, -0.03566932678222656, -0.005734331905841827, -0.006803457159548998, -0.008844609372317791, -0.01741882599890232, 0.5811602473258972, -0.00616932800039649, 0.01652955636382103, 0.014269564300775528, -0.036651767790317535, -0.0032311680261045694, -0.01013344619423151, -0.0052318694069981575, -0.034178227186203, -0.02005012333393097, -0.005958897527307272, -0.014257267117500305, 0.03317058086395264, 0.01157389022409916, -0.06645549833774567, 0.03212517127394676, -0.003904497716575861, 0.04804960638284683, 0.017908979207277298, 0.0023884435649961233, 0.06253740936517715, -0.0051815565675497055, 0.024840885773301125, 0.01272835023701191, 0.003924392629414797, -0.014787008985877037, -0.05909552425146103, 0.024556998163461685, 0.041267279535532, 0.008789518848061562, 0.03573334962129593, 0.029949728399515152, -0.0036704596132040024, -0.047283198684453964, -0.011861211620271206, 0.018089082092046738, 0.035372499376535416, 0.007910826243460178, -0.029341351240873337, 0.01526562124490738, -0.021824384108185768, -0.030822893604636192, -0.00853858981281519, 0.010936777107417583, -0.07032167911529541, -0.051127687096595764, 0.08352147787809372, 0.0066973487846553326, 0.01294535119086504, 0.02035457454621792, 0.0204806886613369, -0.009664061479270458, 0.053299516439437866, -0.03618021309375763, -0.025877762585878372, -0.0015035704709589481, 0.009105191566050053, 0.04478958994150162, 0.01858110912144184, -0.03906036168336868, -0.03996419161558151, -0.02355971932411194, -0.037287820130586624, -0.07394243031740189, 0.09400201588869095, 0.04063570871949196, -0.0972982794046402, -0.04433172941207886, 0.022219112142920494, -0.006615207996219397, -0.012060730718076229, 0.021934248507022858, 0.00028030326939187944, -0.06695633381605148, 0.009060530923306942, 0.09588875621557236, 0.01752874255180359, 0.010928813368082047, -0.0021163318306207657, -0.04032465070486069, 0.06337802112102509, 0.026086173951625824, -0.019506417214870453, -0.030010832473635674, 0.029143882915377617, 0.019171807914972305, -0.02937597967684269, -0.00938014592975378, -0.010145372711122036, 0.005158812738955021, 0.04514847323298454, -0.01907981000840664, 0.01201789639890194, -0.1142616793513298, 0.017743682488799095, -0.048553723841905594, -0.06169406324625015, -0.0018846085295081139, -0.03405345603823662, -0.04470790550112724, -0.026745181530714035, 0.014141322113573551, 0.014371260069310665, -0.022913433611392975, 0.043598998337984085, -0.019698625430464745, 0.039546698331832886, 0.015992123633623123, -0.00988737866282463, 0.06334945559501648, 0.035327207297086716, -0.03603386506438255, -0.007494308054447174, 0.02876601181924343, 0.010425694286823273, 0.0011905109276995063, 0.0006783322896808386, 0.017980309203267097, 0.06900528818368912, -0.007204230409115553, -0.017442528158426285, -0.016048237681388855, -0.025306418538093567, -0.012091965414583683, -0.21823157370090485, 0.0024947745259851217, 0.022206738591194153, -0.05747426673769951, 0.028629155829548836, -0.023879382759332657, 0.012532409280538559, -0.018155787140130997, -0.014990541152656078, 0.03596092015504837, 0.06766292452812195, -0.033675290644168854, -0.025811010971665382, -0.05155773460865021, -0.004159233998507261, -0.01595291867852211, -0.02223588153719902, -0.005847036838531494, -0.023216407746076584, -0.03384070098400116, 0.0010550727602094412, 0.004775428678840399, -0.023048464208841324, -0.06841932237148285, 0.03868239000439644, -0.014466202817857265, 0.11301392316818237, -0.06604484468698502, 0.04865400493144989, -0.048378098756074905, 0.020310519263148308, 0.017687737941741943, -0.02013184130191803, -0.055378369987010956, 0.02092580311000347, -0.018073584884405136, -0.02271323651075363, -0.009144729003310204, -0.006503932643681765, -0.019023187458515167, -0.031556036323308945, 0.056604012846946716, -0.027357416227459908, -0.05363868921995163, 0.016149766743183136, 0.008864608593285084, -0.015499019995331764, -0.0017989440821111202, 0.014482268132269382, 0.015229426324367523, -0.020221596583724022, -0.029118981212377548, -0.005741859786212444, 0.01428761426359415, -0.021205680444836617, -0.07692550122737885, -0.0730222538113594, 0.019638024270534515, -0.001378879533149302, 0.016441920772194862, 0.027732495218515396, 0.019684093073010445, -0.02762570045888424, -0.010694662109017372, 0.03144613653421402, -0.011142993345856667, -0.027669411152601242, -0.02397957257926464, 0.03092014789581299, -0.06270764768123627, -0.018028220161795616, 0.03414927423000336, 0.006802189629524946, -0.014200368896126747, -0.003920832648873329, 0.042986128479242325, 0.022023392841219902, 0.005339445546269417, -0.0017854203470051289, 0.006834503263235092, 0.00035918946377933025, -0.0046827904880046844, 0.011490999720990658, 0.019983511418104172, -0.017817044630646706, 0.021716659888625145, 0.055374279618263245, -0.015745770186185837, 0.027921117842197418, 0.028186745941638947, -0.031016696244478226, 0.009978868998587132, 0.009944593533873558, 0.058502450585365295, 0.03016197681427002, -0.017717698588967323, -0.29445940256118774, -0.017309285700321198, -0.04116525873541832, 0.049887798726558685, 0.013417597860097885, 0.04212920740246773, 0.00572920823469758, -0.0491965115070343, -0.055011820048093796, 0.02009608782827854, 0.040126703679561615, -0.01269447896629572, 0.0228419229388237, -0.004654945805668831, 0.02999311126768589, 0.04491683095693588, 0.050344571471214294, -0.00219197990372777, 0.001330355298705399, -0.002289899392053485, 0.003372346982359886, -0.01020149327814579, 0.2017812281847, 0.011009383015334606, -0.021980449557304382, 0.008769222535192966, -0.0022161463275551796, 0.01746845431625843, 0.05596240237355232, 0.002521658781915903, 0.01788732409477234, 0.0006689598667435348, 0.08583248406648636, -0.0038462751545011997, 0.03373570367693901, -0.015991952270269394, -0.019060833379626274, 0.05337205156683922, -0.01709693670272827, 0.035688791424036026, -0.007181211374700069, -0.00903268065303564, -0.013328508473932743, -0.007063929922878742, 0.053886570036411285, 0.0031894994899630547, -0.04488493874669075, -0.06056642904877663, 0.015455035492777824, 0.004635243210941553, -0.009169921278953552, 0.001735288999043405, -0.0002853306650649756, -0.03273780271410942, -0.020961912348866463, 0.0645051822066307, -0.011882300488650799, -0.02828948386013508, -0.06501040607690811, 0.010445160791277885, 0.04496780037879944, -0.01498461328446865, 0.009495657868683338, 0.002973555587232113, 0.0308537594974041]}, {'id': '9ce369e5-df20-44ba-b39e-4c0fc8851e36', 'source': '/Users/pujanmaharjan/pdfs/agile/Kameron H. Clean Code. An Agile Guide to Software Craft 2023.pdf', 'page': '4', 'text': 'Table of Contents\\n\\xa0\\nChapter 1: Clean Code\\n\\xa0\\n1.1 What Is Clean Code?\\n\\xa0\\nThe Benefits of Clean Code\\n\\xa0\\nCharacteristics of Clean Code\\n\\xa0\\n1.2 Why Does Clean Code Matter?\\n\\xa0\\n1.2.1 Readability and Understanding\\n\\xa0\\n1.2.2 Maintainability\\n\\xa0\\n1.2.3 Debugging and Error Detection\\n\\xa0\\n1.2.4 Collaboration\\n\\xa0\\n1.2.5 Code Reviews and Quality Assurance\\n\\xa0\\n1.2.6 Long-Term Sustainability\\n\\xa0\\n1.3 The Principles of Clean Code', 'text_vector': [-0.052988577634096146, -0.0011620264267548919, 0.022299479693174362, -0.001078362693078816, 0.0382712297141552, -0.020763276144862175, 0.04550308734178543, -0.0016891873674467206, -0.017070768401026726, -0.01236188318580389, -0.026231275871396065, -0.008576222695410252, 0.02764519676566124, 0.009627432562410831, -0.009473617188632488, 0.027280442416667938, 0.014636119827628136, 0.02687986008822918, -0.03189573809504509, 0.028133630752563477, 0.013335532508790493, -0.020014628767967224, 0.037380535155534744, -0.011587257497012615, 0.02878643199801445, 0.037224169820547104, -0.003981543239206076, -0.0412425771355629, -0.019424984231591225, -0.23733636736869812, -0.03249013051390648, 0.04287475720047951, 0.03466030955314636, -0.006610192358493805, -0.01677629165351391, -0.0012967484071850777, 0.027064207941293716, 0.00572635792195797, -0.030367989093065262, 0.024459093809127808, -0.01188774686306715, 0.025753365829586983, 0.007909649051725864, -0.04414333403110504, -0.0018722309032455087, -0.04980295151472092, 0.02778644673526287, -0.022305313497781754, -0.021922005340456963, -0.0006035641417838633, 0.023418981581926346, -0.02915925346314907, -0.019234012812376022, 0.02097916230559349, 0.03342156484723091, 0.008301383815705776, 0.007892102934420109, 0.03248609974980354, -0.0238505732268095, -0.0015341995749622583, 0.043391477316617966, -0.01276620477437973, -0.1643041968345642, 0.0515957809984684, 0.022702360525727272, 0.06893344968557358, -0.04230034723877907, -0.0009870186913758516, 0.007933204062283039, 0.015225639566779137, -0.025220325216650963, 0.010313259437680244, -0.017053095623850822, 0.05996665731072426, 0.0497204065322876, -0.002478306880220771, 0.0026266691274940968, 0.0036985515616834164, 0.008617882616817951, -0.0018468113848939538, -0.0018726012203842402, -0.013655656017363071, -0.006676691118627787, -0.009792287833988667, -0.06791350990533829, -0.009235111065208912, -0.006339135114103556, -0.0018227952532470226, 0.021602289751172066, -0.04486965015530586, 0.010461983270943165, 0.0008597393753007054, 0.014782045967876911, 0.0007935691974125803, -0.04128739982843399, -0.006243813317269087, 0.0420570969581604, -0.006083920132368803, -0.016399890184402466, 0.5889201164245605, -0.06020910665392876, 0.00015009063645265996, -0.012968682684004307, -0.026763349771499634, 0.003923899494111538, -0.009844211861491203, 0.047752153128385544, -0.020505720749497414, 0.03559604287147522, -0.017851173877716064, 0.0031407997012138367, -0.0040306332521140575, 0.006983032915741205, -0.039534591138362885, 0.02916955202817917, 0.034497424960136414, 0.032064229249954224, 0.03292128071188927, -0.0020457187201827765, 0.013248652219772339, -0.009708655998110771, 0.030726924538612366, 0.047185130417346954, -0.028116604313254356, -0.0017258243169635534, -0.012976801954209805, 0.03473096713423729, 0.06256299465894699, 0.01986931823194027, 0.023169545456767082, 0.04259677603840828, 0.007694975007325411, 0.0009080226882360876, -0.007515506818890572, -0.00549714220687747, 0.012469643726944923, -0.022765712812542915, 0.03106214851140976, -0.009349137544631958, -0.026936784386634827, -0.023389222100377083, 0.00489274924620986, 0.046508025377988815, -0.07024795562028885, -0.06632336974143982, 0.038325902074575424, -0.01742294803261757, 0.03173913061618805, -0.06545531749725342, -0.0005547485779970884, 0.017751986160874367, 0.05568772926926613, -0.005511895753443241, 0.017094196751713753, -0.0016621138202026486, 0.02940935641527176, 0.04156678915023804, -0.0316416472196579, -0.033912286162376404, -0.024300942197442055, -0.011431370861828327, 0.0025746850296854973, -0.04942496120929718, 0.09124135226011276, 0.01268190611153841, -0.06642524152994156, -0.021589267998933792, -0.025409623980522156, -0.010083881206810474, -0.0028120616916567087, 0.004219423979520798, -0.02053716592490673, -0.02103036269545555, -0.014287109486758709, 0.039685577154159546, -0.008110363967716694, 0.010920735076069832, 0.0013408662052825093, -0.008143543265759945, 0.02369043231010437, 0.00601697014644742, -0.018533721566200256, -0.05268315225839615, -0.0061232890002429485, 0.050278015434741974, -0.05235951766371727, -0.01967422477900982, -0.0019204146228730679, 0.03633849695324898, 0.05305631831288338, -0.018755227327346802, -0.05872061848640442, -0.05186627432703972, 0.037327490746974945, -0.008851009421050549, -0.0043136500753462315, -0.04818547144532204, -0.01563042588531971, -0.06275893747806549, -0.021795619279146194, -0.004977989476174116, 0.039693236351013184, -0.04457351192831993, 0.03223314881324768, -0.01514824666082859, 0.0012027634074911475, 0.027614237740635872, -0.06030355393886566, 0.04594584181904793, -0.007659463677555323, -0.07910176366567612, 0.031591206789016724, 0.026438042521476746, -0.016566822305321693, 0.016738610342144966, -0.03862862288951874, 0.023189926519989967, 0.02653512731194496, 0.025011828169226646, 0.030245374888181686, 0.02616446651518345, -0.048219818621873856, -0.0641075000166893, -0.20800238847732544, 0.01303409319370985, -0.02640298195183277, -0.01499954890459776, 0.030952980741858482, -0.04771610349416733, -0.003900519572198391, -0.010624791495501995, -0.026029253378510475, 0.008753634057939053, 0.09504082798957825, -0.03422520309686661, -0.040484897792339325, -0.04456952586770058, -0.01816030591726303, 0.0029657522682100534, 0.03797740116715431, -0.03159969672560692, -0.045692820101976395, -0.02323300391435623, 0.02586527355015278, 0.034059301018714905, 0.016083328053355217, -0.028433101251721382, 0.0483410507440567, -0.037222422659397125, 0.1062852144241333, -0.06914477795362473, 0.08750978112220764, 0.02768228016793728, 0.01250480767339468, -0.009725797921419144, 0.0016457728343084455, -0.1244778111577034, 0.018863903358578682, 0.03575099632143974, -0.0047400034964084625, 0.0030122436583042145, -0.04080735892057419, -0.013691093772649765, 0.0008255380089394748, -0.00903039239346981, -0.05009698495268822, 0.0050947405397892, -0.030471976846456528, -0.017119430005550385, -0.034914180636405945, -0.02648613229393959, -0.042087119072675705, 0.022492028772830963, 0.03206213191151619, 0.03066440299153328, 0.018792912364006042, 0.05735030025243759, -0.002997183706611395, 0.011496517807245255, -0.05089067667722702, 0.045741450041532516, -0.012074912898242474, 0.01853344775736332, -0.006187535356730223, -0.005339987576007843, 0.008912984281778336, -0.04582880064845085, 0.036609649658203125, -0.019295528531074524, -0.008949232287704945, 0.00963995885103941, 0.03225237876176834, -0.0035465711262077093, -0.028067316859960556, 0.06422699987888336, -0.04843677952885628, -0.0633046105504036, 0.03178903087973595, -0.0011534637305885553, -0.026447245851159096, -0.027108317241072655, 0.020189017057418823, -0.05962105095386505, 0.041600778698921204, 0.03740681707859039, 0.02633921056985855, 0.01935727521777153, 0.0011222830507904291, 0.009023474529385567, 0.030037587508559227, -0.014766997657716274, -0.00421920558437705, 0.044401317834854126, -0.006036038976162672, -0.0022124764509499073, 0.007307497318834066, -0.07274101674556732, 0.015361769124865532, 0.02716393955051899, -0.2638919949531555, -0.050761837512254715, -0.020148146897554398, 0.05148407444357872, -0.049122873693704605, 0.04656082019209862, 0.031177235767245293, -0.025857198983430862, -0.022124264389276505, -0.011633890680968761, 0.050130732357501984, 0.030981548130512238, 0.006636062636971474, -0.09771130234003067, 0.0477985143661499, 0.032843589782714844, 0.05772208049893379, -0.040833476930856705, 0.017507964745163918, 0.00463256798684597, 0.04968847334384918, -0.009666464291512966, 0.2007473260164261, -0.015855222940444946, 0.019686231389641762, 0.002796230372041464, 0.019559452310204506, 0.0372331328690052, -0.0009983673226088285, 0.010477041825652122, 0.042680177837610245, 0.012388193979859352, 0.07926815748214722, 0.021236982196569443, -0.03320218622684479, 0.05109395086765289, 0.0047991713508963585, 0.011059503071010113, 0.012091591022908688, -0.016785334795713425, -0.015765100717544556, 0.0040074861608445644, -0.010893544182181358, -0.04981950670480728, 0.050151050090789795, -0.026318533346056938, -0.026319032534956932, -0.08294140547513962, -0.009293482638895512, -0.01651417277753353, -0.04785247519612312, 0.0090721994638443, -0.0025015310384333134, -0.029655631631612778, 0.01721513457596302, 0.0033662482164800167, -0.017347335815429688, 0.009767543524503708, -0.024297963827848434, 0.011118163354694843, 0.023746438324451447, 0.004552019760012627, 0.038319170475006104, 0.0741233378648758, 0.03634078800678253]}, {'id': '61684764-91e7-43f4-8f55-8ba2e4f8d649', 'source': '/Users/pujanmaharjan/pdfs/agile/Kameron H. Clean Code. An Agile Guide to Software Craft 2023.pdf', 'page': '5', 'text': '1.3.1 DRY (Don’t Repeat Yourself) Principle\\n\\xa0\\n1.3.2 SRP (Single Responsibility Principle)\\n\\xa0\\n1.3.3 KISS (Keep It Simple, Stupid) Principle\\n\\xa0\\n1.3.4 YAGNI (You Ain’t Gonna Need It) Principle\\n\\xa0\\n1.4 A Case for Software Craftsmanship\\n\\xa0\\n1.4.1 Beyond Functional Code\\n\\xa0\\n1.4.2 Code as a Reflection of Thought\\n\\xa0\\n1.4.3 Continuous Improvement\\n\\xa0\\n1.4.4 Attention to Detail\\n\\xa0\\n1.4.5 Code That Stands the Test of Time\\n\\xa0\\n1.4.6 Pride in Work\\n\\xa0\\n1.4.7 Collaboration and Mentorship\\n\\xa0\\n1.4.8 Balancing Pragmatism and Perfection\\n\\xa0\\n1.5 How Clean Code Enhances Agile Development', 'text_vector': [-0.049436572939157486, -0.01049091201275587, 0.004944768268615007, -0.03657887503504753, 0.03156981244683266, 0.009603941813111305, 0.044072091579437256, 0.022499684244394302, -0.0008984626037999988, 0.0029122326523065567, -0.0027496269904077053, -0.00374942016787827, 0.030381513759493828, -0.004696540534496307, -0.004985712468624115, 0.012936669401824474, -0.00023425536346621811, 0.060906827449798584, -0.024298736825585365, -0.0021118316799402237, 0.04979753866791725, -0.010008412413299084, 0.008587210439145565, -0.01345865335315466, 0.033966559916734695, 0.018688131123781204, -0.03175490349531174, -0.04655257239937782, 0.012383764609694481, -0.19354650378227234, -0.045541856437921524, 0.0106360400095582, 0.05389758199453354, -0.020450057461857796, -0.02185971476137638, 0.02407044731080532, -0.004281019791960716, 0.0005838046781718731, -0.014635845087468624, 0.001196826109662652, -0.011642886325716972, 0.06179603189229965, 0.0013794995611533523, -0.013736202381551266, -0.023963483050465584, -0.054057881236076355, 0.009029540233314037, -0.012928980402648449, -0.05579020455479622, -0.016264069825410843, 0.01905743032693863, -0.022529326379299164, -0.03354950249195099, 0.03703507408499718, -0.008304690942168236, 0.0036864839494228363, 0.026472758501768112, 0.03562160208821297, -0.04365634173154831, -0.013685455545783043, 0.01802741549909115, -0.01663959212601185, -0.1593823879957199, 0.045394908636808395, 0.04302544146776199, 0.06879547238349915, -0.037782810628414154, 0.008419900201261044, -0.015612375922501087, 0.07280691713094711, -0.03483617678284645, 0.017505835741758347, -0.011119778268039227, 0.03136320784687996, 0.02806435525417328, -0.014694771729409695, 0.006228629034012556, -0.012703405693173409, -0.00468818936496973, 0.015073833055794239, -0.0022975215688347816, 0.01925649680197239, -0.019327234476804733, 0.01445358619093895, -0.0673392191529274, -0.01911918818950653, -0.0007943743257783353, -0.0547235868871212, 0.03216806799173355, -0.006570409517735243, 0.0016158377984538674, -0.03958349674940109, -0.00833725742995739, 0.002894819714128971, -0.04470013454556465, 0.015588508918881416, -0.0003678652865346521, 0.04536121338605881, -0.051847465336322784, 0.5921792984008789, -0.011768940836191177, 0.022469177842140198, -0.019726181402802467, -0.004969896283000708, 0.02675953321158886, -0.047252461314201355, 0.027095729485154152, -0.03685549646615982, 0.026006489992141724, -0.003191401017829776, 0.01449706219136715, -0.014429000206291676, 0.030674098059535027, -0.07786395400762558, 0.002179743256419897, -6.821273564128205e-05, 0.0035366222728043795, 0.04769148677587509, 0.025102077051997185, 0.010346600785851479, 0.040219441056251526, 0.0023595269303768873, 0.05413755774497986, -0.024428533390164375, -0.025502951815724373, -0.03852788358926773, 0.024880819022655487, 0.06475798040628433, 0.016129834577441216, -0.011057297699153423, 0.027120191603899002, 0.001132396748289466, -0.00536609161645174, -0.01701907068490982, -0.01711110584437847, 0.004049001727253199, -0.02343916893005371, -0.0007082588272169232, -0.024895841255784035, -0.015530751086771488, -0.038040924817323685, 0.005993490573018789, 0.028138544410467148, -0.07837483286857605, -0.029065214097499847, 0.09388935565948486, 0.01141453254967928, 0.01691526547074318, -0.03199336305260658, 0.005879280157387257, -0.013107050210237503, 0.054040055721998215, 0.02488977275788784, 0.024133721366524696, -0.007607004605233669, 0.024003801867365837, 0.029207589104771614, -0.012154699303209782, -0.07258474081754684, -0.0035694094840437174, -0.016533754765987396, -0.0077958377078175545, -0.05837420001626015, 0.08439859747886658, 0.008355477824807167, -0.08317598700523376, 0.010868778452277184, -0.00036706734681501985, 0.018041277304291725, -0.013604586943984032, -0.0020629854407161474, -0.025143075734376907, 0.013177352026104927, -0.015807338058948517, 0.04894034191966057, 0.008667446672916412, -0.004025907255709171, 0.030123889446258545, 0.004520026966929436, 0.05671707168221474, 0.038435567170381546, -0.01575830578804016, 0.0010768958600237966, 0.00835626944899559, 0.018210403621196747, -0.019181616604328156, -0.012675467878580093, -0.013703464530408382, 0.018227973952889442, 0.041729461401700974, -0.02975861355662346, 0.01643265038728714, -0.056994035840034485, 0.01122042816132307, -0.013496816158294678, -0.00013433491403702646, 0.024476120248436928, -0.0084301196038723, -0.04308189079165459, -0.0008798558847047389, -0.045689888298511505, 0.04505935683846474, -0.01926794834434986, -0.0007610221509821713, -0.002631864743307233, 0.04821895435452461, 0.046397797763347626, -0.006757954601198435, 0.020423613488674164, 0.02495737187564373, -0.0641532689332962, 0.012244107201695442, 0.022458063438534737, 0.013399097137153149, 0.010905559174716473, -0.004822447896003723, 0.0030759426299482584, 0.04863959550857544, -0.005422244314104319, -0.024721458554267883, -0.021523257717490196, -0.031146924942731857, -0.024857034906744957, -0.21932098269462585, 0.028666608035564423, -0.017620375379920006, -0.014421728439629078, 0.06067724898457527, 0.016706524416804314, 0.03480499982833862, -0.05058714747428894, -0.011708925478160381, -0.0053702425211668015, 0.09025398641824722, -0.027598917484283447, -0.04550508037209511, -0.030996741726994514, -0.023478752002120018, -0.011351867578923702, 0.01157301478087902, -0.023779643699526787, -0.055685706436634064, -0.022060565650463104, 0.0009353783098049462, 0.025886833667755127, 0.021029789000749588, -0.08381596952676773, 0.034538619220256805, -0.048522237688302994, 0.11575855314731598, -0.02737383544445038, 0.07971389591693878, 0.011776579543948174, -3.597361865104176e-05, -0.013586306944489479, 0.002662278711795807, -0.12963806092739105, 0.06944818794727325, 0.011688862927258015, 0.03409703075885773, -0.02798677794635296, -0.0009061525342985988, -0.03599453344941139, -0.016409512609243393, 0.028117388486862183, -0.03415610268712044, -0.034459762275218964, -0.020206881687045097, -0.03713470697402954, -0.047146428376436234, -0.05231635645031929, 0.010120575316250324, 0.0006557723972946405, 0.01243230514228344, 0.01396646723151207, -0.01162167638540268, 0.0341959111392498, -0.010531160980463028, -0.0020322948694229126, -0.06953839957714081, 0.04826370254158974, -0.022883988916873932, 0.0011070724576711655, 0.02195429429411888, -0.013139931485056877, -0.015270563773810863, -0.026912035420536995, 0.04013507440686226, -0.03506428748369217, 0.011612523347139359, 0.00916329212486744, 0.03432091325521469, -0.02257278934121132, -0.021018071100115776, 0.07897449284791946, -0.007648230064660311, -0.07704339176416397, 0.03538167476654053, -0.025800202041864395, 0.020373811945319176, -0.04888387396931648, -0.005447793286293745, -0.06545102596282959, 0.02257782407104969, -0.00972974207252264, 0.039132725447416306, 0.02487834542989731, -0.016360599547624588, -0.01515323854982853, 0.029558224603533745, 0.007270061410963535, 0.002603365108370781, 0.009285532869398594, -0.027565039694309235, 0.0027871362399309874, -0.013466842472553253, -0.030665405094623566, 0.027048517018556595, 0.023508664220571518, -0.2727087140083313, -0.027093298733234406, -0.0231322068721056, 0.06205954775214195, -0.036851875483989716, 0.056589458137750626, 0.033283479511737823, -0.06568136066198349, -0.05798744410276413, 0.026006292551755905, 0.020950237289071083, 0.047278258949518204, 0.023810671642422676, -0.018282147124409676, 0.054576605558395386, -0.0008815636392682791, 0.041925109922885895, -0.021326960995793343, 0.0727270320057869, -0.04277649149298668, 0.01657714881002903, 0.04623933881521225, 0.18430683016777039, -0.06316471099853516, 0.054644789546728134, 0.006324452813714743, 0.0226385910063982, -0.005926609970629215, -0.0019458807073533535, 0.012521486729383469, 0.050615619868040085, 0.018375329673290253, 0.07636484503746033, 0.029704079031944275, 0.007431866601109505, -0.0013860032195225358, -0.027382314205169678, 0.025713536888360977, 0.01853824406862259, 0.006308671087026596, -0.01652165874838829, -0.02690988779067993, 0.020705703645944595, -0.013428637757897377, 0.04095813259482384, -0.04996435344219208, -0.04828397184610367, -0.05369052290916443, -0.03318587690591812, 0.0180356502532959, -0.03707316145300865, -0.02021791972219944, -0.026504717767238617, -0.020626366138458252, 0.015214972198009491, 0.020829061046242714, 0.005863710306584835, 0.027888331562280655, -0.0445997416973114, -0.01334726344794035, 0.00550722423940897, 0.0021351578179746866, 0.03553011640906334, 0.08145267516374588, 0.02568432129919529]}]\n",
      "Starting embedding\n",
      "Starting embedding\n",
      "Starting embedding\n"
     ]
    },
    {
     "name": "stderr",
     "output_type": "stream",
     "text": [
      " 90%|█████████ | 3/3.3333333333333335 [00:17<00:01,  5.43s/it]"
     ]
    },
    {
     "name": "stdout",
     "output_type": "stream",
     "text": [
      "data to add  [{'id': 'd7da8364-f916-41f1-8ec1-1840d74b3c30', 'source': '/Users/pujanmaharjan/pdfs/agile/Kameron H. Clean Code. An Agile Guide to Software Craft 2023.pdf', 'page': '6', 'text': '1.5.1 Readability and Adaptability\\n\\xa0\\n1.5.2 Continuous Integration and Delivery\\n\\xa0\\n1.5.3 Collaboration and Code Reviews\\n\\xa0\\n1.5.4 Test-Driven Development (TDD)\\n\\xa0\\n1.5.5 Agile Refactoring\\n\\xa0\\n1.5.6 Reduced Technical Debt\\n\\xa0\\n1.5.7 Empowering Cross-Functional Teams\\n\\xa0\\nChapter 2: Meaningful Names\\n\\xa0\\n2.1 The Importance of Good Names\\n\\xa0\\n2.1.1 Readability and Comprehensibility\\n\\xa0\\n2.1.2 Documentation Through Naming\\n\\xa0\\n2.1.3 Maintainability\\n\\xa0\\n2.1.4 Reducing Cognitive Load\\n\\xa0\\n2.1.5 Consistency and Conventions', 'text_vector': [-0.029050303623080254, -0.0064878882840275764, 0.01341313123703003, -0.013475321233272552, 0.02947848290205002, 0.032723017036914825, 0.036923572421073914, 0.02753281593322754, -0.026885274797677994, 0.0104410070925951, 0.00017959681281354278, 0.004109691362828016, 0.03097456879913807, -0.0013635377399623394, -0.009145455434918404, 0.023465266451239586, -0.007872547954320908, 0.02584347128868103, -0.025582628324627876, -4.12986810260918e-05, 0.028880011290311813, -0.0042132181115448475, 0.0669860690832138, 0.0035570471081882715, 0.024139244109392166, 0.04255683720111847, -0.012248735874891281, -0.012716935947537422, -0.013587277382612228, -0.24120572209358215, -0.024729115888476372, 0.02465190552175045, 0.011432022787630558, 0.019221436232328415, -0.0029080649837851524, 0.029365457594394684, -0.0188446007668972, 0.001056852750480175, -0.01320567075163126, -0.02866792120039463, 0.0028548764530569315, 0.03778442367911339, -0.012363055720925331, -0.04616408050060272, -0.047755081206560135, -0.0354122556746006, -0.025744713842868805, -0.027591770514845848, -0.06556203961372375, 0.00972891878336668, -0.005730281118303537, -0.029099998995661736, 0.026430923491716385, 0.043824538588523865, -0.015418214723467827, 0.04948652163147926, 0.040314581245183945, 0.03492860496044159, 0.0069717224687337875, -0.017024843022227287, 0.04690157249569893, -0.004146921448409557, -0.1638573259115219, 0.056618910282850266, 0.028087330982089043, 0.03958665207028389, -0.043545354157686234, 0.0005322431097738445, -0.01762104034423828, 0.054033759981393814, -0.0031735324300825596, 0.016159674152731895, -0.014472132548689842, 0.06126533821225166, 0.0631486251950264, 0.014112691394984722, -0.02031893841922283, -0.03040756843984127, 0.05517737194895744, -0.016760457307100296, 0.013144186697900295, 0.008791866712272167, -0.012821299955248833, -0.02113308385014534, -0.06968850642442703, -0.03143966570496559, 0.029597101733088493, -0.013839688152074814, 0.026356082409620285, -0.01321811880916357, -0.003489355556666851, -0.036716632544994354, -0.009158489294350147, 0.021188167855143547, -0.04510617256164551, -0.028106335550546646, -0.00431495625525713, -0.030251551419496536, -0.03248177841305733, 0.5927687287330627, -0.01883457414805889, -0.008312100544571877, -0.005103961564600468, -0.01696622557938099, -0.026480907574295998, -0.009585462510585785, 0.03573816269636154, -0.011008022353053093, 0.013347386382520199, 0.005617896094918251, 0.001574761583469808, 0.003825683845207095, 0.010958376340568066, -0.055562809109687805, 0.0016092812875285745, 0.031151289120316505, -0.0015177911845967174, 0.0083473427221179, 0.02012651227414608, 0.0063378592021763325, 0.020609227940440178, 0.0398842878639698, 0.04241182655096054, 0.003609068924561143, 0.0005549630732275546, -0.012765275314450264, 0.029616570100188255, 0.03749236837029457, 0.026451854035258293, 0.0072793359868228436, 0.022454671561717987, -0.004688290413469076, -0.052925169467926025, -0.01050049439072609, 0.03645601496100426, 0.013140356168150902, -0.013957133516669273, -0.04844864830374718, -0.024248220026493073, 0.03498383238911629, 0.007189037743955851, -0.011679033748805523, 0.03798593953251839, -0.08947461098432541, -0.058861445635557175, 0.06399735063314438, -0.003208126174286008, 0.021987048909068108, -0.025051582604646683, 0.01303630881011486, 0.013812142424285412, 0.038405343890190125, 0.0029696065466850996, -0.0017350215930491686, 0.012383275665342808, -0.0009490726515650749, 0.035777345299720764, -0.006891952827572823, -0.035718902945518494, 0.01083269901573658, 0.03006734326481819, -0.01871972344815731, -0.053053587675094604, 0.082124724984169, -0.013307247310876846, -0.10141502320766449, -0.035171281546354294, -0.0055419206619262695, -0.005562756676226854, -0.03520583733916283, 0.019180195406079292, -0.002468519378453493, -0.022807076573371887, 0.02512989193201065, 0.020874548703432083, -0.00525219039991498, -0.01680905558168888, -0.01460778247565031, 0.009830214083194733, -0.0012427248293533921, 0.07154718041419983, -0.019959308207035065, -0.034384455531835556, 0.0053214724175632, 0.0495479591190815, 0.008478881791234016, -0.028720632195472717, -0.02361186407506466, 0.025465654209256172, 0.06086078658699989, 0.0066732303239405155, -0.011684030294418335, -0.014034606516361237, 0.057099081575870514, -0.011793302372097969, 0.011200187727808952, -0.01983010023832321, -0.009984543547034264, -0.0444367416203022, -0.04600968956947327, -0.04313071817159653, 0.039840348064899445, -0.030102401971817017, 0.015257376246154308, 0.007819325663149357, 0.014845825731754303, 0.02567138336598873, -0.030192390084266663, 0.037892624735832214, 0.004365123808383942, -0.0520847849547863, 0.00418945262208581, 0.0346360020339489, 0.006425082217901945, -0.02841871604323387, 0.005333350971341133, 0.04031425714492798, 0.05766988918185234, -0.0010488145053386688, 0.04442373290657997, 0.04049210250377655, 0.0063556889072060585, -0.03180697187781334, -0.20715752243995667, -0.013832902535796165, -0.016287263482809067, -0.01702938787639141, 0.011942433193325996, -0.021672945469617844, 0.009254607371985912, -0.022547507658600807, 0.0006447063060477376, 0.027029916644096375, 0.053184617310762405, -0.021419918164610863, -0.08492311090230942, -0.020407425239682198, 0.011196180246770382, 0.004584060981869698, -0.02264818549156189, -0.0257967971265316, -0.04891408979892731, -0.04317093268036842, 0.01588463969528675, 0.036279600113630295, -0.0025988484267145395, -0.053431186825037, 0.0016435475554317236, 0.012848861515522003, 0.12010428309440613, -0.09778238832950592, 0.0514008067548275, -0.0057304357178509235, -0.0018812717171385884, 0.0386965349316597, 0.003613576525822282, -0.11859928071498871, 0.049281902611255646, 0.02075236104428768, 0.032320786267519, -0.02473275549709797, -0.023289397358894348, -0.03423715755343437, 0.0035514181945472956, 0.0014729376416653395, -0.027272699400782585, -0.05185506120324135, -0.04315964877605438, -0.02079658769071102, -0.06723926216363907, -0.03279801085591316, -0.0064369384199380875, 0.0058668432757258415, -0.0061190491542220116, 0.015456942841410637, 0.014634883962571621, 0.024572623893618584, -0.013351152651011944, -0.02374107390642166, -0.05499428138136864, 0.059698525816202164, -0.000616480247117579, -0.031938549131155014, -0.007446272298693657, 0.0035765874199569225, 0.013346460647881031, -0.02498820424079895, 0.026256253942847252, -0.016024084761738777, -0.006943902932107449, 0.0032938525546342134, 0.02189667522907257, -0.06019426882266998, -0.034109119325876236, 0.06082192808389664, -0.016387470066547394, -0.031276386231184006, 0.03970775753259659, -0.01484371442347765, 0.0017148640472441912, -0.03672713786363602, 0.02325281873345375, -0.043207067996263504, 0.045058656483888626, 0.028787465766072273, 0.06931165605783463, -0.0025036039296537638, 0.010664422065019608, -0.014584247022867203, 0.04041566699743271, -0.030779335647821426, 0.003501798026263714, -0.020949382334947586, -0.0436675064265728, -0.008445031009614468, -0.01867625117301941, -0.03999725729227066, 0.03236612305045128, -0.022717908024787903, -0.2653471529483795, 0.007261813618242741, 0.008449533954262733, 0.018349219113588333, -0.03043736144900322, 0.04292049631476402, 0.0006607466493733227, -0.07174276560544968, -0.01945618912577629, 0.017225420102477074, 0.03413976728916168, 0.00950826145708561, 0.01670665666460991, -0.03382108733057976, 0.01216353289783001, 0.06861501932144165, 0.0726315900683403, -0.06838520616292953, 0.033343903720378876, -0.034136999398469925, 0.015544460155069828, 0.01981554552912712, 0.2073829174041748, -0.051373694092035294, -0.005299362353980541, 0.001892926637083292, 0.044071029871702194, 0.07141892611980438, 0.014338910579681396, 0.022648576647043228, 0.0351245179772377, -0.007017561234533787, 0.05231722816824913, 0.021044733002781868, -0.004411795176565647, 0.030133936554193497, 0.02502489648759365, 0.011348526924848557, 0.008801763877272606, 0.011990437284111977, 0.01658571884036064, -0.01693607307970524, -0.00350012443959713, -0.02903357520699501, 0.06466050446033478, -0.009237741120159626, -0.029643254354596138, -0.07179703563451767, -0.047687314450740814, 0.008508856408298016, -0.04553027078509331, -0.017318176105618477, -0.006468884646892548, -0.011473401449620724, 0.038407448679208755, -0.017012467607855797, 0.04237927123904228, -0.002744377590715885, -0.030274398624897003, -0.02198546566069126, 0.007512706331908703, -0.020381471142172813, 0.01628117449581623, 0.07837174087762833, 0.027890872210264206]}, {'id': 'c6f59da6-391e-4909-ab54-73090fa4858c', 'source': '/Users/pujanmaharjan/pdfs/agile/Kameron H. Clean Code. An Agile Guide to Software Craft 2023.pdf', 'page': '7', 'text': '2.2 Choosing Descriptive and Pronounceable Names\\n\\xa0\\n2.2.1 Descriptive Names\\n\\xa0\\n2.2.2 Pronounceable Names\\n\\xa0\\n2.2.3 Meaningful Variable Names\\n\\xa0\\n2.2.4 Method and Function Names\\n\\xa0\\n2.2.5 Class and Object Names\\n\\xa0\\n2.3 Avoiding Disinformation and Misleading Names\\n\\xa0\\n2.3.1 Misleading Names Can Be Dangerous\\n\\xa0\\n2.3.2 Be Precise and Specific\\n\\xa0\\n2.3.3 Be Wary of Abbreviations and Acronyms\\n\\xa0\\n2.3.4 Consistency Matters\\n\\xa0\\n2.3.5 Use Domain-Specific Language\\n\\xa0\\n2.3.6 Seek Feedback\\n\\xa0\\n2.4 Using Names that Reveal Intent', 'text_vector': [-0.012697676196694374, 0.006783030461519957, -0.01845182664692402, -0.018698997795581818, 0.012327427044510841, -0.005447236821055412, 0.03990526497364044, 0.037463605403900146, 0.012581493705511093, 0.0031604073010385036, -0.01840600185096264, -9.360544936498627e-05, 0.029310673475265503, -0.0029598292894661427, 0.0033030242193490267, 0.025061802938580513, 0.0005417983629740775, 0.008323267102241516, 0.001579548348672688, 0.0023192879743874073, 0.045828402042388916, 0.04286551475524902, 0.05230744555592537, -0.014552274718880653, 0.006301090586930513, 0.020454663783311844, 0.026344960555434227, 0.01730835810303688, 0.00552525045350194, -0.21425598859786987, -0.00011894592898897827, 0.004435719456523657, -0.018068183213472366, 0.010324293747544289, -0.05182495340704918, 0.016230594366788864, -0.0004171855980530381, 0.03902429714798927, -0.018714243546128273, -0.0002566328621469438, -0.02478894591331482, 0.0011016777716577053, 0.02778478153049946, -0.028426455333828926, -0.020735343918204308, -0.01376227755099535, -0.03056975267827511, -0.0018558611627668142, -0.059670668095350266, 0.02529270388185978, -0.0020322701893746853, -0.03350949287414551, 0.040104467421770096, 0.04954161122441292, 0.006976124830543995, -0.0014416093472391367, 0.04450330138206482, 0.05311209708452225, -0.0074890791438519955, -0.01604592427611351, 0.023297717794775963, 0.03371733799576759, -0.14603783190250397, 0.07084786146879196, -0.027361396700143814, 0.005333467852324247, 0.006433501373976469, -0.016878515481948853, -0.0091025922447443, 0.08121517300605774, 0.011585414409637451, 0.029180899262428284, -0.03948464244604111, 0.042846642434597015, 0.005535871256142855, -0.02682369016110897, 0.0047674886882305145, -0.041078854352235794, 0.03690487891435623, 0.005306254141032696, 0.0009470849763602018, -0.004687035921961069, 0.004746000748127699, -0.05510925129055977, -0.05439400672912598, -0.023915745317935944, 0.025627246126532555, 0.0004583392583299428, 0.006862966809421778, -0.024011746048927307, 0.005390029400587082, -0.024802539497613907, 0.050522077828645706, 0.010103887878358364, -0.03969244658946991, 0.003863537684082985, -0.014368080534040928, -0.020466184243559837, -0.060617443174123764, 0.5985531210899353, -0.03757576271891594, 0.007062819786369801, -0.011220999993383884, -0.03799072280526161, -0.011082690209150314, -0.03943687304854393, -0.022771252319216728, -0.003943577874451876, 0.030213819816708565, -0.00620540976524353, -0.005301360040903091, -0.006573199760168791, -0.01807408593595028, -0.042703766375780106, -0.03325706347823143, 0.043001264333724976, 0.03850797191262245, -0.006186622194945812, -0.005465514492243528, -0.012173611670732498, 0.02690139040350914, 0.008951310999691486, 0.039339203387498856, 0.013080202974379063, 0.0024981496389955282, -0.03528139367699623, 0.052878666669130325, 0.022556429728865623, 0.038519833236932755, 0.06464503705501556, 0.030104560777544975, -0.040242645889520645, -0.0440688356757164, 0.004926515743136406, 0.041348982602357864, 0.01261058822274208, -0.010604721494019032, -0.0008196831913664937, 0.012602017261087894, 0.016344139352440834, -0.005052798427641392, -0.052172061055898666, 0.009897859767079353, -0.03196806088089943, -0.03652093932032585, 0.075151726603508, -0.05500590428709984, 0.028990300372242928, -0.02236096002161503, 0.05204630643129349, -0.023094797506928444, 0.023248469457030296, -0.016360150650143623, -0.020842429250478745, -0.029142875224351883, 0.020770620554685593, 0.0645001083612442, -0.016343992203474045, -0.03837767615914345, -0.052554309368133545, -0.014316762797534466, -0.025578491389751434, -0.005558171309530735, 0.039163265377283096, -0.008915345184504986, -0.05792703852057457, -0.05871197208762169, 0.0157163068652153, -0.0024267775006592274, -0.05697411671280861, 0.010241037234663963, -0.013014651834964752, -0.038964174687862396, 0.0035332997795194387, 0.005075275897979736, 0.0262486319988966, -0.024545583873987198, -0.005137354601174593, 0.0047095469199121, 0.0006072646356187761, 0.06394467502832413, -0.04761967435479164, -0.01596439629793167, -0.03135116770863533, 0.02793898433446884, -0.040315479040145874, -0.04763885959982872, -0.01359541155397892, 0.0638214647769928, 0.049140725284814835, -0.02510002814233303, -0.021979868412017822, -0.02785773202776909, -0.007691078819334507, -0.033282481133937836, -0.003789032343775034, -0.004038785118609667, -0.020894857123494148, -0.011300718411803246, -0.011794669553637505, 0.019391776993870735, 0.0060390569269657135, -0.014036188833415508, -0.012603802606463432, 0.0183098204433918, 0.02352350763976574, 0.07130127400159836, -0.033676501363515854, 0.04784184321761131, -0.012405230663716793, -0.08734156936407089, 0.032538533210754395, -0.001080930233001709, -0.013972587883472443, -0.040920838713645935, -0.012285302393138409, 0.03027249313890934, 0.08394365012645721, 0.008942484855651855, 0.0011999181006103754, 0.03773246705532074, -0.021117424592375755, -0.01712261326611042, -0.21354278922080994, -0.0038232484366744757, -0.0072818538174033165, -0.01597232185304165, 0.052251964807510376, -0.03470199927687645, 0.03140617161989212, 0.008367364294826984, -0.0018812057096511126, 0.0388006716966629, 0.0031942178029567003, -0.022867493331432343, -0.06075231730937958, 0.0034536991734057665, -0.010828965343534946, 0.045655544847249985, 0.008975045755505562, -0.03631390258669853, -0.008210486732423306, -0.015040078200399876, -0.026089102029800415, 0.024529069662094116, 0.01836453378200531, -0.06408471614122391, 0.004407426808029413, 0.03575144335627556, 0.11927419155836105, -0.018652742728590965, 0.05356714129447937, -0.04184820130467415, 0.06757427752017975, -0.016479400917887688, 0.006650070659816265, -0.08853012323379517, 0.03003128431737423, -0.028162937611341476, 0.004375130403786898, 0.007602042984217405, -0.025133516639471054, -0.00744627183303237, 0.01639281027019024, 0.008656167425215244, 0.010081637650728226, -0.041132256388664246, -0.01972336880862713, -0.009611827321350574, -0.0611996166408062, -0.019551752135157585, -0.00788701232522726, 0.029209552332758904, 0.011808514595031738, 0.056678254157304764, 0.043263863772153854, 0.00697985477745533, -0.0067159212194383144, -0.03251427412033081, -0.03811785206198692, 0.01766917109489441, -0.02310950867831707, 0.009179074317216873, -0.010097852908074856, -0.024362195283174515, 0.02280571684241295, -0.04576927050948143, 0.018553519621491432, -0.0071781594306230545, -0.021355269476771355, 0.014852970838546753, 0.03388289734721184, -0.020839469507336617, -0.04323752969503403, 0.1096404418349266, -0.014040129259228706, -0.050344403833150864, 0.05740819498896599, -0.022623611614108086, 0.001497332938015461, -0.06436188519001007, -0.009968417696654797, -0.010168585926294327, 0.045167356729507446, 0.012749113142490387, 0.06929750740528107, 0.0021705334074795246, 0.013171135447919369, -0.010589822195470333, 0.06218913570046425, -0.006582864094525576, -0.01677449233829975, -0.028276246041059494, -0.04406699910759926, 0.008791398257017136, 0.024945860728621483, -0.016234898939728737, 0.022554414346814156, -0.025246521458029747, -0.30247047543525696, 0.025212690234184265, 0.023532116785645485, 0.04754997417330742, 0.025520922616124153, 0.007975446991622448, -0.00819905661046505, -0.07184582948684692, -0.024497387930750847, 0.043581485748291016, 0.030414264649152756, -0.02630234695971012, 0.04894305393099785, -0.04430437460541725, -0.004866913426667452, 0.06324038654565811, 0.08055149763822556, -0.05127507448196411, 0.000125006161397323, 0.0065080951899290085, 0.03570764139294624, 0.004612414166331291, 0.19783872365951538, -0.04409925639629364, 0.025218287482857704, -0.011120283976197243, 0.01837671734392643, 0.05549260601401329, -0.04553436487913132, 0.02464890480041504, 0.03312353417277336, -0.051164548844099045, 0.056834809482097626, -0.020026370882987976, 0.007677849382162094, 0.017703112214803696, -0.017696592956781387, 0.017132584005594254, 0.026066023856401443, -0.011728954501450062, -0.010715069249272346, -0.022037388756871223, -0.05655163526535034, -0.0023358259350061417, 0.054174553602933884, 0.03075418807566166, -0.0013829926028847694, -0.04523676261305809, -0.01947728358209133, 0.01677161455154419, -0.04071206599473953, -0.029718175530433655, -0.032259467989206314, 0.007984221912920475, 0.02147310972213745, -0.012883665040135384, 0.022584330290555954, -0.0040934765711426735, -0.010923407040536404, -0.007135771680623293, 0.02420981042087078, -0.0078339334577322, -0.0042706988751888275, 0.043084703385829926, 0.005749059841036797]}, {'id': 'c27701ef-8d31-4c8c-bd9c-9dc64844f24f', 'source': '/Users/pujanmaharjan/pdfs/agile/Kameron H. Clean Code. An Agile Guide to Software Craft 2023.pdf', 'page': '8', 'text': '2.4.1 Code as Documentation\\n\\xa0\\n2.4.2 Intent-Driven Naming\\n\\xa0\\n2.4.3 Choose Verbs and Nouns Thoughtfully\\n\\xa0\\n2.4.4 Avoid Generic Names\\n\\xa0\\n2.4.5 Maintainability and Understanding\\n\\xa0\\n2.4.6 Refactoring with Confidence\\n\\xa0\\n2.5 Making Meaningful Distinctions in Names\\n\\xa0\\n2.5.1 Avoid Ambiguity\\n\\xa0\\n2.5.2 Use Context for Distinctions\\n\\xa0\\n2.5.3 Add Qualifiers\\n\\xa0\\n2.5.4 Avoid Overloading Names\\n\\xa0\\n2.5.5 Maintain a Consistent Approach\\n\\xa0\\n2.5.6 Prioritize Clarity', 'text_vector': [-0.026920055970549583, -0.009311117231845856, 0.0028210519813001156, -0.018168430775403976, -0.002358207479119301, 0.014083978720009327, 0.05358222499489784, 0.017006633803248405, -0.011220574378967285, 0.010788973420858383, -0.021594300866127014, -0.0016849164385348558, 0.020215237513184547, 0.024105483666062355, 0.00302004162222147, 0.02913006953895092, -0.016355283558368683, 0.04318265616893768, -0.01289794035255909, -0.007216897327452898, 0.033845506608486176, -0.010580022819340229, 0.061389464884996414, 0.0020406164694577456, 0.027661968022584915, 0.050856370478868484, -0.0014033665647730231, -0.008036867715418339, 8.60820509842597e-05, -0.21899327635765076, -0.04005822166800499, 0.032323382794857025, 0.004857261665165424, 0.006604250054806471, -0.04719115421175957, 0.03312690928578377, -0.02033931575715542, 0.05075332522392273, -0.028270000591874123, 0.015827659517526627, -0.03369980305433273, 0.03244623914361, 0.020443296059966087, -0.03205440193414688, -0.0547250472009182, -0.028522035107016563, -0.022203467786312103, -0.008026938885450363, -0.05305895581841469, -0.008146037347614765, -0.038806986063718796, -0.02729247882962227, -0.007089982274919748, 0.04981217533349991, -0.022542618215084076, 0.0405394472181797, 0.04966846480965614, 0.0642363503575325, 0.0011366537073627114, -0.005344558507204056, 0.04680582508444786, 0.026415375992655754, -0.17443448305130005, 0.06921368837356567, 0.004062732215970755, 0.02683780901134014, -0.025194190442562103, 0.004600619897246361, 0.012859544716775417, 0.07980521023273468, 0.0008025667048059404, 0.04354262351989746, 0.0095045892521739, 0.04786254093050957, 0.038388095796108246, -0.040385402739048004, 0.007307246793061495, -0.019788596779108047, 0.05868131294846535, -0.026947692036628723, -0.023765001446008682, -0.01564841717481613, -0.027258489280939102, -0.028412584215402603, -0.07010013610124588, -0.006055792793631554, -0.0077318656258285046, -0.020309003069996834, 0.04094430059194565, -0.0329374298453331, 0.0046409908682107925, -0.04127584770321846, 0.031529225409030914, 0.009905822575092316, -0.030536241829395294, -0.007605654187500477, -0.030827969312667847, -0.001818029209971428, -0.020954560488462448, 0.6047839522361755, -0.014271688647568226, -0.005262105725705624, -0.0317833386361599, 0.009770981036126614, -0.02159530483186245, -0.02020225301384926, 0.0033662505447864532, 0.01985786482691765, 0.019436337053775787, -0.004476270638406277, -0.0045529999770224094, -0.0072706518694758415, 0.011116723529994488, -0.04121701791882515, -0.02321208454668522, 0.02177603729069233, 0.03858503699302673, -0.00034132899600081146, 0.020017338916659355, 0.0025062153581529856, 0.04109106585383415, 0.02129950001835823, 0.029150841757655144, -0.003927961923182011, -0.033442422747612, -0.0163405928760767, 0.0410626195371151, 0.02813735604286194, 0.004138991702347994, -0.0028502566274255514, 0.034673091024160385, 0.006725835148245096, -0.030225932598114014, 0.018736498430371284, 0.04248091205954552, 0.028871221467852592, 0.0017347974935546517, 0.024117153137922287, -0.00774188619107008, -0.019312329590320587, 0.016474073752760887, -0.019252488389611244, 0.019858302548527718, -0.05445754528045654, -0.06909425556659698, 0.10876770317554474, -0.03504569083452225, 0.014653078280389309, -0.02434067241847515, 0.025682294741272926, 0.011227265931665897, 0.027908489108085632, -0.02480875514447689, 0.006585252471268177, -0.019809475168585777, 0.00852567795664072, 0.05908997729420662, -0.012147552333772182, -0.038122087717056274, -0.02980009838938713, 0.027109820395708084, 0.007110370323061943, -0.034041788429021835, 0.062237899750471115, -0.030062664300203323, -0.05513381212949753, -0.023950405418872833, -0.0015908178174868226, 0.007618853356689215, -0.020364848896861076, -0.0012904586037620902, -0.0025574599858373404, -0.025391090661287308, 0.028679747134447098, 0.01041419617831707, 0.03997796028852463, -0.00661914236843586, -0.021082868799567223, 0.021527107805013657, -0.0014721108600497246, 0.07177385687828064, -0.03421381488442421, -0.013712952844798565, -0.04120562598109245, 0.027817271649837494, -0.03131014481186867, -0.058789268136024475, 0.0016468476969748735, 0.03741998225450516, 0.011244511231780052, -0.03589513152837753, 0.01611318066716194, -0.025168299674987793, 0.01654239557683468, -0.011129429563879967, -0.025678260251879692, -0.008023650385439396, -0.00710432231426239, -0.05534142255783081, -0.036406010389328, -0.03219416365027428, 0.030247762799263, -0.016426166519522667, 0.003078087931498885, 0.012156913988292217, 0.007375308778136969, 0.05032747983932495, -0.011550378985702991, 0.043041862547397614, -0.0045540062710642815, -0.09929676353931427, 0.022980915382504463, 0.027171941474080086, -0.010189447551965714, -0.021359166130423546, -0.020609470084309578, 0.004629582166671753, 0.05574515089392662, 0.014703426510095596, 6.184951780596748e-05, 0.01879815384745598, -0.019950909540057182, -0.01650991663336754, -0.2047475278377533, 0.0006614367594011128, 0.006560041103512049, -0.024245478212833405, 0.034211479127407074, -0.0445522740483284, 0.026132889091968536, -0.01737115904688835, -0.015179776586592197, 0.02741681970655918, 0.026061298325657845, -0.04793158918619156, -0.06379272788763046, -0.01573975384235382, -0.004935437347739935, 0.014045175164937973, 0.027097124606370926, -0.0213087797164917, -0.03029591403901577, -0.0016675349324941635, 0.008856498636305332, 0.012602590024471283, 0.023384390398859978, -0.07023618370294571, -0.017184214666485786, 0.002002774039283395, 0.11928538233041763, -0.02883611060678959, 0.10060147196054459, 0.016959019005298615, 0.053467221558094025, 0.004644998349249363, -0.003686333540827036, -0.12584443390369415, 0.018313081935048103, -0.017221273854374886, 0.0008397232741117477, -0.002466847887262702, -0.03414506837725639, -0.00944963563233614, -0.005985021125525236, 0.013331208378076553, -0.02396385930478573, -0.050044313073158264, -0.016493814066052437, -0.016349362209439278, -0.06223515421152115, -0.03882903605699539, 0.00540810776874423, 0.01791161671280861, 0.005312933586537838, 0.03589484095573425, 0.013041169382631779, -0.0036142366006970406, -0.029346495866775513, -0.003646004246547818, -0.03553402051329613, 0.03309052810072899, -0.02320479042828083, -0.013010114431381226, -0.006001935340464115, -0.026669524610042572, 0.028790730983018875, -0.005959712900221348, 0.025517495349049568, -0.016381405293941498, -0.02541293390095234, 0.0027710560243576765, 0.00033306953264400363, -0.028577053919434547, -0.027458880096673965, 0.10286589711904526, -0.023802172392606735, -0.06225045025348663, 0.03040197677910328, 0.0017099528340622783, -0.003945454955101013, -0.03882056847214699, -0.0076644569635391235, -0.05516653135418892, 0.03248800337314606, 0.008057692088186741, 0.06475014984607697, -0.017140882089734077, 0.024134062230587006, 0.012182368896901608, 0.038151584565639496, -0.016579337418079376, 0.00960313156247139, -0.02550598978996277, -0.02196677029132843, -0.0008563094306737185, 0.009207073599100113, -0.024925868958234787, 0.02109486423432827, -0.01590740866959095, -0.2844918966293335, 0.0026707041542977095, 0.007152452599257231, 0.05315772071480751, -0.006219103466719389, 0.027673395350575447, 0.02668129652738571, -0.08042319118976593, -0.05175590515136719, 0.023631971329450607, 0.01930387131869793, -0.0005750554264523089, 0.03786487877368927, -0.023315783590078354, 0.00657038576900959, 0.05638455972075462, 0.0921308621764183, -0.028809823095798492, 0.01434936374425888, -0.008584177121520042, -0.006644282955676317, 0.01624419167637825, 0.18857401609420776, -0.04051660746335983, 0.05052066594362259, -0.019737018272280693, -0.0011872511822730303, 0.058486923575401306, 0.020943356677889824, 0.027629880234599113, 0.023482467979192734, -0.0031791829969733953, 0.06472309678792953, -0.006874001119285822, 0.006837035994976759, 0.0005070936167612672, 0.005388031713664532, 0.007796310354024172, 0.03802264854311943, 0.018116824328899384, -0.018516428768634796, -0.017631569877266884, -0.032541897147893906, -0.029810449108481407, 0.042464837431907654, -0.012554585933685303, -0.01572335697710514, -0.03297296166419983, -0.03352219983935356, 0.0571199432015419, -0.05496843159198761, -0.015286208130419254, -0.06695207953453064, 0.009305275976657867, 0.03754895180463791, 0.0051925573498010635, -0.005745660979300737, 0.0030062973964959383, -0.02981455996632576, -0.0004595968930516392, -0.010691860690712929, -0.014513067901134491, 0.03892190009355545, 0.04246632009744644, 0.01659226045012474]}]\n"
     ]
    },
    {
     "name": "stderr",
     "output_type": "stream",
     "text": [
      "4it [00:21,  5.36s/it]                                        "
     ]
    },
    {
     "name": "stdout",
     "output_type": "stream",
     "text": [
      "Starting embedding\n",
      "data to add  [{'id': 'c895bf7a-0eb4-45c6-9aad-c0d8bdec5cf3', 'source': '/Users/pujanmaharjan/pdfs/agile/Kameron H. Clean Code. An Agile Guide to Software Craft 2023.pdf', 'page': '9', 'text': 'Chapter 3: Functions\\n\\xa0\\n3.1 The Role of Functions in Clean Code\\n\\xa0\\n3.1.1 Functions as Abstractions\\n\\xa0\\n3.1.2 Small and Focused Functions\\n\\xa0\\n3.1.3 Function Names and Readability\\n\\xa0\\n3.1.4 Function Arguments and Side Effects\\n\\xa0\\n3.1.5 Encapsulation and Reusability\\n\\xa0\\n3.2 Small and Focused Functions\\n\\xa0\\n3.2.1 The Single Responsibility Principle (SRP)\\n\\xa0\\n3.2.2 Benefits of Small and Focused Functions\\n\\xa0\\n3.2.3 Guidelines for Creating Small and Focused Functions\\n\\xa0\\n3.3 Function Arguments and Side Effects\\n\\xa0\\n3.3.1 Minimizing Function Arguments\\n\\xa0\\n3.3.2 Minimizing Side Effects', 'text_vector': [-0.02947571501135826, -0.007363153621554375, 0.020826030522584915, -0.04752424359321594, 0.03490579500794411, 0.00477295508608222, 0.05491790175437927, 0.024710027500987053, 0.001315601752139628, 0.007801251020282507, -0.022709693759679794, -0.019400956109166145, 0.05563483014702797, 0.02162233553826809, 0.012145633809268475, 0.009282160550355911, -0.010188371874392033, 0.04297979548573494, -0.02549513801932335, -0.011499294079840183, 0.02717777155339718, -0.04995936527848244, 0.009853102266788483, -0.028326047584414482, 0.015672171488404274, 0.01520194299519062, 0.006435866001993418, -0.012056592851877213, -0.03573114052414894, -0.2166842371225357, -0.025768334046006203, 0.020279107615351677, 0.023705091327428818, -0.03740273788571358, -0.04530724138021469, -0.006259003188461065, 0.04627590999007225, 0.00379349198192358, -0.01218246016651392, -0.0010366655187681317, 0.014038540422916412, 0.05017198622226715, 0.017505818977952003, -0.013820698484778404, -0.05105286091566086, -0.061637889593839645, -0.008697117678821087, -0.05473056808114052, -0.04930754005908966, -0.033106181770563126, 0.0006323211127892137, -0.009298828430473804, -0.025308461859822273, 0.028316231444478035, 0.013285654596984386, -0.003931650426238775, 0.04525230452418327, 0.03522432968020439, -0.015661967918276787, 0.013824019581079483, 0.021988030523061752, -2.6874857212533243e-05, -0.1720065176486969, 0.05212019383907318, 0.039034921675920486, 0.029591625556349754, -0.00186724157538265, -0.008943618275225163, 0.012659820728003979, 0.05897309631109238, -0.06417743861675262, 0.02709128148853779, -0.035707779228687286, 0.04573125019669533, 0.019377896562218666, -0.04069739207625389, -0.005210001487284899, -0.017931584268808365, 0.011503491550683975, -0.014306972734630108, -0.0016756737604737282, -0.015535591170191765, -0.028536386787891388, 0.022378897294402122, -0.04629547894001007, -0.01334538497030735, 0.0029246292542666197, -0.027098216116428375, 0.03528895229101181, -0.014916397631168365, 0.0022482089698314667, -0.03286118805408478, 0.0442349798977375, 0.02092038467526436, -0.048332393169403076, 0.02100965566933155, 0.03355122730135918, 0.01657414622604847, -0.06430436670780182, 0.561324417591095, -0.03563906252384186, 0.016896259039640427, -2.1410090994322672e-05, -0.024907073006033897, 0.00906695332378149, -0.01440718024969101, 0.020905012264847755, -0.032513316720724106, 0.014336461201310158, -0.00039353829924948514, -0.013880696147680283, -0.030858077108860016, 0.028187867254018784, -0.04339497163891792, 0.010633266530930996, 0.04373311996459961, 0.02699323371052742, -0.005401525180786848, 0.02044985629618168, 0.008454741910099983, 0.020623764023184776, 0.032082512974739075, 0.017633765935897827, -0.004033885896205902, -0.011772115714848042, -0.018108325079083443, 0.036440204828977585, 0.05719150975346565, 0.0084999306127429, 0.017138516530394554, 0.04561581462621689, -0.014539037831127644, 0.0006721702520735562, 0.012422715313732624, -0.0036891913041472435, -0.012600623071193695, -0.02547474578022957, 0.002997356466948986, 0.030712634325027466, -0.021911704912781715, -0.010136907920241356, 0.014899375848472118, 0.006219283677637577, -0.07043623179197311, -0.056711502373218536, 0.10884969681501389, -0.019155869260430336, 0.017542535439133644, -0.04801163449883461, 0.006094621028751135, 0.02483033947646618, 0.07574833929538727, -0.02277795597910881, 0.007830245420336723, -0.029356274753808975, 0.03318836912512779, 0.027593735605478287, -0.023480424657464027, -0.04250152036547661, -0.022660430520772934, -0.05498816445469856, 0.059699904173612595, -0.051030371338129044, 0.08402734249830246, -0.019491810351610184, -0.05477014183998108, -0.02024368941783905, -0.011738935485482216, -0.022058842703700066, -0.008010425604879856, 7.784658373566344e-05, -0.018659979104995728, -0.03145694360136986, -0.03444099426269531, 0.021059993654489517, 0.05937481299042702, -0.016809573397040367, -0.00017938544624485075, 0.018020957708358765, 0.04333270713686943, 0.007284542545676231, -0.03939555957913399, -0.02805156819522381, -0.02044198103249073, -0.00600836705416441, -0.032220590859651566, -0.056231848895549774, -0.0020121634006500244, 0.022510016337037086, 0.06279533356428146, -0.056962691247463226, 0.010577179491519928, -0.048023615032434464, 0.0034917714074254036, -0.06241419166326523, -0.01528212334960699, -0.006261397153139114, -0.014933211728930473, -0.05277000740170479, -0.003235933370888233, -0.00612263660877943, 0.038921624422073364, -0.007203980349004269, 0.018889514729380608, -0.009730912744998932, 0.000471005478175357, 0.0483575202524662, -0.016050327569246292, 0.056501857936382294, 0.021576276049017906, -0.08049541711807251, 0.04515417292714119, 0.017572397366166115, -0.01185778621584177, 0.031840577721595764, -0.035649653524160385, 0.02910340018570423, -0.009456793777644634, -0.003921755123883486, -0.0036354269832372665, 0.002856449456885457, -0.03758729621767998, -0.037832655012607574, -0.2064109444618225, 0.01873575709760189, -0.01692884787917137, -0.05056581273674965, 0.037453390657901764, -0.03649970516562462, 0.01936199702322483, -0.0021650486160069704, -0.016846925020217896, 0.002731028711423278, 0.10159794241189957, -0.03588578477501869, -0.05409780517220497, -0.03252031281590462, -0.0293586328625679, 0.006993195042014122, 0.025490859523415565, -0.06017664447426796, -0.04978472366929054, -0.03721027076244354, -0.015358936972916126, 0.03790939971804619, 0.04653473198413849, -0.051185835152864456, 0.0382230281829834, -0.016926558688282967, 0.12962304055690765, -0.054205767810344696, 0.09195005893707275, 0.01700090430676937, 0.04166170209646225, -0.03690242022275925, 0.02072240598499775, -0.10579847544431686, 0.011058671399950981, 0.05167974904179573, 0.031083831563591957, -0.01329965703189373, -0.02088105119764805, 0.017448116093873978, -0.003820995567366481, 0.009270066395401955, -0.01190829649567604, 0.014872396364808083, -0.01880667917430401, -0.02624593861401081, -0.042725324630737305, -0.04057716578245163, -0.017390906810760498, 0.05234001204371452, 0.021313024684786797, 0.007883685640990734, 0.0007699392735958099, 0.029521090909838676, -0.006321924272924662, 0.0018571785185486078, -0.02275136485695839, 0.03534204512834549, -0.049604784697294235, 0.004797767847776413, 0.01338049117475748, -0.03131376579403877, 0.007093812804669142, -0.05055326223373413, 0.0358637273311615, -0.025328809395432472, 0.0006963890045881271, -0.0016754738753661513, 0.033480532467365265, -0.0003190110728610307, -0.025783786550164223, 0.08494305610656738, -0.019369391724467278, -0.03038679249584675, 0.05054866150021553, 0.0008559456327930093, 0.010021568275988102, -0.025611432269215584, 0.03634108603000641, -0.0488729253411293, 0.029083749279379845, 0.0180217232555151, 0.041701581329107285, 0.015773925930261612, -0.013808539137244225, -0.03087771125137806, 0.015558739192783833, 0.00034309885813854635, -0.02384340763092041, -0.0055970316752791405, -0.04726722091436386, -0.010463076643645763, 0.028029168024659157, -0.01333334855735302, 0.04541179910302162, 0.0013975412584841251, -0.2927910089492798, -0.031179064884781837, 0.011767273768782616, 0.0382462777197361, -0.02974868007004261, 0.04049467295408249, 0.028842560946941376, -0.0633215382695198, -0.02196887880563736, 0.006369240581989288, 0.05429502949118614, 0.047543589025735855, 0.03989418223500252, -0.026588454842567444, 0.042035385966300964, 0.0378715880215168, 0.03230946883559227, -0.015463178977370262, 0.035132285207509995, -0.007804776541888714, 0.050508152693510056, 0.03155714273452759, 0.2100141942501068, -0.06535710394382477, 0.04281521961092949, 0.013197548687458038, 0.019939525052905083, 0.009677210822701454, -0.01112466398626566, 0.004854790400713682, 0.04182009771466255, 0.014613867737352848, 0.05894504114985466, -0.0024639705661684275, 0.01624252274632454, 0.018997283652424812, -0.014979218132793903, 0.019817311316728592, 0.01950846239924431, 0.024106286466121674, -0.019282953813672066, -0.016052894294261932, -0.002444132696837187, -0.030779356136918068, 0.040539614856243134, -0.05152545124292374, -0.02338498830795288, -0.08756525069475174, -0.029735058546066284, 0.015938788652420044, -0.04693714529275894, 0.02008722722530365, 0.011740312911570072, -0.04023806005716324, 0.04418085515499115, 0.01718543842434883, -0.012958383187651634, 0.012423519045114517, -0.03976653143763542, 0.048955898731946945, 0.025497589260339737, -0.007723113521933556, 0.022957805544137955, 0.07169781625270844, 0.033974725753068924]}]\n",
      "Execution End time 2024-07-29 10:07:08.307148+00:00. Elapsed total seconds 21.926518\n"
     ]
    },
    {
     "name": "stderr",
     "output_type": "stream",
     "text": [
      "\n"
     ]
    }
   ],
   "source": [
    "db_repository_m = VectorDbRepository(\"pdfs\", MilvusDbRepository)\n",
    "add_to_db(db_repository_m, pages_small, 3)"
   ]
  },
  {
   "cell_type": "code",
   "execution_count": 16,
   "metadata": {},
   "outputs": [
    {
     "name": "stdout",
     "output_type": "stream",
     "text": [
      "Execution Start time 2024-07-29 10:07:08.901738+00:00\n",
      "previous data found so delete them  /Users/pujanmaharjan/pdfs/agile/Kameron H. Clean Code. An Agile Guide to Software Craft 2023.pdf\n"
     ]
    },
    {
     "name": "stderr",
     "output_type": "stream",
     "text": [
      " 30%|███       | 1/3.3333333333333335 [00:03<00:08,  3.65s/it]"
     ]
    },
    {
     "name": "stdout",
     "output_type": "stream",
     "text": [
      "Starting embedding\n",
      "Starting embedding\n",
      "Starting embedding\n"
     ]
    },
    {
     "name": "stderr",
     "output_type": "stream",
     "text": [
      " 60%|██████    | 2/3.3333333333333335 [00:07<00:05,  3.91s/it]"
     ]
    },
    {
     "name": "stdout",
     "output_type": "stream",
     "text": [
      "Starting embedding\n",
      "Starting embedding\n",
      "Starting embedding\n"
     ]
    },
    {
     "name": "stderr",
     "output_type": "stream",
     "text": [
      " 90%|█████████ | 3/3.3333333333333335 [00:11<00:01,  3.92s/it]"
     ]
    },
    {
     "name": "stdout",
     "output_type": "stream",
     "text": [
      "Starting embedding\n",
      "Starting embedding\n",
      "Starting embedding\n"
     ]
    },
    {
     "name": "stderr",
     "output_type": "stream",
     "text": [
      "4it [00:15,  3.83s/it]                                        "
     ]
    },
    {
     "name": "stdout",
     "output_type": "stream",
     "text": [
      "Starting embedding\n",
      "Execution End time 2024-07-29 10:07:24.640786+00:00. Elapsed total seconds 15.739042\n"
     ]
    },
    {
     "name": "stderr",
     "output_type": "stream",
     "text": [
      "\n"
     ]
    }
   ],
   "source": [
    "db_repository_c = VectorDbRepository(\"pdfs\", ChromaDbRepository)\n",
    "add_to_db(db_repository_c, pages_small, 3)"
   ]
  },
  {
   "cell_type": "code",
   "execution_count": 17,
   "metadata": {},
   "outputs": [],
   "source": [
    "chromadb_repo = ChromaDbRepository(\"pdfs\")"
   ]
  },
  {
   "cell_type": "code",
   "execution_count": 18,
   "metadata": {},
   "outputs": [
    {
     "data": {
      "text/plain": [
       "'Table of Contents\\n\\xa0\\nTitle Page\\n\\xa0\\nCopyright Page\\n\\xa0\\nClean Code: An Agile Guide to Software Craft\\n\\xa0\\nChapter 1: Clean Code\\n\\xa0\\nChapter 2: Meaningful Names\\n\\xa0\\nChapter 3: Functions\\n\\xa0\\nChapter 4: Comments\\n\\xa0\\nChapter 5: Formatting\\n\\xa0\\nChapter 6: Objects and Data Structures\\n\\xa0\\nChapter 7: Error Handling\\n\\xa0\\nChapter 8: Boundaries\\n\\xa0\\nChapter 9: Unit Tests Table of Contents\\n\\xa0\\nChapter 1: Clean Code\\n\\xa0\\n1.1 What Is Clean Code?\\n\\xa0\\nThe Benefits of Clean Code\\n\\xa0\\nCharacteristics of Clean Code\\n\\xa0\\n1.2 Why Does Clean Code Matter?\\n\\xa0\\n1.2.1 Readability and Understanding\\n\\xa0\\n1.2.2 Maintainability\\n\\xa0\\n1.2.3 Debugging and Error Detection\\n\\xa0\\n1.2.4 Collaboration\\n\\xa0\\n1.2.5 Code Reviews and Quality Assurance\\n\\xa0\\n1.2.6 Long-Term Sustainability\\n\\xa0\\n1.3 The Principles of Clean Code Chapter 3: Functions\\n\\xa0\\n3.1 The Role of Functions in Clean Code\\n\\xa0\\n3.1.1 Functions as Abstractions\\n\\xa0\\n3.1.2 Small and Focused Functions\\n\\xa0\\n3.1.3 Function Names and Readability\\n\\xa0\\n3.1.4 Function Arguments and Side Effects\\n\\xa0\\n3.1.5 Encapsulation and Reusability\\n\\xa0\\n3.2 Small and Focused Functions\\n\\xa0\\n3.2.1 The Single Responsibility Principle (SRP)\\n\\xa0\\n3.2.2 Benefits of Small and Focused Functions\\n\\xa0\\n3.2.3 Guidelines for Creating Small and Focused Functions\\n\\xa0\\n3.3 Function Arguments and Side Effects\\n\\xa0\\n3.3.1 Minimizing Function Arguments\\n\\xa0\\n3.3.2 Minimizing Side Effects While every precaution has been taken in the preparation of this book, the\\npublisher assumes no responsibility for errors or omissions, or for\\ndamages resulting from the use of the information contained herein.\\n\\xa0\\nCLEAN CODE: AN AGILE GUIDE TO SOFTWARE CRAFT\\n\\xa0\\nFirst edition. October 15, 2023.\\n\\xa0\\nCopyright © 2023 Kameron Hussain and Frahaan Hussain.\\n\\xa0\\nWritten by Kameron Hussain and Frahaan Hussain. 2.4.1 Code as Documentation\\n\\xa0\\n2.4.2 Intent-Driven Naming\\n\\xa0\\n2.4.3 Choose Verbs and Nouns Thoughtfully\\n\\xa0\\n2.4.4 Avoid Generic Names\\n\\xa0\\n2.4.5 Maintainability and Understanding\\n\\xa0\\n2.4.6 Refactoring with Confidence\\n\\xa0\\n2.5 Making Meaningful Distinctions in Names\\n\\xa0\\n2.5.1 Avoid Ambiguity\\n\\xa0\\n2.5.2 Use Context for Distinctions\\n\\xa0\\n2.5.3 Add Qualifiers\\n\\xa0\\n2.5.4 Avoid Overloading Names\\n\\xa0\\n2.5.5 Maintain a Consistent Approach\\n\\xa0\\n2.5.6 Prioritize Clarity 1.3.1 DRY (Don’t Repeat Yourself) Principle\\n\\xa0\\n1.3.2 SRP (Single Responsibility Principle)\\n\\xa0\\n1.3.3 KISS (Keep It Simple, Stupid) Principle\\n\\xa0\\n1.3.4 YAGNI (You Ain’t Gonna Need It) Principle\\n\\xa0\\n1.4 A Case for Software Craftsmanship\\n\\xa0\\n1.4.1 Beyond Functional Code\\n\\xa0\\n1.4.2 Code as a Reflection of Thought\\n\\xa0\\n1.4.3 Continuous Improvement\\n\\xa0\\n1.4.4 Attention to Detail\\n\\xa0\\n1.4.5 Code That Stands the Test of Time\\n\\xa0\\n1.4.6 Pride in Work\\n\\xa0\\n1.4.7 Collaboration and Mentorship\\n\\xa0\\n1.4.8 Balancing Pragmatism and Perfection\\n\\xa0\\n1.5 How Clean Code Enhances Agile Development Clean Code: An Agile Guide to Software Craft\\n\\xa0\\nKameron Hussain and Frahaan Hussain\\n\\xa0\\nPublished by Sonar Publishing, 2023. 1.5.1 Readability and Adaptability\\n\\xa0\\n1.5.2 Continuous Integration and Delivery\\n\\xa0\\n1.5.3 Collaboration and Code Reviews\\n\\xa0\\n1.5.4 Test-Driven Development (TDD)\\n\\xa0\\n1.5.5 Agile Refactoring\\n\\xa0\\n1.5.6 Reduced Technical Debt\\n\\xa0\\n1.5.7 Empowering Cross-Functional Teams\\n\\xa0\\nChapter 2: Meaningful Names\\n\\xa0\\n2.1 The Importance of Good Names\\n\\xa0\\n2.1.1 Readability and Comprehensibility\\n\\xa0\\n2.1.2 Documentation Through Naming\\n\\xa0\\n2.1.3 Maintainability\\n\\xa0\\n2.1.4 Reducing Cognitive Load\\n\\xa0\\n2.1.5 Consistency and Conventions Chapter 10: Classes\\n\\xa0\\nChapter 13: Concurrency\\n\\xa0\\nChapter 15: JUnit Internals\\n\\xa0\\nChapter 19: Appendix B: Decimal I/O\\n\\xa0\\nChapter 20: Appendix C: How to Transform Employee 2.2 Choosing Descriptive and Pronounceable Names\\n\\xa0\\n2.2.1 Descriptive Names\\n\\xa0\\n2.2.2 Pronounceable Names\\n\\xa0\\n2.2.3 Meaningful Variable Names\\n\\xa0\\n2.2.4 Method and Function Names\\n\\xa0\\n2.2.5 Class and Object Names\\n\\xa0\\n2.3 Avoiding Disinformation and Misleading Names\\n\\xa0\\n2.3.1 Misleading Names Can Be Dangerous\\n\\xa0\\n2.3.2 Be Precise and Specific\\n\\xa0\\n2.3.3 Be Wary of Abbreviations and Acronyms\\n\\xa0\\n2.3.4 Consistency Matters\\n\\xa0\\n2.3.5 Use Domain-Specific Language\\n\\xa0\\n2.3.6 Seek Feedback\\n\\xa0\\n2.4 Using Names that Reveal Intent'"
      ]
     },
     "execution_count": 18,
     "metadata": {},
     "output_type": "execute_result"
    }
   ],
   "source": [
    "chromadb_repo.find(\"clean code\")"
   ]
  },
  {
   "cell_type": "code",
   "execution_count": 19,
   "metadata": {},
   "outputs": [],
   "source": [
    "milvus_repo = MilvusDbRepository(\"pdfs\")"
   ]
  },
  {
   "cell_type": "code",
   "execution_count": 20,
   "metadata": {},
   "outputs": [
    {
     "name": "stdout",
     "output_type": "stream",
     "text": [
      "Starting embedding\n",
      "Search result  data: [\"[{'id': '2d61123d-8f06-4212-acea-fef1aa4b6e55', 'distance': 0.2022617608308792, 'entity': {'text': 'While every precaution has been taken in the preparation of this book, the\\\\npublisher assumes no responsibility for errors or omissions, or for\\\\ndamages resulting from the use of the information contained herein.\\\\n\\\\xa0\\\\nCLEAN CODE: AN AGILE GUIDE TO SOFTWARE CRAFT\\\\n\\\\xa0\\\\nFirst edition. October 15, 2023.\\\\n\\\\xa0\\\\nCopyright © 2023 Kameron Hussain and Frahaan Hussain.\\\\n\\\\xa0\\\\nWritten by Kameron Hussain and Frahaan Hussain.'}}, {'id': '313ac805-b133-4d9d-a121-3f2c6601c8f4', 'distance': 0.20561350882053375, 'entity': {'text': 'Table of Contents\\\\n\\\\xa0\\\\nTitle Page\\\\n\\\\xa0\\\\nCopyright Page\\\\n\\\\xa0\\\\nClean Code: An Agile Guide to Software Craft\\\\n\\\\xa0\\\\nChapter 1: Clean Code\\\\n\\\\xa0\\\\nChapter 2: Meaningful Names\\\\n\\\\xa0\\\\nChapter 3: Functions\\\\n\\\\xa0\\\\nChapter 4: Comments\\\\n\\\\xa0\\\\nChapter 5: Formatting\\\\n\\\\xa0\\\\nChapter 6: Objects and Data Structures\\\\n\\\\xa0\\\\nChapter 7: Error Handling\\\\n\\\\xa0\\\\nChapter 8: Boundaries\\\\n\\\\xa0\\\\nChapter 9: Unit Tests'}}, {'id': '9ce369e5-df20-44ba-b39e-4c0fc8851e36', 'distance': 0.2112216204404831, 'entity': {'text': 'Table of Contents\\\\n\\\\xa0\\\\nChapter 1: Clean Code\\\\n\\\\xa0\\\\n1.1 What Is Clean Code?\\\\n\\\\xa0\\\\nThe Benefits of Clean Code\\\\n\\\\xa0\\\\nCharacteristics of Clean Code\\\\n\\\\xa0\\\\n1.2 Why Does Clean Code Matter?\\\\n\\\\xa0\\\\n1.2.1 Readability and Understanding\\\\n\\\\xa0\\\\n1.2.2 Maintainability\\\\n\\\\xa0\\\\n1.2.3 Debugging and Error Detection\\\\n\\\\xa0\\\\n1.2.4 Collaboration\\\\n\\\\xa0\\\\n1.2.5 Code Reviews and Quality Assurance\\\\n\\\\xa0\\\\n1.2.6 Long-Term Sustainability\\\\n\\\\xa0\\\\n1.3 The Principles of Clean Code'}}, {'id': '5630c232-c169-4057-9a87-901ad1156d87', 'distance': 0.24352878332138062, 'entity': {'text': 'Clean Code: An Agile Guide to Software Craft\\\\n\\\\xa0\\\\nKameron Hussain and Frahaan Hussain\\\\n\\\\xa0\\\\nPublished by Sonar Publishing, 2023.'}}, {'id': 'c895bf7a-0eb4-45c6-9aad-c0d8bdec5cf3', 'distance': 0.2842138111591339, 'entity': {'text': 'Chapter 3: Functions\\\\n\\\\xa0\\\\n3.1 The Role of Functions in Clean Code\\\\n\\\\xa0\\\\n3.1.1 Functions as Abstractions\\\\n\\\\xa0\\\\n3.1.2 Small and Focused Functions\\\\n\\\\xa0\\\\n3.1.3 Function Names and Readability\\\\n\\\\xa0\\\\n3.1.4 Function Arguments and Side Effects\\\\n\\\\xa0\\\\n3.1.5 Encapsulation and Reusability\\\\n\\\\xa0\\\\n3.2 Small and Focused Functions\\\\n\\\\xa0\\\\n3.2.1 The Single Responsibility Principle (SRP)\\\\n\\\\xa0\\\\n3.2.2 Benefits of Small and Focused Functions\\\\n\\\\xa0\\\\n3.2.3 Guidelines for Creating Small and Focused Functions\\\\n\\\\xa0\\\\n3.3 Function Arguments and Side Effects\\\\n\\\\xa0\\\\n3.3.1 Minimizing Function Arguments\\\\n\\\\xa0\\\\n3.3.2 Minimizing Side Effects'}}, {'id': '61684764-91e7-43f4-8f55-8ba2e4f8d649', 'distance': 0.3107318580150604, 'entity': {'text': '1.3.1 DRY (Don’t Repeat Yourself) Principle\\\\n\\\\xa0\\\\n1.3.2 SRP (Single Responsibility Principle)\\\\n\\\\xa0\\\\n1.3.3 KISS (Keep It Simple, Stupid) Principle\\\\n\\\\xa0\\\\n1.3.4 YAGNI (You Ain’t Gonna Need It) Principle\\\\n\\\\xa0\\\\n1.4 A Case for Software Craftsmanship\\\\n\\\\xa0\\\\n1.4.1 Beyond Functional Code\\\\n\\\\xa0\\\\n1.4.2 Code as a Reflection of Thought\\\\n\\\\xa0\\\\n1.4.3 Continuous Improvement\\\\n\\\\xa0\\\\n1.4.4 Attention to Detail\\\\n\\\\xa0\\\\n1.4.5 Code That Stands the Test of Time\\\\n\\\\xa0\\\\n1.4.6 Pride in Work\\\\n\\\\xa0\\\\n1.4.7 Collaboration and Mentorship\\\\n\\\\xa0\\\\n1.4.8 Balancing Pragmatism and Perfection\\\\n\\\\xa0\\\\n1.5 How Clean Code Enhances Agile Development'}}, {'id': 'c27701ef-8d31-4c8c-bd9c-9dc64844f24f', 'distance': 0.35967108607292175, 'entity': {'text': '2.4.1 Code as Documentation\\\\n\\\\xa0\\\\n2.4.2 Intent-Driven Naming\\\\n\\\\xa0\\\\n2.4.3 Choose Verbs and Nouns Thoughtfully\\\\n\\\\xa0\\\\n2.4.4 Avoid Generic Names\\\\n\\\\xa0\\\\n2.4.5 Maintainability and Understanding\\\\n\\\\xa0\\\\n2.4.6 Refactoring with Confidence\\\\n\\\\xa0\\\\n2.5 Making Meaningful Distinctions in Names\\\\n\\\\xa0\\\\n2.5.1 Avoid Ambiguity\\\\n\\\\xa0\\\\n2.5.2 Use Context for Distinctions\\\\n\\\\xa0\\\\n2.5.3 Add Qualifiers\\\\n\\\\xa0\\\\n2.5.4 Avoid Overloading Names\\\\n\\\\xa0\\\\n2.5.5 Maintain a Consistent Approach\\\\n\\\\xa0\\\\n2.5.6 Prioritize Clarity'}}, {'id': 'd7da8364-f916-41f1-8ec1-1840d74b3c30', 'distance': 0.39957472681999207, 'entity': {'text': '1.5.1 Readability and Adaptability\\\\n\\\\xa0\\\\n1.5.2 Continuous Integration and Delivery\\\\n\\\\xa0\\\\n1.5.3 Collaboration and Code Reviews\\\\n\\\\xa0\\\\n1.5.4 Test-Driven Development (TDD)\\\\n\\\\xa0\\\\n1.5.5 Agile Refactoring\\\\n\\\\xa0\\\\n1.5.6 Reduced Technical Debt\\\\n\\\\xa0\\\\n1.5.7 Empowering Cross-Functional Teams\\\\n\\\\xa0\\\\nChapter 2: Meaningful Names\\\\n\\\\xa0\\\\n2.1 The Importance of Good Names\\\\n\\\\xa0\\\\n2.1.1 Readability and Comprehensibility\\\\n\\\\xa0\\\\n2.1.2 Documentation Through Naming\\\\n\\\\xa0\\\\n2.1.3 Maintainability\\\\n\\\\xa0\\\\n2.1.4 Reducing Cognitive Load\\\\n\\\\xa0\\\\n2.1.5 Consistency and Conventions'}}, {'id': 'b41a18f4-4694-47c4-a93a-ec45f8d22d14', 'distance': 0.4441552460193634, 'entity': {'text': 'Chapter 10: Classes\\\\n\\\\xa0\\\\nChapter 13: Concurrency\\\\n\\\\xa0\\\\nChapter 15: JUnit Internals\\\\n\\\\xa0\\\\nChapter 19: Appendix B: Decimal I/O\\\\n\\\\xa0\\\\nChapter 20: Appendix C: How to Transform Employee'}}, {'id': 'c6f59da6-391e-4909-ab54-73090fa4858c', 'distance': 0.45847344398498535, 'entity': {'text': '2.2 Choosing Descriptive and Pronounceable Names\\\\n\\\\xa0\\\\n2.2.1 Descriptive Names\\\\n\\\\xa0\\\\n2.2.2 Pronounceable Names\\\\n\\\\xa0\\\\n2.2.3 Meaningful Variable Names\\\\n\\\\xa0\\\\n2.2.4 Method and Function Names\\\\n\\\\xa0\\\\n2.2.5 Class and Object Names\\\\n\\\\xa0\\\\n2.3 Avoiding Disinformation and Misleading Names\\\\n\\\\xa0\\\\n2.3.1 Misleading Names Can Be Dangerous\\\\n\\\\xa0\\\\n2.3.2 Be Precise and Specific\\\\n\\\\xa0\\\\n2.3.3 Be Wary of Abbreviations and Acronyms\\\\n\\\\xa0\\\\n2.3.4 Consistency Matters\\\\n\\\\xa0\\\\n2.3.5 Use Domain-Specific Language\\\\n\\\\xa0\\\\n2.3.6 Seek Feedback\\\\n\\\\xa0\\\\n2.4 Using Names that Reveal Intent'}}]\"] , extra_info: {'cost': 0}\n"
     ]
    },
    {
     "data": {
      "text/plain": [
       "'While every precaution has been taken in the preparation of this book, the\\npublisher assumes no responsibility for errors or omissions, or for\\ndamages resulting from the use of the information contained herein.\\n\\xa0\\nCLEAN CODE: AN AGILE GUIDE TO SOFTWARE CRAFT\\n\\xa0\\nFirst edition. October 15, 2023.\\n\\xa0\\nCopyright © 2023 Kameron Hussain and Frahaan Hussain.\\n\\xa0\\nWritten by Kameron Hussain and Frahaan Hussain. Table of Contents\\n\\xa0\\nTitle Page\\n\\xa0\\nCopyright Page\\n\\xa0\\nClean Code: An Agile Guide to Software Craft\\n\\xa0\\nChapter 1: Clean Code\\n\\xa0\\nChapter 2: Meaningful Names\\n\\xa0\\nChapter 3: Functions\\n\\xa0\\nChapter 4: Comments\\n\\xa0\\nChapter 5: Formatting\\n\\xa0\\nChapter 6: Objects and Data Structures\\n\\xa0\\nChapter 7: Error Handling\\n\\xa0\\nChapter 8: Boundaries\\n\\xa0\\nChapter 9: Unit Tests Table of Contents\\n\\xa0\\nChapter 1: Clean Code\\n\\xa0\\n1.1 What Is Clean Code?\\n\\xa0\\nThe Benefits of Clean Code\\n\\xa0\\nCharacteristics of Clean Code\\n\\xa0\\n1.2 Why Does Clean Code Matter?\\n\\xa0\\n1.2.1 Readability and Understanding\\n\\xa0\\n1.2.2 Maintainability\\n\\xa0\\n1.2.3 Debugging and Error Detection\\n\\xa0\\n1.2.4 Collaboration\\n\\xa0\\n1.2.5 Code Reviews and Quality Assurance\\n\\xa0\\n1.2.6 Long-Term Sustainability\\n\\xa0\\n1.3 The Principles of Clean Code Clean Code: An Agile Guide to Software Craft\\n\\xa0\\nKameron Hussain and Frahaan Hussain\\n\\xa0\\nPublished by Sonar Publishing, 2023. Chapter 3: Functions\\n\\xa0\\n3.1 The Role of Functions in Clean Code\\n\\xa0\\n3.1.1 Functions as Abstractions\\n\\xa0\\n3.1.2 Small and Focused Functions\\n\\xa0\\n3.1.3 Function Names and Readability\\n\\xa0\\n3.1.4 Function Arguments and Side Effects\\n\\xa0\\n3.1.5 Encapsulation and Reusability\\n\\xa0\\n3.2 Small and Focused Functions\\n\\xa0\\n3.2.1 The Single Responsibility Principle (SRP)\\n\\xa0\\n3.2.2 Benefits of Small and Focused Functions\\n\\xa0\\n3.2.3 Guidelines for Creating Small and Focused Functions\\n\\xa0\\n3.3 Function Arguments and Side Effects\\n\\xa0\\n3.3.1 Minimizing Function Arguments\\n\\xa0\\n3.3.2 Minimizing Side Effects 1.3.1 DRY (Don’t Repeat Yourself) Principle\\n\\xa0\\n1.3.2 SRP (Single Responsibility Principle)\\n\\xa0\\n1.3.3 KISS (Keep It Simple, Stupid) Principle\\n\\xa0\\n1.3.4 YAGNI (You Ain’t Gonna Need It) Principle\\n\\xa0\\n1.4 A Case for Software Craftsmanship\\n\\xa0\\n1.4.1 Beyond Functional Code\\n\\xa0\\n1.4.2 Code as a Reflection of Thought\\n\\xa0\\n1.4.3 Continuous Improvement\\n\\xa0\\n1.4.4 Attention to Detail\\n\\xa0\\n1.4.5 Code That Stands the Test of Time\\n\\xa0\\n1.4.6 Pride in Work\\n\\xa0\\n1.4.7 Collaboration and Mentorship\\n\\xa0\\n1.4.8 Balancing Pragmatism and Perfection\\n\\xa0\\n1.5 How Clean Code Enhances Agile Development 2.4.1 Code as Documentation\\n\\xa0\\n2.4.2 Intent-Driven Naming\\n\\xa0\\n2.4.3 Choose Verbs and Nouns Thoughtfully\\n\\xa0\\n2.4.4 Avoid Generic Names\\n\\xa0\\n2.4.5 Maintainability and Understanding\\n\\xa0\\n2.4.6 Refactoring with Confidence\\n\\xa0\\n2.5 Making Meaningful Distinctions in Names\\n\\xa0\\n2.5.1 Avoid Ambiguity\\n\\xa0\\n2.5.2 Use Context for Distinctions\\n\\xa0\\n2.5.3 Add Qualifiers\\n\\xa0\\n2.5.4 Avoid Overloading Names\\n\\xa0\\n2.5.5 Maintain a Consistent Approach\\n\\xa0\\n2.5.6 Prioritize Clarity 1.5.1 Readability and Adaptability\\n\\xa0\\n1.5.2 Continuous Integration and Delivery\\n\\xa0\\n1.5.3 Collaboration and Code Reviews\\n\\xa0\\n1.5.4 Test-Driven Development (TDD)\\n\\xa0\\n1.5.5 Agile Refactoring\\n\\xa0\\n1.5.6 Reduced Technical Debt\\n\\xa0\\n1.5.7 Empowering Cross-Functional Teams\\n\\xa0\\nChapter 2: Meaningful Names\\n\\xa0\\n2.1 The Importance of Good Names\\n\\xa0\\n2.1.1 Readability and Comprehensibility\\n\\xa0\\n2.1.2 Documentation Through Naming\\n\\xa0\\n2.1.3 Maintainability\\n\\xa0\\n2.1.4 Reducing Cognitive Load\\n\\xa0\\n2.1.5 Consistency and Conventions Chapter 10: Classes\\n\\xa0\\nChapter 13: Concurrency\\n\\xa0\\nChapter 15: JUnit Internals\\n\\xa0\\nChapter 19: Appendix B: Decimal I/O\\n\\xa0\\nChapter 20: Appendix C: How to Transform Employee 2.2 Choosing Descriptive and Pronounceable Names\\n\\xa0\\n2.2.1 Descriptive Names\\n\\xa0\\n2.2.2 Pronounceable Names\\n\\xa0\\n2.2.3 Meaningful Variable Names\\n\\xa0\\n2.2.4 Method and Function Names\\n\\xa0\\n2.2.5 Class and Object Names\\n\\xa0\\n2.3 Avoiding Disinformation and Misleading Names\\n\\xa0\\n2.3.1 Misleading Names Can Be Dangerous\\n\\xa0\\n2.3.2 Be Precise and Specific\\n\\xa0\\n2.3.3 Be Wary of Abbreviations and Acronyms\\n\\xa0\\n2.3.4 Consistency Matters\\n\\xa0\\n2.3.5 Use Domain-Specific Language\\n\\xa0\\n2.3.6 Seek Feedback\\n\\xa0\\n2.4 Using Names that Reveal Intent'"
      ]
     },
     "execution_count": 20,
     "metadata": {},
     "output_type": "execute_result"
    }
   ],
   "source": [
    "milvus_repo.find(\"clean code\")"
   ]
  },
  {
   "cell_type": "code",
   "execution_count": null,
   "metadata": {},
   "outputs": [],
   "source": []
  }
 ],
 "metadata": {
  "kernelspec": {
   "display_name": ".venv_langchain",
   "language": "python",
   "name": "python3"
  },
  "language_info": {
   "codemirror_mode": {
    "name": "ipython",
    "version": 3
   },
   "file_extension": ".py",
   "mimetype": "text/x-python",
   "name": "python",
   "nbconvert_exporter": "python",
   "pygments_lexer": "ipython3",
   "version": "3.10.8"
  }
 },
 "nbformat": 4,
 "nbformat_minor": 2
}
