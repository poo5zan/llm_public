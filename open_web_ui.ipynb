{
  "nbformat": 4,
  "nbformat_minor": 0,
  "metadata": {
    "colab": {
      "provenance": [],
      "gpuType": "T4",
      "authorship_tag": "ABX9TyMi4niKevHCxd8I3eBsPMw/",
      "include_colab_link": true
    },
    "kernelspec": {
      "name": "python3",
      "display_name": "Python 3"
    },
    "language_info": {
      "name": "python"
    },
    "accelerator": "GPU"
  },
  "cells": [
    {
      "cell_type": "markdown",
      "metadata": {
        "id": "view-in-github",
        "colab_type": "text"
      },
      "source": [
        "<a href=\"https://colab.research.google.com/github/poo5zan/llm_public/blob/main/open_web_ui.ipynb\" target=\"_parent\"><img src=\"https://colab.research.google.com/assets/colab-badge.svg\" alt=\"Open In Colab\"/></a>"
      ]
    },
    {
      "cell_type": "code",
      "execution_count": null,
      "metadata": {
        "id": "guUM0VUMSBP8"
      },
      "outputs": [],
      "source": [
        "print(\"Open Web UI\")"
      ]
    },
    {
      "cell_type": "code",
      "source": [],
      "metadata": {
        "id": "R0S7UhEhrj4R"
      },
      "execution_count": null,
      "outputs": []
    },
    {
      "cell_type": "code",
      "source": [
        "!python --version\n",
        "!sudo apt-get update -y"
      ],
      "metadata": {
        "id": "yukWpl4ggSbz"
      },
      "execution_count": null,
      "outputs": []
    },
    {
      "cell_type": "code",
      "source": [
        "!sudo apt-get install python3.11"
      ],
      "metadata": {
        "id": "7ulYeqyfgqoB"
      },
      "execution_count": null,
      "outputs": []
    },
    {
      "cell_type": "code",
      "source": [
        "#change alternatives\n",
        "!sudo update-alternatives --install /usr/bin/python3 python3 /usr/bin/python3.10 1\n",
        "!sudo update-alternatives --install /usr/bin/python3 python3 /usr/bin/python3.11 2"
      ],
      "metadata": {
        "id": "rVuOKs3Cg8rx"
      },
      "execution_count": null,
      "outputs": []
    },
    {
      "cell_type": "code",
      "source": [
        "!python --version"
      ],
      "metadata": {
        "id": "KA6JVkkZg2by"
      },
      "execution_count": null,
      "outputs": []
    },
    {
      "cell_type": "code",
      "source": [
        "!curl https://bootstrap.pypa.io/get-pip.py -o get-pip.py\n",
        "!python get-pip.py"
      ],
      "metadata": {
        "id": "a3Mj2VeJhspo"
      },
      "execution_count": null,
      "outputs": []
    },
    {
      "cell_type": "code",
      "source": [
        "!pip install virtualenv"
      ],
      "metadata": {
        "id": "ZSoYYn8olebI"
      },
      "execution_count": null,
      "outputs": []
    },
    {
      "cell_type": "code",
      "source": [
        "!virtualenv pu_venv"
      ],
      "metadata": {
        "id": "GqPbKdrjljzf"
      },
      "execution_count": null,
      "outputs": []
    },
    {
      "cell_type": "code",
      "source": [
        "!source /content/pu_venv/bin/activate; pip install open-webui"
      ],
      "metadata": {
        "id": "58qJS5Wak6bF"
      },
      "execution_count": null,
      "outputs": []
    },
    {
      "cell_type": "code",
      "source": [
        "!pip install open-webui"
      ],
      "metadata": {
        "id": "Oxm9UqpzgLHi"
      },
      "execution_count": null,
      "outputs": []
    },
    {
      "cell_type": "code",
      "source": [
        "!source /content/pu_venv/bin/activate; open-webui serve --port 8081 &"
      ],
      "metadata": {
        "id": "c9A5vAEuintz"
      },
      "execution_count": null,
      "outputs": []
    },
    {
      "cell_type": "code",
      "source": [
        "import subprocess\n",
        "process_serve = subprocess.Popen(\"source /content/pu_venv/bin/activate; open-webui serve --port 8081\", shell=True)"
      ],
      "metadata": {
        "id": "9apuRLUvpE4w"
      },
      "execution_count": null,
      "outputs": []
    },
    {
      "cell_type": "code",
      "source": [
        "#bind the port 8888 and get a weblink to access\n",
        "from google.colab.output import eval_js\n",
        "print(eval_js(\"google.colab.kernel.proxyPort(8081)\"))"
      ],
      "metadata": {
        "id": "HU45V5LpqJDQ"
      },
      "execution_count": null,
      "outputs": []
    },
    {
      "cell_type": "code",
      "source": [
        "# ### Install ngrok\n",
        "# !wget https://bin.equinox.io/c/4VmDzA7iaHb/ngrok-stable-linux-amd64.zip\n",
        "# !unzip ngrok-stable-linux-amd64.zip\n",
        "\n",
        "\n"
      ],
      "metadata": {
        "id": "Dk9WByg0o27M"
      },
      "execution_count": null,
      "outputs": []
    },
    {
      "cell_type": "code",
      "source": [
        "# ### Run ngrok to tunnel Dash app port 8050 to the outside world.\n",
        "# ### This command runs in the background.\n",
        "# get_ipython().system_raw('./ngrok http 8081 &')"
      ],
      "metadata": {
        "id": "jlFmc5lPpsQo"
      },
      "execution_count": null,
      "outputs": []
    },
    {
      "cell_type": "code",
      "source": [
        "# ### Get the public URL where you can access the Dash app. Copy this URL.\n",
        "# !curl -s http://localhost:4040/api/tunnels | python3 -c \\\n",
        "#     \"import sys, json; print(json.load(sys.stdin)['tunnels'][0]['public_url'])\""
      ],
      "metadata": {
        "id": "r9tlKT84pwVH"
      },
      "execution_count": null,
      "outputs": []
    },
    {
      "cell_type": "code",
      "source": [
        "\n",
        "process_serve = subprocess.Popen(\"open-webui serve\", shell=True)"
      ],
      "metadata": {
        "id": "WbseWq68Y3mD"
      },
      "execution_count": null,
      "outputs": []
    },
    {
      "cell_type": "markdown",
      "source": [],
      "metadata": {
        "id": "rbIeNgHJgEyy"
      }
    },
    {
      "cell_type": "code",
      "source": [
        "!pstree"
      ],
      "metadata": {
        "id": "c1_6pYN-Um7D"
      },
      "execution_count": null,
      "outputs": []
    },
    {
      "cell_type": "code",
      "source": [
        "# # %%shell\n",
        "\n",
        "!docker run -d -p 3000:8080 --gpus=all -v ollama:/root/.ollama -v open-webui:/app/backend/data --name open-webui --restart always ghcr.io/open-webui/open-webui:ollama"
      ],
      "metadata": {
        "id": "snOpIg4MVWym"
      },
      "execution_count": null,
      "outputs": []
    },
    {
      "cell_type": "code",
      "source": [],
      "metadata": {
        "id": "4031-TVzT0Ws"
      },
      "execution_count": null,
      "outputs": []
    }
  ]
}