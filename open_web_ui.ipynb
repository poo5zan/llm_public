{
  "nbformat": 4,
  "nbformat_minor": 0,
  "metadata": {
    "colab": {
      "provenance": [],
      "gpuType": "T4",
      "include_colab_link": true
    },
    "kernelspec": {
      "name": "python3",
      "display_name": "Python 3"
    },
    "language_info": {
      "name": "python"
    },
    "accelerator": "GPU"
  },
  "cells": [
    {
      "cell_type": "markdown",
      "metadata": {
        "id": "view-in-github",
        "colab_type": "text"
      },
      "source": [
        "<a href=\"https://colab.research.google.com/github/poo5zan/llm_public/blob/main/open_web_ui.ipynb\" target=\"_parent\"><img src=\"https://colab.research.google.com/assets/colab-badge.svg\" alt=\"Open In Colab\"/></a>"
      ]
    },
    {
      "cell_type": "code",
      "execution_count": null,
      "metadata": {
        "id": "guUM0VUMSBP8"
      },
      "outputs": [],
      "source": [
        "print(\"Open Web UI\")"
      ]
    },
    {
      "cell_type": "markdown",
      "source": [
        "# Install Ollama\n"
      ],
      "metadata": {
        "id": "6IKpUMfasMXZ"
      }
    },
    {
      "cell_type": "code",
      "source": [
        "\n",
        "# Download and Start Ollama\n",
        "# The command to start ollama i.e 'ollama serve' has been started in a new process.\n",
        "# If you just run the command !ollama serve, then it will run the process in the main UI thread,\n",
        "# thus blocking everything. You can try that too, and then revert back to this process method\n",
        "!curl https://ollama.ai/install.sh | sh\n",
        "import subprocess\n",
        "process_serve = subprocess.Popen(\"ollama serve\", shell=True)"
      ],
      "metadata": {
        "id": "BBqHd2CMsO40"
      },
      "execution_count": null,
      "outputs": []
    },
    {
      "cell_type": "code",
      "source": [
        "!ollama pull llama3"
      ],
      "metadata": {
        "id": "tGxo4HOj1SOT"
      },
      "execution_count": null,
      "outputs": []
    },
    {
      "cell_type": "markdown",
      "source": [
        "# Expose a public URL to access"
      ],
      "metadata": {
        "id": "VizU50cfsU0T"
      }
    },
    {
      "cell_type": "code",
      "source": [
        "#bind the port 8888 and get a weblink to access\n",
        "from google.colab.output import eval_js\n",
        "print(eval_js(\"google.colab.kernel.proxyPort(8081)\"))"
      ],
      "metadata": {
        "id": "sbcRz7v7sUF-"
      },
      "execution_count": null,
      "outputs": []
    },
    {
      "cell_type": "code",
      "source": [
        "!pip install pyngrok"
      ],
      "metadata": {
        "id": "Bwa4Z1FMv_B5"
      },
      "execution_count": null,
      "outputs": []
    },
    {
      "cell_type": "code",
      "source": [
        "# !ngrok config add-authtoken <your-personal-token>\n",
        "# https://dashboard.ngrok.com/get-started/your-authtoken"
      ],
      "metadata": {
        "id": "EahjvA6yzK0r"
      },
      "execution_count": null,
      "outputs": []
    },
    {
      "cell_type": "code",
      "source": [
        "import os\n",
        "from pyngrok import ngrok\n",
        "public_url = ngrok.connect(8081).public_url\n",
        "print(\"public url \", public_url)"
      ],
      "metadata": {
        "id": "QWoGarY9vg66"
      },
      "execution_count": null,
      "outputs": []
    },
    {
      "cell_type": "markdown",
      "source": [
        "# Upgrade Python"
      ],
      "metadata": {
        "id": "euREaervrqu0"
      }
    },
    {
      "cell_type": "code",
      "source": [
        "%%shell\n",
        "python --version\n",
        "sudo apt-get update -y\n",
        "sudo apt-get install python3.11\n",
        "\n",
        "sudo update-alternatives --install /usr/bin/python3 python3 /usr/bin/python3.10 1\n",
        "sudo update-alternatives --install /usr/bin/python3 python3 /usr/bin/python3.11 2\n",
        "python --version\n",
        "curl https://bootstrap.pypa.io/get-pip.py -o get-pip.py\n",
        "python get-pip.py\n",
        "pip install virtualenv\n",
        "virtualenv pu_venv\n",
        "source /content/pu_venv/bin/activate; pip install open-webui\n",
        "source /content/pu_venv/bin/activate; open-webui serve --port 8081"
      ],
      "metadata": {
        "id": "yukWpl4ggSbz"
      },
      "execution_count": null,
      "outputs": []
    },
    {
      "cell_type": "code",
      "source": [],
      "metadata": {
        "id": "7ulYeqyfgqoB"
      },
      "execution_count": null,
      "outputs": []
    },
    {
      "cell_type": "code",
      "source": [],
      "metadata": {
        "id": "4031-TVzT0Ws"
      },
      "execution_count": null,
      "outputs": []
    }
  ]
}